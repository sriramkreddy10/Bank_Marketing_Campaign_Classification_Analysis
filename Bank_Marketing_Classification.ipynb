{
 "cells": [
  {
   "cell_type": "code",
   "execution_count": 203,
   "metadata": {},
   "outputs": [],
   "source": [
    "import pandas as pd\n",
    "import numpy as np\n",
    "import matplotlib.pyplot as plt\n",
    "import seaborn as sns\n",
    "from sklearn.model_selection import GridSearchCV\n",
    "from pandas.plotting import scatter_matrix\n",
    "from sklearn.preprocessing import MinMaxScaler\n",
    "from sklearn.model_selection import train_test_split\n",
    "from sklearn.neighbors import KNeighborsClassifier\n",
    "from sklearn.linear_model import SGDRegressor\n",
    "from  sklearn.preprocessing  import PolynomialFeatures\n",
    "from  sklearn.linear_model import Ridge\n",
    "from sklearn.linear_model import LogisticRegression\n",
    "from sklearn.preprocessing import StandardScaler\n",
    "from sklearn.linear_model import LinearRegression\n",
    "from sklearn import svm\n",
    "from sklearn.tree import DecisionTreeClassifier\n",
    "from sklearn import metrics\n",
    "import warnings\n",
    "from sklearn.svm import SVC\n",
    "from sklearn.linear_model import LogisticRegression\n",
    "from sklearn.model_selection import GridSearchCV, KFold, StratifiedKFold, cross_val_score\n",
    "from sklearn.metrics import recall_score\n",
    "from keras.models import Sequential\n",
    "from keras.layers import Dense\n",
    "from sklearn.metrics import roc_auc_score, roc_curve, auc"
   ]
  },
  {
   "cell_type": "markdown",
   "metadata": {},
   "source": [
    "# Data Preprocessing"
   ]
  },
  {
   "cell_type": "code",
   "execution_count": 2,
   "metadata": {},
   "outputs": [
    {
     "data": {
      "text/html": [
       "<div>\n",
       "<style scoped>\n",
       "    .dataframe tbody tr th:only-of-type {\n",
       "        vertical-align: middle;\n",
       "    }\n",
       "\n",
       "    .dataframe tbody tr th {\n",
       "        vertical-align: top;\n",
       "    }\n",
       "\n",
       "    .dataframe thead th {\n",
       "        text-align: right;\n",
       "    }\n",
       "</style>\n",
       "<table border=\"1\" class=\"dataframe\">\n",
       "  <thead>\n",
       "    <tr style=\"text-align: right;\">\n",
       "      <th></th>\n",
       "      <th>age</th>\n",
       "      <th>job</th>\n",
       "      <th>marital</th>\n",
       "      <th>education</th>\n",
       "      <th>default</th>\n",
       "      <th>housing</th>\n",
       "      <th>loan</th>\n",
       "      <th>contact</th>\n",
       "      <th>month</th>\n",
       "      <th>day_of_week</th>\n",
       "      <th>...</th>\n",
       "      <th>campaign</th>\n",
       "      <th>pdays</th>\n",
       "      <th>previous</th>\n",
       "      <th>poutcome</th>\n",
       "      <th>emp.var.rate</th>\n",
       "      <th>cons.price.idx</th>\n",
       "      <th>cons.conf.idx</th>\n",
       "      <th>euribor3m</th>\n",
       "      <th>nr.employed</th>\n",
       "      <th>y</th>\n",
       "    </tr>\n",
       "  </thead>\n",
       "  <tbody>\n",
       "    <tr>\n",
       "      <td>0</td>\n",
       "      <td>56</td>\n",
       "      <td>housemaid</td>\n",
       "      <td>married</td>\n",
       "      <td>basic.4y</td>\n",
       "      <td>no</td>\n",
       "      <td>no</td>\n",
       "      <td>no</td>\n",
       "      <td>telephone</td>\n",
       "      <td>may</td>\n",
       "      <td>mon</td>\n",
       "      <td>...</td>\n",
       "      <td>1</td>\n",
       "      <td>999</td>\n",
       "      <td>0</td>\n",
       "      <td>nonexistent</td>\n",
       "      <td>1.1</td>\n",
       "      <td>93.994</td>\n",
       "      <td>-36.4</td>\n",
       "      <td>4.857</td>\n",
       "      <td>5191.0</td>\n",
       "      <td>no</td>\n",
       "    </tr>\n",
       "    <tr>\n",
       "      <td>1</td>\n",
       "      <td>57</td>\n",
       "      <td>services</td>\n",
       "      <td>married</td>\n",
       "      <td>high.school</td>\n",
       "      <td>NaN</td>\n",
       "      <td>no</td>\n",
       "      <td>no</td>\n",
       "      <td>telephone</td>\n",
       "      <td>may</td>\n",
       "      <td>mon</td>\n",
       "      <td>...</td>\n",
       "      <td>1</td>\n",
       "      <td>999</td>\n",
       "      <td>0</td>\n",
       "      <td>nonexistent</td>\n",
       "      <td>1.1</td>\n",
       "      <td>93.994</td>\n",
       "      <td>-36.4</td>\n",
       "      <td>4.857</td>\n",
       "      <td>5191.0</td>\n",
       "      <td>no</td>\n",
       "    </tr>\n",
       "    <tr>\n",
       "      <td>2</td>\n",
       "      <td>37</td>\n",
       "      <td>services</td>\n",
       "      <td>married</td>\n",
       "      <td>high.school</td>\n",
       "      <td>no</td>\n",
       "      <td>yes</td>\n",
       "      <td>no</td>\n",
       "      <td>telephone</td>\n",
       "      <td>may</td>\n",
       "      <td>mon</td>\n",
       "      <td>...</td>\n",
       "      <td>1</td>\n",
       "      <td>999</td>\n",
       "      <td>0</td>\n",
       "      <td>nonexistent</td>\n",
       "      <td>1.1</td>\n",
       "      <td>93.994</td>\n",
       "      <td>-36.4</td>\n",
       "      <td>4.857</td>\n",
       "      <td>5191.0</td>\n",
       "      <td>no</td>\n",
       "    </tr>\n",
       "    <tr>\n",
       "      <td>3</td>\n",
       "      <td>40</td>\n",
       "      <td>admin.</td>\n",
       "      <td>married</td>\n",
       "      <td>basic.6y</td>\n",
       "      <td>no</td>\n",
       "      <td>no</td>\n",
       "      <td>no</td>\n",
       "      <td>telephone</td>\n",
       "      <td>may</td>\n",
       "      <td>mon</td>\n",
       "      <td>...</td>\n",
       "      <td>1</td>\n",
       "      <td>999</td>\n",
       "      <td>0</td>\n",
       "      <td>nonexistent</td>\n",
       "      <td>1.1</td>\n",
       "      <td>93.994</td>\n",
       "      <td>-36.4</td>\n",
       "      <td>4.857</td>\n",
       "      <td>5191.0</td>\n",
       "      <td>no</td>\n",
       "    </tr>\n",
       "    <tr>\n",
       "      <td>4</td>\n",
       "      <td>56</td>\n",
       "      <td>services</td>\n",
       "      <td>married</td>\n",
       "      <td>high.school</td>\n",
       "      <td>no</td>\n",
       "      <td>no</td>\n",
       "      <td>yes</td>\n",
       "      <td>telephone</td>\n",
       "      <td>may</td>\n",
       "      <td>mon</td>\n",
       "      <td>...</td>\n",
       "      <td>1</td>\n",
       "      <td>999</td>\n",
       "      <td>0</td>\n",
       "      <td>nonexistent</td>\n",
       "      <td>1.1</td>\n",
       "      <td>93.994</td>\n",
       "      <td>-36.4</td>\n",
       "      <td>4.857</td>\n",
       "      <td>5191.0</td>\n",
       "      <td>no</td>\n",
       "    </tr>\n",
       "    <tr>\n",
       "      <td>...</td>\n",
       "      <td>...</td>\n",
       "      <td>...</td>\n",
       "      <td>...</td>\n",
       "      <td>...</td>\n",
       "      <td>...</td>\n",
       "      <td>...</td>\n",
       "      <td>...</td>\n",
       "      <td>...</td>\n",
       "      <td>...</td>\n",
       "      <td>...</td>\n",
       "      <td>...</td>\n",
       "      <td>...</td>\n",
       "      <td>...</td>\n",
       "      <td>...</td>\n",
       "      <td>...</td>\n",
       "      <td>...</td>\n",
       "      <td>...</td>\n",
       "      <td>...</td>\n",
       "      <td>...</td>\n",
       "      <td>...</td>\n",
       "      <td>...</td>\n",
       "    </tr>\n",
       "    <tr>\n",
       "      <td>41183</td>\n",
       "      <td>73</td>\n",
       "      <td>retired</td>\n",
       "      <td>married</td>\n",
       "      <td>professional.course</td>\n",
       "      <td>no</td>\n",
       "      <td>yes</td>\n",
       "      <td>no</td>\n",
       "      <td>cellular</td>\n",
       "      <td>nov</td>\n",
       "      <td>fri</td>\n",
       "      <td>...</td>\n",
       "      <td>1</td>\n",
       "      <td>999</td>\n",
       "      <td>0</td>\n",
       "      <td>nonexistent</td>\n",
       "      <td>-1.1</td>\n",
       "      <td>94.767</td>\n",
       "      <td>-50.8</td>\n",
       "      <td>1.028</td>\n",
       "      <td>4963.6</td>\n",
       "      <td>yes</td>\n",
       "    </tr>\n",
       "    <tr>\n",
       "      <td>41184</td>\n",
       "      <td>46</td>\n",
       "      <td>blue-collar</td>\n",
       "      <td>married</td>\n",
       "      <td>professional.course</td>\n",
       "      <td>no</td>\n",
       "      <td>no</td>\n",
       "      <td>no</td>\n",
       "      <td>cellular</td>\n",
       "      <td>nov</td>\n",
       "      <td>fri</td>\n",
       "      <td>...</td>\n",
       "      <td>1</td>\n",
       "      <td>999</td>\n",
       "      <td>0</td>\n",
       "      <td>nonexistent</td>\n",
       "      <td>-1.1</td>\n",
       "      <td>94.767</td>\n",
       "      <td>-50.8</td>\n",
       "      <td>1.028</td>\n",
       "      <td>4963.6</td>\n",
       "      <td>no</td>\n",
       "    </tr>\n",
       "    <tr>\n",
       "      <td>41185</td>\n",
       "      <td>56</td>\n",
       "      <td>retired</td>\n",
       "      <td>married</td>\n",
       "      <td>university.degree</td>\n",
       "      <td>no</td>\n",
       "      <td>yes</td>\n",
       "      <td>no</td>\n",
       "      <td>cellular</td>\n",
       "      <td>nov</td>\n",
       "      <td>fri</td>\n",
       "      <td>...</td>\n",
       "      <td>2</td>\n",
       "      <td>999</td>\n",
       "      <td>0</td>\n",
       "      <td>nonexistent</td>\n",
       "      <td>-1.1</td>\n",
       "      <td>94.767</td>\n",
       "      <td>-50.8</td>\n",
       "      <td>1.028</td>\n",
       "      <td>4963.6</td>\n",
       "      <td>no</td>\n",
       "    </tr>\n",
       "    <tr>\n",
       "      <td>41186</td>\n",
       "      <td>44</td>\n",
       "      <td>technician</td>\n",
       "      <td>married</td>\n",
       "      <td>professional.course</td>\n",
       "      <td>no</td>\n",
       "      <td>no</td>\n",
       "      <td>no</td>\n",
       "      <td>cellular</td>\n",
       "      <td>nov</td>\n",
       "      <td>fri</td>\n",
       "      <td>...</td>\n",
       "      <td>1</td>\n",
       "      <td>999</td>\n",
       "      <td>0</td>\n",
       "      <td>nonexistent</td>\n",
       "      <td>-1.1</td>\n",
       "      <td>94.767</td>\n",
       "      <td>-50.8</td>\n",
       "      <td>1.028</td>\n",
       "      <td>4963.6</td>\n",
       "      <td>yes</td>\n",
       "    </tr>\n",
       "    <tr>\n",
       "      <td>41187</td>\n",
       "      <td>74</td>\n",
       "      <td>retired</td>\n",
       "      <td>married</td>\n",
       "      <td>professional.course</td>\n",
       "      <td>no</td>\n",
       "      <td>yes</td>\n",
       "      <td>no</td>\n",
       "      <td>cellular</td>\n",
       "      <td>nov</td>\n",
       "      <td>fri</td>\n",
       "      <td>...</td>\n",
       "      <td>3</td>\n",
       "      <td>999</td>\n",
       "      <td>1</td>\n",
       "      <td>failure</td>\n",
       "      <td>-1.1</td>\n",
       "      <td>94.767</td>\n",
       "      <td>-50.8</td>\n",
       "      <td>1.028</td>\n",
       "      <td>4963.6</td>\n",
       "      <td>no</td>\n",
       "    </tr>\n",
       "  </tbody>\n",
       "</table>\n",
       "<p>41188 rows × 21 columns</p>\n",
       "</div>"
      ],
      "text/plain": [
       "       age          job  marital            education default housing loan  \\\n",
       "0       56    housemaid  married             basic.4y      no      no   no   \n",
       "1       57     services  married          high.school     NaN      no   no   \n",
       "2       37     services  married          high.school      no     yes   no   \n",
       "3       40       admin.  married             basic.6y      no      no   no   \n",
       "4       56     services  married          high.school      no      no  yes   \n",
       "...    ...          ...      ...                  ...     ...     ...  ...   \n",
       "41183   73      retired  married  professional.course      no     yes   no   \n",
       "41184   46  blue-collar  married  professional.course      no      no   no   \n",
       "41185   56      retired  married    university.degree      no     yes   no   \n",
       "41186   44   technician  married  professional.course      no      no   no   \n",
       "41187   74      retired  married  professional.course      no     yes   no   \n",
       "\n",
       "         contact month day_of_week  ...  campaign  pdays  previous  \\\n",
       "0      telephone   may         mon  ...         1    999         0   \n",
       "1      telephone   may         mon  ...         1    999         0   \n",
       "2      telephone   may         mon  ...         1    999         0   \n",
       "3      telephone   may         mon  ...         1    999         0   \n",
       "4      telephone   may         mon  ...         1    999         0   \n",
       "...          ...   ...         ...  ...       ...    ...       ...   \n",
       "41183   cellular   nov         fri  ...         1    999         0   \n",
       "41184   cellular   nov         fri  ...         1    999         0   \n",
       "41185   cellular   nov         fri  ...         2    999         0   \n",
       "41186   cellular   nov         fri  ...         1    999         0   \n",
       "41187   cellular   nov         fri  ...         3    999         1   \n",
       "\n",
       "          poutcome emp.var.rate  cons.price.idx  cons.conf.idx  euribor3m  \\\n",
       "0      nonexistent          1.1          93.994          -36.4      4.857   \n",
       "1      nonexistent          1.1          93.994          -36.4      4.857   \n",
       "2      nonexistent          1.1          93.994          -36.4      4.857   \n",
       "3      nonexistent          1.1          93.994          -36.4      4.857   \n",
       "4      nonexistent          1.1          93.994          -36.4      4.857   \n",
       "...            ...          ...             ...            ...        ...   \n",
       "41183  nonexistent         -1.1          94.767          -50.8      1.028   \n",
       "41184  nonexistent         -1.1          94.767          -50.8      1.028   \n",
       "41185  nonexistent         -1.1          94.767          -50.8      1.028   \n",
       "41186  nonexistent         -1.1          94.767          -50.8      1.028   \n",
       "41187      failure         -1.1          94.767          -50.8      1.028   \n",
       "\n",
       "       nr.employed    y  \n",
       "0           5191.0   no  \n",
       "1           5191.0   no  \n",
       "2           5191.0   no  \n",
       "3           5191.0   no  \n",
       "4           5191.0   no  \n",
       "...            ...  ...  \n",
       "41183       4963.6  yes  \n",
       "41184       4963.6   no  \n",
       "41185       4963.6   no  \n",
       "41186       4963.6  yes  \n",
       "41187       4963.6   no  \n",
       "\n",
       "[41188 rows x 21 columns]"
      ]
     },
     "execution_count": 2,
     "metadata": {},
     "output_type": "execute_result"
    }
   ],
   "source": [
    "missing_values = [\"n/a\", \"na\", \"unknown\"]\n",
    "bank = pd.read_csv('bank-additional-full.csv', na_values = missing_values)\n",
    "bank"
   ]
  },
  {
   "cell_type": "markdown",
   "metadata": {},
   "source": [
    "## Attribute Info\n",
    "Bank client data:\n",
    "1. Age (numeric)\n",
    "2. Job : type of job (categorical: 'admin.', 'blue-collar', 'entrepreneur', 'housemaid', 'management', 'retired', 'self-employed', 'services', 'student', 'technician', 'unemployed', 'unknown')\n",
    "3. Marital : marital status (categorical: 'divorced', 'married', 'single', 'unknown' ; note: 'divorced' means divorced or widowed)\n",
    "4. Education (categorical: 'basic.4y', 'basic.6y', 'basic.9y', 'high.school', 'illiterate', 'professional.course', 'university.degree', 'unknown')\n",
    "5. Default: has credit in default? (categorical: 'no', 'yes', 'unknown')\n",
    "6. Housing: has housing loan? (categorical: 'no', 'yes', 'unknown')\n",
    "7. Loan: has personal loan? (categorical: 'no', 'yes', 'unknown')\n",
    "8. Contact: contact communication type (categorical:\n",
    "'cellular','telephone')\n",
    "9. Month: last contact month of year (categorical: 'jan', 'feb', 'mar',\n",
    "…, 'nov', 'dec')\n",
    "10. Dayofweek: last contact day of the week (categorical:\n",
    "'mon','tue','wed','thu','fri')\n",
    "11. Duration: last contact duration, in seconds (numeric). Important\n",
    "note: this attribute highly affects the output target (e.g., if\n",
    "duration=0 then y='no'). Yet, the duration is not known before a call\n",
    "is performed. Also, after the end of the call y is obviously known.\n",
    "Thus, this input should only be included for benchmark purposes and\n",
    "should be discarded if the intention is to have a realistic\n",
    "predictive model.\n",
    "12. Campaign: number of contacts performed during this campaign and for\n",
    "this client (numeric, includes last contact)\n",
    "13. Pdays: number of days that passed by after the client was last\n",
    "contacted from a previous campaign (numeric; 999 means client was not\n",
    "previously contacted)\n",
    "14. Previous: number of contacts performed before this campaign and for\n",
    "this client (numeric)\n",
    "15. Poutcome: outcome of the previous marketing campaign (categorical:\n",
    "'failure','nonexistent','success')\n",
    "Social and economic context attributes\n",
    "16. Emp.var.rate: employment variation rate - quarterly indicator\n",
    "(numeric)\n",
    "17. Cons.price.idx: consumer price index - monthly indicator (numeric)\n",
    "18. Cons.conf.idx: consumer confidence index - monthly indicator\n",
    "(numeric)\n",
    "19. Euribor3m: euribor 3 month rate - daily indicator (numeric)\n",
    "20.  Nr.employed: number of employees - quarterly indicator (numeric)\n",
    "Output variable (desired target):\n",
    "21. y - has the client subscribed a term deposit? (binary: 'yes', 'no')\n",
    "\n",
    "\n"
   ]
  },
  {
   "cell_type": "code",
   "execution_count": 3,
   "metadata": {},
   "outputs": [
    {
     "data": {
      "text/plain": [
       "age                  0\n",
       "job                330\n",
       "marital             80\n",
       "education         1731\n",
       "default           8597\n",
       "housing            990\n",
       "loan               990\n",
       "contact              0\n",
       "month                0\n",
       "day_of_week          0\n",
       "duration             0\n",
       "campaign             0\n",
       "pdays                0\n",
       "previous             0\n",
       "poutcome             0\n",
       "emp.var.rate         0\n",
       "cons.price.idx       0\n",
       "cons.conf.idx        0\n",
       "euribor3m            0\n",
       "nr.employed          0\n",
       "y                    0\n",
       "dtype: int64"
      ]
     },
     "execution_count": 3,
     "metadata": {},
     "output_type": "execute_result"
    }
   ],
   "source": [
    "bank.isnull().sum()"
   ]
  },
  {
   "cell_type": "code",
   "execution_count": 4,
   "metadata": {},
   "outputs": [
    {
     "data": {
      "text/plain": [
       "Index(['age', 'job', 'marital', 'education', 'default', 'housing', 'loan',\n",
       "       'contact', 'month', 'day_of_week', 'duration', 'campaign', 'pdays',\n",
       "       'previous', 'poutcome', 'emp.var.rate', 'cons.price.idx',\n",
       "       'cons.conf.idx', 'euribor3m', 'nr.employed', 'y'],\n",
       "      dtype='object')"
      ]
     },
     "execution_count": 4,
     "metadata": {},
     "output_type": "execute_result"
    }
   ],
   "source": [
    "bank.columns"
   ]
  },
  {
   "cell_type": "code",
   "execution_count": 5,
   "metadata": {},
   "outputs": [
    {
     "name": "stdout",
     "output_type": "stream",
     "text": [
      "[56 57 37 40 45 59 41 24 25 29 35 54 46 50 39 30 55 49 34 52 58 32 38 44\n",
      " 42 60 53 47 51 48 33 31 43 36 28 27 26 22 23 20 21 61 19 18 70 66 76 67\n",
      " 73 88 95 77 68 75 63 80 62 65 72 82 64 71 69 78 85 79 83 81 74 17 87 91\n",
      " 86 98 94 84 92 89]\n"
     ]
    },
    {
     "data": {
      "text/plain": [
       "78"
      ]
     },
     "execution_count": 5,
     "metadata": {},
     "output_type": "execute_result"
    }
   ],
   "source": [
    "print(bank.age.unique())\n",
    "bank.age.nunique()"
   ]
  },
  {
   "cell_type": "code",
   "execution_count": 6,
   "metadata": {},
   "outputs": [
    {
     "data": {
      "text/html": [
       "<div>\n",
       "<style scoped>\n",
       "    .dataframe tbody tr th:only-of-type {\n",
       "        vertical-align: middle;\n",
       "    }\n",
       "\n",
       "    .dataframe tbody tr th {\n",
       "        vertical-align: top;\n",
       "    }\n",
       "\n",
       "    .dataframe thead th {\n",
       "        text-align: right;\n",
       "    }\n",
       "</style>\n",
       "<table border=\"1\" class=\"dataframe\">\n",
       "  <thead>\n",
       "    <tr style=\"text-align: right;\">\n",
       "      <th></th>\n",
       "      <th>age</th>\n",
       "      <th>duration</th>\n",
       "      <th>campaign</th>\n",
       "      <th>pdays</th>\n",
       "      <th>previous</th>\n",
       "      <th>emp.var.rate</th>\n",
       "      <th>cons.price.idx</th>\n",
       "      <th>cons.conf.idx</th>\n",
       "      <th>euribor3m</th>\n",
       "      <th>nr.employed</th>\n",
       "    </tr>\n",
       "  </thead>\n",
       "  <tbody>\n",
       "    <tr>\n",
       "      <td>count</td>\n",
       "      <td>41188.00000</td>\n",
       "      <td>41188.000000</td>\n",
       "      <td>41188.000000</td>\n",
       "      <td>41188.000000</td>\n",
       "      <td>41188.000000</td>\n",
       "      <td>41188.000000</td>\n",
       "      <td>41188.000000</td>\n",
       "      <td>41188.000000</td>\n",
       "      <td>41188.000000</td>\n",
       "      <td>41188.000000</td>\n",
       "    </tr>\n",
       "    <tr>\n",
       "      <td>mean</td>\n",
       "      <td>40.02406</td>\n",
       "      <td>258.285010</td>\n",
       "      <td>2.567593</td>\n",
       "      <td>962.475454</td>\n",
       "      <td>0.172963</td>\n",
       "      <td>0.081886</td>\n",
       "      <td>93.575664</td>\n",
       "      <td>-40.502600</td>\n",
       "      <td>3.621291</td>\n",
       "      <td>5167.035911</td>\n",
       "    </tr>\n",
       "    <tr>\n",
       "      <td>std</td>\n",
       "      <td>10.42125</td>\n",
       "      <td>259.279249</td>\n",
       "      <td>2.770014</td>\n",
       "      <td>186.910907</td>\n",
       "      <td>0.494901</td>\n",
       "      <td>1.570960</td>\n",
       "      <td>0.578840</td>\n",
       "      <td>4.628198</td>\n",
       "      <td>1.734447</td>\n",
       "      <td>72.251528</td>\n",
       "    </tr>\n",
       "    <tr>\n",
       "      <td>min</td>\n",
       "      <td>17.00000</td>\n",
       "      <td>0.000000</td>\n",
       "      <td>1.000000</td>\n",
       "      <td>0.000000</td>\n",
       "      <td>0.000000</td>\n",
       "      <td>-3.400000</td>\n",
       "      <td>92.201000</td>\n",
       "      <td>-50.800000</td>\n",
       "      <td>0.634000</td>\n",
       "      <td>4963.600000</td>\n",
       "    </tr>\n",
       "    <tr>\n",
       "      <td>25%</td>\n",
       "      <td>32.00000</td>\n",
       "      <td>102.000000</td>\n",
       "      <td>1.000000</td>\n",
       "      <td>999.000000</td>\n",
       "      <td>0.000000</td>\n",
       "      <td>-1.800000</td>\n",
       "      <td>93.075000</td>\n",
       "      <td>-42.700000</td>\n",
       "      <td>1.344000</td>\n",
       "      <td>5099.100000</td>\n",
       "    </tr>\n",
       "    <tr>\n",
       "      <td>50%</td>\n",
       "      <td>38.00000</td>\n",
       "      <td>180.000000</td>\n",
       "      <td>2.000000</td>\n",
       "      <td>999.000000</td>\n",
       "      <td>0.000000</td>\n",
       "      <td>1.100000</td>\n",
       "      <td>93.749000</td>\n",
       "      <td>-41.800000</td>\n",
       "      <td>4.857000</td>\n",
       "      <td>5191.000000</td>\n",
       "    </tr>\n",
       "    <tr>\n",
       "      <td>75%</td>\n",
       "      <td>47.00000</td>\n",
       "      <td>319.000000</td>\n",
       "      <td>3.000000</td>\n",
       "      <td>999.000000</td>\n",
       "      <td>0.000000</td>\n",
       "      <td>1.400000</td>\n",
       "      <td>93.994000</td>\n",
       "      <td>-36.400000</td>\n",
       "      <td>4.961000</td>\n",
       "      <td>5228.100000</td>\n",
       "    </tr>\n",
       "    <tr>\n",
       "      <td>max</td>\n",
       "      <td>98.00000</td>\n",
       "      <td>4918.000000</td>\n",
       "      <td>56.000000</td>\n",
       "      <td>999.000000</td>\n",
       "      <td>7.000000</td>\n",
       "      <td>1.400000</td>\n",
       "      <td>94.767000</td>\n",
       "      <td>-26.900000</td>\n",
       "      <td>5.045000</td>\n",
       "      <td>5228.100000</td>\n",
       "    </tr>\n",
       "  </tbody>\n",
       "</table>\n",
       "</div>"
      ],
      "text/plain": [
       "               age      duration      campaign         pdays      previous  \\\n",
       "count  41188.00000  41188.000000  41188.000000  41188.000000  41188.000000   \n",
       "mean      40.02406    258.285010      2.567593    962.475454      0.172963   \n",
       "std       10.42125    259.279249      2.770014    186.910907      0.494901   \n",
       "min       17.00000      0.000000      1.000000      0.000000      0.000000   \n",
       "25%       32.00000    102.000000      1.000000    999.000000      0.000000   \n",
       "50%       38.00000    180.000000      2.000000    999.000000      0.000000   \n",
       "75%       47.00000    319.000000      3.000000    999.000000      0.000000   \n",
       "max       98.00000   4918.000000     56.000000    999.000000      7.000000   \n",
       "\n",
       "       emp.var.rate  cons.price.idx  cons.conf.idx     euribor3m   nr.employed  \n",
       "count  41188.000000    41188.000000   41188.000000  41188.000000  41188.000000  \n",
       "mean       0.081886       93.575664     -40.502600      3.621291   5167.035911  \n",
       "std        1.570960        0.578840       4.628198      1.734447     72.251528  \n",
       "min       -3.400000       92.201000     -50.800000      0.634000   4963.600000  \n",
       "25%       -1.800000       93.075000     -42.700000      1.344000   5099.100000  \n",
       "50%        1.100000       93.749000     -41.800000      4.857000   5191.000000  \n",
       "75%        1.400000       93.994000     -36.400000      4.961000   5228.100000  \n",
       "max        1.400000       94.767000     -26.900000      5.045000   5228.100000  "
      ]
     },
     "execution_count": 6,
     "metadata": {},
     "output_type": "execute_result"
    }
   ],
   "source": [
    "bank.describe()"
   ]
  },
  {
   "cell_type": "code",
   "execution_count": 7,
   "metadata": {},
   "outputs": [
    {
     "name": "stdout",
     "output_type": "stream",
     "text": [
      "<class 'pandas.core.frame.DataFrame'>\n",
      "RangeIndex: 41188 entries, 0 to 41187\n",
      "Data columns (total 21 columns):\n",
      "age               41188 non-null int64\n",
      "job               40858 non-null object\n",
      "marital           41108 non-null object\n",
      "education         39457 non-null object\n",
      "default           32591 non-null object\n",
      "housing           40198 non-null object\n",
      "loan              40198 non-null object\n",
      "contact           41188 non-null object\n",
      "month             41188 non-null object\n",
      "day_of_week       41188 non-null object\n",
      "duration          41188 non-null int64\n",
      "campaign          41188 non-null int64\n",
      "pdays             41188 non-null int64\n",
      "previous          41188 non-null int64\n",
      "poutcome          41188 non-null object\n",
      "emp.var.rate      41188 non-null float64\n",
      "cons.price.idx    41188 non-null float64\n",
      "cons.conf.idx     41188 non-null float64\n",
      "euribor3m         41188 non-null float64\n",
      "nr.employed       41188 non-null float64\n",
      "y                 41188 non-null object\n",
      "dtypes: float64(5), int64(5), object(11)\n",
      "memory usage: 6.6+ MB\n"
     ]
    }
   ],
   "source": [
    "bank.info()"
   ]
  },
  {
   "cell_type": "code",
   "execution_count": 8,
   "metadata": {},
   "outputs": [
    {
     "data": {
      "text/html": [
       "<div>\n",
       "<style scoped>\n",
       "    .dataframe tbody tr th:only-of-type {\n",
       "        vertical-align: middle;\n",
       "    }\n",
       "\n",
       "    .dataframe tbody tr th {\n",
       "        vertical-align: top;\n",
       "    }\n",
       "\n",
       "    .dataframe thead th {\n",
       "        text-align: right;\n",
       "    }\n",
       "</style>\n",
       "<table border=\"1\" class=\"dataframe\">\n",
       "  <thead>\n",
       "    <tr style=\"text-align: right;\">\n",
       "      <th></th>\n",
       "      <th>job</th>\n",
       "      <th>marital</th>\n",
       "      <th>education</th>\n",
       "      <th>default</th>\n",
       "      <th>housing</th>\n",
       "      <th>loan</th>\n",
       "      <th>contact</th>\n",
       "      <th>month</th>\n",
       "      <th>day_of_week</th>\n",
       "      <th>poutcome</th>\n",
       "      <th>y</th>\n",
       "    </tr>\n",
       "  </thead>\n",
       "  <tbody>\n",
       "    <tr>\n",
       "      <td>count</td>\n",
       "      <td>40858</td>\n",
       "      <td>41108</td>\n",
       "      <td>39457</td>\n",
       "      <td>32591</td>\n",
       "      <td>40198</td>\n",
       "      <td>40198</td>\n",
       "      <td>41188</td>\n",
       "      <td>41188</td>\n",
       "      <td>41188</td>\n",
       "      <td>41188</td>\n",
       "      <td>41188</td>\n",
       "    </tr>\n",
       "    <tr>\n",
       "      <td>unique</td>\n",
       "      <td>11</td>\n",
       "      <td>3</td>\n",
       "      <td>7</td>\n",
       "      <td>2</td>\n",
       "      <td>2</td>\n",
       "      <td>2</td>\n",
       "      <td>2</td>\n",
       "      <td>10</td>\n",
       "      <td>5</td>\n",
       "      <td>3</td>\n",
       "      <td>2</td>\n",
       "    </tr>\n",
       "    <tr>\n",
       "      <td>top</td>\n",
       "      <td>admin.</td>\n",
       "      <td>married</td>\n",
       "      <td>university.degree</td>\n",
       "      <td>no</td>\n",
       "      <td>yes</td>\n",
       "      <td>no</td>\n",
       "      <td>cellular</td>\n",
       "      <td>may</td>\n",
       "      <td>thu</td>\n",
       "      <td>nonexistent</td>\n",
       "      <td>no</td>\n",
       "    </tr>\n",
       "    <tr>\n",
       "      <td>freq</td>\n",
       "      <td>10422</td>\n",
       "      <td>24928</td>\n",
       "      <td>12168</td>\n",
       "      <td>32588</td>\n",
       "      <td>21576</td>\n",
       "      <td>33950</td>\n",
       "      <td>26144</td>\n",
       "      <td>13769</td>\n",
       "      <td>8623</td>\n",
       "      <td>35563</td>\n",
       "      <td>36548</td>\n",
       "    </tr>\n",
       "  </tbody>\n",
       "</table>\n",
       "</div>"
      ],
      "text/plain": [
       "           job  marital          education default housing   loan   contact  \\\n",
       "count    40858    41108              39457   32591   40198  40198     41188   \n",
       "unique      11        3                  7       2       2      2         2   \n",
       "top     admin.  married  university.degree      no     yes     no  cellular   \n",
       "freq     10422    24928              12168   32588   21576  33950     26144   \n",
       "\n",
       "        month day_of_week     poutcome      y  \n",
       "count   41188       41188        41188  41188  \n",
       "unique     10           5            3      2  \n",
       "top       may         thu  nonexistent     no  \n",
       "freq    13769        8623        35563  36548  "
      ]
     },
     "execution_count": 8,
     "metadata": {},
     "output_type": "execute_result"
    }
   ],
   "source": [
    "bank.describe(include=['O'])"
   ]
  },
  {
   "cell_type": "code",
   "execution_count": 9,
   "metadata": {},
   "outputs": [
    {
     "data": {
      "text/plain": [
       "<matplotlib.axes._subplots.AxesSubplot at 0x1ebfd2ae608>"
      ]
     },
     "execution_count": 9,
     "metadata": {},
     "output_type": "execute_result"
    },
    {
     "data": {
      "image/png": "[encoded data removed]",
      "text/plain": [
       "<Figure size 432x288 with 1 Axes>"
      ]
     },
     "metadata": {
      "needs_background": "light"
     },
     "output_type": "display_data"
    }
   ],
   "source": [
    "import matplotlib.pyplot\n",
    "%matplotlib inline\n",
    "count_plt = sns.countplot(x=\"job\",data=bank, palette = \"Set1\")\n",
    "count_plt.set_xticklabels(count_plt.get_xticklabels(), rotation=90, ha=\"right\")\n",
    "count_plt \n",
    "#plt.title('Count of app in each category',size = 20)"
   ]
  },
  {
   "cell_type": "code",
   "execution_count": 10,
   "metadata": {},
   "outputs": [
    {
     "data": {
      "text/plain": [
       "<matplotlib.axes._subplots.AxesSubplot at 0x1ebfd78ca48>"
      ]
     },
     "execution_count": 10,
     "metadata": {},
     "output_type": "execute_result"
    },
    {
     "data": {
      "image/png": "[encoded data removed]",
      "text/plain": [
       "<Figure size 432x288 with 1 Axes>"
      ]
     },
     "metadata": {
      "needs_background": "light"
     },
     "output_type": "display_data"
    }
   ],
   "source": [
    "count_plt = sns.countplot(x=\"marital\",data=bank, palette = \"Set1\")\n",
    "count_plt.set_xticklabels(count_plt.get_xticklabels(), rotation=90, ha=\"right\")\n",
    "count_plt"
   ]
  },
  {
   "cell_type": "code",
   "execution_count": 11,
   "metadata": {},
   "outputs": [
    {
     "data": {
      "text/plain": [
       "<matplotlib.axes._subplots.AxesSubplot at 0x1ebfdbc7548>"
      ]
     },
     "execution_count": 11,
     "metadata": {},
     "output_type": "execute_result"
    },
    {
     "data": {
      "image/png": "[encoded data removed]",
      "text/plain": [
       "<Figure size 432x288 with 1 Axes>"
      ]
     },
     "metadata": {
      "needs_background": "light"
     },
     "output_type": "display_data"
    }
   ],
   "source": [
    "count_plt = sns.countplot(x=\"education\",data=bank, palette = \"Set1\")\n",
    "count_plt.set_xticklabels(count_plt.get_xticklabels(), rotation=90, ha=\"right\")\n",
    "count_plt"
   ]
  },
  {
   "cell_type": "code",
   "execution_count": 12,
   "metadata": {},
   "outputs": [
    {
     "data": {
      "text/plain": [
       "<matplotlib.axes._subplots.AxesSubplot at 0x1ebfdbc1b08>"
      ]
     },
     "execution_count": 12,
     "metadata": {},
     "output_type": "execute_result"
    },
    {
     "data": {
      "image/png": "[encoded data removed]",
      "text/plain": [
       "<Figure size 432x288 with 1 Axes>"
      ]
     },
     "metadata": {
      "needs_background": "light"
     },
     "output_type": "display_data"
    }
   ],
   "source": [
    "count_plt = sns.countplot(x=\"default\",data=bank, palette = \"Set1\")\n",
    "count_plt.set_xticklabels(count_plt.get_xticklabels(), rotation=90, ha=\"right\")\n",
    "count_plt"
   ]
  },
  {
   "cell_type": "code",
   "execution_count": 13,
   "metadata": {},
   "outputs": [],
   "source": [
    "#drop default column\n",
    "bank = bank.drop(['default'], axis = 1)\n",
    "#As only three values are yes and the remaing values are No there would not be impactful in building the model."
   ]
  },
  {
   "cell_type": "code",
   "execution_count": 14,
   "metadata": {},
   "outputs": [
    {
     "data": {
      "text/plain": [
       "age                  0\n",
       "job                330\n",
       "marital             80\n",
       "education         1731\n",
       "housing            990\n",
       "loan               990\n",
       "contact              0\n",
       "month                0\n",
       "day_of_week          0\n",
       "duration             0\n",
       "campaign             0\n",
       "pdays                0\n",
       "previous             0\n",
       "poutcome             0\n",
       "emp.var.rate         0\n",
       "cons.price.idx       0\n",
       "cons.conf.idx        0\n",
       "euribor3m            0\n",
       "nr.employed          0\n",
       "y                    0\n",
       "dtype: int64"
      ]
     },
     "execution_count": 14,
     "metadata": {},
     "output_type": "execute_result"
    }
   ],
   "source": [
    "bank.isnull().sum()"
   ]
  },
  {
   "cell_type": "code",
   "execution_count": 15,
   "metadata": {},
   "outputs": [
    {
     "data": {
      "text/plain": [
       "<matplotlib.axes._subplots.AxesSubplot at 0x1ebfdca93c8>"
      ]
     },
     "execution_count": 15,
     "metadata": {},
     "output_type": "execute_result"
    },
    {
     "data": {
      "image/png": "[encoded data removed]",
      "text/plain": [
       "<Figure size 432x288 with 1 Axes>"
      ]
     },
     "metadata": {
      "needs_background": "light"
     },
     "output_type": "display_data"
    }
   ],
   "source": [
    "count_plt = sns.countplot(x=\"month\",data=bank, palette = \"Set1\")\n",
    "count_plt.set_xticklabels(count_plt.get_xticklabels(), rotation=90, ha=\"right\")\n",
    "count_plt"
   ]
  },
  {
   "cell_type": "code",
   "execution_count": 16,
   "metadata": {},
   "outputs": [
    {
     "data": {
      "text/plain": [
       "<matplotlib.axes._subplots.AxesSubplot at 0x1ebfe1f4908>"
      ]
     },
     "execution_count": 16,
     "metadata": {},
     "output_type": "execute_result"
    },
    {
     "data": {
      "image/png": "[encoded data removed]",
      "text/plain": [
       "<Figure size 432x288 with 1 Axes>"
      ]
     },
     "metadata": {
      "needs_background": "light"
     },
     "output_type": "display_data"
    }
   ],
   "source": [
    "count_plt = sns.countplot(x=\"poutcome\",data=bank, palette = \"Set1\")\n",
    "count_plt.set_xticklabels(count_plt.get_xticklabels(), rotation=90, ha=\"right\")\n",
    "count_plt"
   ]
  },
  {
   "cell_type": "code",
   "execution_count": 17,
   "metadata": {
    "scrolled": true
   },
   "outputs": [
    {
     "data": {
      "text/plain": [
       "<matplotlib.axes._subplots.AxesSubplot at 0x1ebfe2537c8>"
      ]
     },
     "execution_count": 17,
     "metadata": {},
     "output_type": "execute_result"
    },
    {
     "data": {
      "image/png": "[encoded data removed]",
      "text/plain": [
       "<Figure size 432x288 with 1 Axes>"
      ]
     },
     "metadata": {
      "needs_background": "light"
     },
     "output_type": "display_data"
    }
   ],
   "source": [
    "count_plt = sns.countplot(x=\"housing\",data=bank, palette = \"Set1\")\n",
    "count_plt.set_xticklabels(count_plt.get_xticklabels(), rotation=90, ha=\"right\")\n",
    "count_plt"
   ]
  },
  {
   "cell_type": "code",
   "execution_count": 18,
   "metadata": {},
   "outputs": [
    {
     "data": {
      "text/plain": [
       "<matplotlib.axes._subplots.AxesSubplot at 0x1ebfe2ac148>"
      ]
     },
     "execution_count": 18,
     "metadata": {},
     "output_type": "execute_result"
    },
    {
     "data": {
      "image/png": "[encoded data removed]",
      "text/plain": [
       "<Figure size 432x288 with 1 Axes>"
      ]
     },
     "metadata": {
      "needs_background": "light"
     },
     "output_type": "display_data"
    }
   ],
   "source": [
    "count_plt = sns.countplot(x=\"loan\",data=bank, palette = \"Set1\")\n",
    "count_plt.set_xticklabels(count_plt.get_xticklabels(), rotation=90, ha=\"right\")\n",
    "count_plt"
   ]
  },
  {
   "cell_type": "markdown",
   "metadata": {},
   "source": []
  },
  {
   "cell_type": "code",
   "execution_count": 19,
   "metadata": {},
   "outputs": [
    {
     "name": "stdout",
     "output_type": "stream",
     "text": [
      "['housemaid' 'services' 'admin.' 'blue-collar' 'technician' 'retired'\n",
      " 'management' 'unemployed' 'self-employed' nan 'entrepreneur' 'student']\n",
      "11\n",
      " \n",
      "['married' 'single' 'divorced' nan]\n",
      "3\n",
      " \n",
      "['basic.4y' 'high.school' 'basic.6y' 'basic.9y' 'professional.course' nan\n",
      " 'university.degree' 'illiterate']\n",
      "7\n",
      " \n",
      "['no' 'yes' nan]\n",
      "2\n",
      " \n",
      "['no' 'yes' nan]\n",
      "2\n",
      " \n"
     ]
    }
   ],
   "source": [
    "cols = ['job','marital','education','housing','loan']\n",
    "for i in cols:\n",
    "    print(bank[i].unique())\n",
    "    print(bank[i].nunique())\n",
    "    print(' ')"
   ]
  },
  {
   "cell_type": "code",
   "execution_count": 20,
   "metadata": {},
   "outputs": [
    {
     "name": "stdout",
     "output_type": "stream",
     "text": [
      "job\n",
      "admin.           10422\n",
      "blue-collar       9254\n",
      "technician        6743\n",
      "services          3969\n",
      "management        2924\n",
      "retired           1720\n",
      "entrepreneur      1456\n",
      "self-employed     1421\n",
      "housemaid         1060\n",
      "unemployed        1014\n",
      "student            875\n",
      "Name: job, dtype: int64\n",
      " \n",
      "marital\n",
      "married     24928\n",
      "single      11568\n",
      "divorced     4612\n",
      "Name: marital, dtype: int64\n",
      " \n",
      "education\n",
      "university.degree      12168\n",
      "high.school             9515\n",
      "basic.9y                6045\n",
      "professional.course     5243\n",
      "basic.4y                4176\n",
      "basic.6y                2292\n",
      "illiterate                18\n",
      "Name: education, dtype: int64\n",
      " \n",
      "housing\n",
      "yes    21576\n",
      "no     18622\n",
      "Name: housing, dtype: int64\n",
      " \n",
      "loan\n",
      "no     33950\n",
      "yes     6248\n",
      "Name: loan, dtype: int64\n",
      " \n"
     ]
    }
   ],
   "source": [
    "cols = ['job','marital','education','housing','loan']\n",
    "for i in cols:\n",
    "    print(i)\n",
    "    print(bank[i].value_counts())\n",
    "    print(' ')"
   ]
  },
  {
   "cell_type": "code",
   "execution_count": 21,
   "metadata": {},
   "outputs": [
    {
     "data": {
      "text/plain": [
       "age                  0\n",
       "job                330\n",
       "marital             80\n",
       "education         1731\n",
       "housing            990\n",
       "loan               990\n",
       "contact              0\n",
       "month                0\n",
       "day_of_week          0\n",
       "duration             0\n",
       "campaign             0\n",
       "pdays                0\n",
       "previous             0\n",
       "poutcome             0\n",
       "emp.var.rate         0\n",
       "cons.price.idx       0\n",
       "cons.conf.idx        0\n",
       "euribor3m            0\n",
       "nr.employed          0\n",
       "y                    0\n",
       "dtype: int64"
      ]
     },
     "execution_count": 21,
     "metadata": {},
     "output_type": "execute_result"
    }
   ],
   "source": [
    "bank.isnull().sum()"
   ]
  },
  {
   "cell_type": "markdown",
   "metadata": {},
   "source": [
    "##### Replacing the missing values with Mode will induce bias into the model. THe mode of the respective 5 columns has very huge difference compared to the other values of the respective columns, so replacing them with mode is not appropriate. \n",
    "##### Missing values constitute about 8% of the total data. leaving us with 92 % clean data."
   ]
  },
  {
   "cell_type": "code",
   "execution_count": 22,
   "metadata": {},
   "outputs": [
    {
     "data": {
      "text/html": [
       "<div>\n",
       "<style scoped>\n",
       "    .dataframe tbody tr th:only-of-type {\n",
       "        vertical-align: middle;\n",
       "    }\n",
       "\n",
       "    .dataframe tbody tr th {\n",
       "        vertical-align: top;\n",
       "    }\n",
       "\n",
       "    .dataframe thead th {\n",
       "        text-align: right;\n",
       "    }\n",
       "</style>\n",
       "<table border=\"1\" class=\"dataframe\">\n",
       "  <thead>\n",
       "    <tr style=\"text-align: right;\">\n",
       "      <th></th>\n",
       "      <th>age</th>\n",
       "      <th>job</th>\n",
       "      <th>marital</th>\n",
       "      <th>education</th>\n",
       "      <th>housing</th>\n",
       "      <th>loan</th>\n",
       "      <th>contact</th>\n",
       "      <th>month</th>\n",
       "      <th>day_of_week</th>\n",
       "      <th>duration</th>\n",
       "      <th>campaign</th>\n",
       "      <th>pdays</th>\n",
       "      <th>previous</th>\n",
       "      <th>poutcome</th>\n",
       "      <th>emp.var.rate</th>\n",
       "      <th>cons.price.idx</th>\n",
       "      <th>cons.conf.idx</th>\n",
       "      <th>euribor3m</th>\n",
       "      <th>nr.employed</th>\n",
       "      <th>y</th>\n",
       "    </tr>\n",
       "  </thead>\n",
       "  <tbody>\n",
       "    <tr>\n",
       "      <td>0</td>\n",
       "      <td>56</td>\n",
       "      <td>housemaid</td>\n",
       "      <td>married</td>\n",
       "      <td>basic.4y</td>\n",
       "      <td>no</td>\n",
       "      <td>no</td>\n",
       "      <td>telephone</td>\n",
       "      <td>may</td>\n",
       "      <td>mon</td>\n",
       "      <td>261</td>\n",
       "      <td>1</td>\n",
       "      <td>999</td>\n",
       "      <td>0</td>\n",
       "      <td>nonexistent</td>\n",
       "      <td>1.1</td>\n",
       "      <td>93.994</td>\n",
       "      <td>-36.4</td>\n",
       "      <td>4.857</td>\n",
       "      <td>5191.0</td>\n",
       "      <td>no</td>\n",
       "    </tr>\n",
       "    <tr>\n",
       "      <td>1</td>\n",
       "      <td>57</td>\n",
       "      <td>services</td>\n",
       "      <td>married</td>\n",
       "      <td>high.school</td>\n",
       "      <td>no</td>\n",
       "      <td>no</td>\n",
       "      <td>telephone</td>\n",
       "      <td>may</td>\n",
       "      <td>mon</td>\n",
       "      <td>149</td>\n",
       "      <td>1</td>\n",
       "      <td>999</td>\n",
       "      <td>0</td>\n",
       "      <td>nonexistent</td>\n",
       "      <td>1.1</td>\n",
       "      <td>93.994</td>\n",
       "      <td>-36.4</td>\n",
       "      <td>4.857</td>\n",
       "      <td>5191.0</td>\n",
       "      <td>no</td>\n",
       "    </tr>\n",
       "    <tr>\n",
       "      <td>2</td>\n",
       "      <td>37</td>\n",
       "      <td>services</td>\n",
       "      <td>married</td>\n",
       "      <td>high.school</td>\n",
       "      <td>yes</td>\n",
       "      <td>no</td>\n",
       "      <td>telephone</td>\n",
       "      <td>may</td>\n",
       "      <td>mon</td>\n",
       "      <td>226</td>\n",
       "      <td>1</td>\n",
       "      <td>999</td>\n",
       "      <td>0</td>\n",
       "      <td>nonexistent</td>\n",
       "      <td>1.1</td>\n",
       "      <td>93.994</td>\n",
       "      <td>-36.4</td>\n",
       "      <td>4.857</td>\n",
       "      <td>5191.0</td>\n",
       "      <td>no</td>\n",
       "    </tr>\n",
       "    <tr>\n",
       "      <td>3</td>\n",
       "      <td>40</td>\n",
       "      <td>admin.</td>\n",
       "      <td>married</td>\n",
       "      <td>basic.6y</td>\n",
       "      <td>no</td>\n",
       "      <td>no</td>\n",
       "      <td>telephone</td>\n",
       "      <td>may</td>\n",
       "      <td>mon</td>\n",
       "      <td>151</td>\n",
       "      <td>1</td>\n",
       "      <td>999</td>\n",
       "      <td>0</td>\n",
       "      <td>nonexistent</td>\n",
       "      <td>1.1</td>\n",
       "      <td>93.994</td>\n",
       "      <td>-36.4</td>\n",
       "      <td>4.857</td>\n",
       "      <td>5191.0</td>\n",
       "      <td>no</td>\n",
       "    </tr>\n",
       "    <tr>\n",
       "      <td>4</td>\n",
       "      <td>56</td>\n",
       "      <td>services</td>\n",
       "      <td>married</td>\n",
       "      <td>high.school</td>\n",
       "      <td>no</td>\n",
       "      <td>yes</td>\n",
       "      <td>telephone</td>\n",
       "      <td>may</td>\n",
       "      <td>mon</td>\n",
       "      <td>307</td>\n",
       "      <td>1</td>\n",
       "      <td>999</td>\n",
       "      <td>0</td>\n",
       "      <td>nonexistent</td>\n",
       "      <td>1.1</td>\n",
       "      <td>93.994</td>\n",
       "      <td>-36.4</td>\n",
       "      <td>4.857</td>\n",
       "      <td>5191.0</td>\n",
       "      <td>no</td>\n",
       "    </tr>\n",
       "    <tr>\n",
       "      <td>...</td>\n",
       "      <td>...</td>\n",
       "      <td>...</td>\n",
       "      <td>...</td>\n",
       "      <td>...</td>\n",
       "      <td>...</td>\n",
       "      <td>...</td>\n",
       "      <td>...</td>\n",
       "      <td>...</td>\n",
       "      <td>...</td>\n",
       "      <td>...</td>\n",
       "      <td>...</td>\n",
       "      <td>...</td>\n",
       "      <td>...</td>\n",
       "      <td>...</td>\n",
       "      <td>...</td>\n",
       "      <td>...</td>\n",
       "      <td>...</td>\n",
       "      <td>...</td>\n",
       "      <td>...</td>\n",
       "      <td>...</td>\n",
       "    </tr>\n",
       "    <tr>\n",
       "      <td>41183</td>\n",
       "      <td>73</td>\n",
       "      <td>retired</td>\n",
       "      <td>married</td>\n",
       "      <td>professional.course</td>\n",
       "      <td>yes</td>\n",
       "      <td>no</td>\n",
       "      <td>cellular</td>\n",
       "      <td>nov</td>\n",
       "      <td>fri</td>\n",
       "      <td>334</td>\n",
       "      <td>1</td>\n",
       "      <td>999</td>\n",
       "      <td>0</td>\n",
       "      <td>nonexistent</td>\n",
       "      <td>-1.1</td>\n",
       "      <td>94.767</td>\n",
       "      <td>-50.8</td>\n",
       "      <td>1.028</td>\n",
       "      <td>4963.6</td>\n",
       "      <td>yes</td>\n",
       "    </tr>\n",
       "    <tr>\n",
       "      <td>41184</td>\n",
       "      <td>46</td>\n",
       "      <td>blue-collar</td>\n",
       "      <td>married</td>\n",
       "      <td>professional.course</td>\n",
       "      <td>no</td>\n",
       "      <td>no</td>\n",
       "      <td>cellular</td>\n",
       "      <td>nov</td>\n",
       "      <td>fri</td>\n",
       "      <td>383</td>\n",
       "      <td>1</td>\n",
       "      <td>999</td>\n",
       "      <td>0</td>\n",
       "      <td>nonexistent</td>\n",
       "      <td>-1.1</td>\n",
       "      <td>94.767</td>\n",
       "      <td>-50.8</td>\n",
       "      <td>1.028</td>\n",
       "      <td>4963.6</td>\n",
       "      <td>no</td>\n",
       "    </tr>\n",
       "    <tr>\n",
       "      <td>41185</td>\n",
       "      <td>56</td>\n",
       "      <td>retired</td>\n",
       "      <td>married</td>\n",
       "      <td>university.degree</td>\n",
       "      <td>yes</td>\n",
       "      <td>no</td>\n",
       "      <td>cellular</td>\n",
       "      <td>nov</td>\n",
       "      <td>fri</td>\n",
       "      <td>189</td>\n",
       "      <td>2</td>\n",
       "      <td>999</td>\n",
       "      <td>0</td>\n",
       "      <td>nonexistent</td>\n",
       "      <td>-1.1</td>\n",
       "      <td>94.767</td>\n",
       "      <td>-50.8</td>\n",
       "      <td>1.028</td>\n",
       "      <td>4963.6</td>\n",
       "      <td>no</td>\n",
       "    </tr>\n",
       "    <tr>\n",
       "      <td>41186</td>\n",
       "      <td>44</td>\n",
       "      <td>technician</td>\n",
       "      <td>married</td>\n",
       "      <td>professional.course</td>\n",
       "      <td>no</td>\n",
       "      <td>no</td>\n",
       "      <td>cellular</td>\n",
       "      <td>nov</td>\n",
       "      <td>fri</td>\n",
       "      <td>442</td>\n",
       "      <td>1</td>\n",
       "      <td>999</td>\n",
       "      <td>0</td>\n",
       "      <td>nonexistent</td>\n",
       "      <td>-1.1</td>\n",
       "      <td>94.767</td>\n",
       "      <td>-50.8</td>\n",
       "      <td>1.028</td>\n",
       "      <td>4963.6</td>\n",
       "      <td>yes</td>\n",
       "    </tr>\n",
       "    <tr>\n",
       "      <td>41187</td>\n",
       "      <td>74</td>\n",
       "      <td>retired</td>\n",
       "      <td>married</td>\n",
       "      <td>professional.course</td>\n",
       "      <td>yes</td>\n",
       "      <td>no</td>\n",
       "      <td>cellular</td>\n",
       "      <td>nov</td>\n",
       "      <td>fri</td>\n",
       "      <td>239</td>\n",
       "      <td>3</td>\n",
       "      <td>999</td>\n",
       "      <td>1</td>\n",
       "      <td>failure</td>\n",
       "      <td>-1.1</td>\n",
       "      <td>94.767</td>\n",
       "      <td>-50.8</td>\n",
       "      <td>1.028</td>\n",
       "      <td>4963.6</td>\n",
       "      <td>no</td>\n",
       "    </tr>\n",
       "  </tbody>\n",
       "</table>\n",
       "<p>38245 rows × 20 columns</p>\n",
       "</div>"
      ],
      "text/plain": [
       "       age          job  marital            education housing loan    contact  \\\n",
       "0       56    housemaid  married             basic.4y      no   no  telephone   \n",
       "1       57     services  married          high.school      no   no  telephone   \n",
       "2       37     services  married          high.school     yes   no  telephone   \n",
       "3       40       admin.  married             basic.6y      no   no  telephone   \n",
       "4       56     services  married          high.school      no  yes  telephone   \n",
       "...    ...          ...      ...                  ...     ...  ...        ...   \n",
       "41183   73      retired  married  professional.course     yes   no   cellular   \n",
       "41184   46  blue-collar  married  professional.course      no   no   cellular   \n",
       "41185   56      retired  married    university.degree     yes   no   cellular   \n",
       "41186   44   technician  married  professional.course      no   no   cellular   \n",
       "41187   74      retired  married  professional.course     yes   no   cellular   \n",
       "\n",
       "      month day_of_week  duration  campaign  pdays  previous     poutcome  \\\n",
       "0       may         mon       261         1    999         0  nonexistent   \n",
       "1       may         mon       149         1    999         0  nonexistent   \n",
       "2       may         mon       226         1    999         0  nonexistent   \n",
       "3       may         mon       151         1    999         0  nonexistent   \n",
       "4       may         mon       307         1    999         0  nonexistent   \n",
       "...     ...         ...       ...       ...    ...       ...          ...   \n",
       "41183   nov         fri       334         1    999         0  nonexistent   \n",
       "41184   nov         fri       383         1    999         0  nonexistent   \n",
       "41185   nov         fri       189         2    999         0  nonexistent   \n",
       "41186   nov         fri       442         1    999         0  nonexistent   \n",
       "41187   nov         fri       239         3    999         1      failure   \n",
       "\n",
       "       emp.var.rate  cons.price.idx  cons.conf.idx  euribor3m  nr.employed  \\\n",
       "0               1.1          93.994          -36.4      4.857       5191.0   \n",
       "1               1.1          93.994          -36.4      4.857       5191.0   \n",
       "2               1.1          93.994          -36.4      4.857       5191.0   \n",
       "3               1.1          93.994          -36.4      4.857       5191.0   \n",
       "4               1.1          93.994          -36.4      4.857       5191.0   \n",
       "...             ...             ...            ...        ...          ...   \n",
       "41183          -1.1          94.767          -50.8      1.028       4963.6   \n",
       "41184          -1.1          94.767          -50.8      1.028       4963.6   \n",
       "41185          -1.1          94.767          -50.8      1.028       4963.6   \n",
       "41186          -1.1          94.767          -50.8      1.028       4963.6   \n",
       "41187          -1.1          94.767          -50.8      1.028       4963.6   \n",
       "\n",
       "         y  \n",
       "0       no  \n",
       "1       no  \n",
       "2       no  \n",
       "3       no  \n",
       "4       no  \n",
       "...    ...  \n",
       "41183  yes  \n",
       "41184   no  \n",
       "41185   no  \n",
       "41186  yes  \n",
       "41187   no  \n",
       "\n",
       "[38245 rows x 20 columns]"
      ]
     },
     "execution_count": 22,
     "metadata": {},
     "output_type": "execute_result"
    }
   ],
   "source": [
    "bank = bank.dropna()\n",
    "bank"
   ]
  },
  {
   "cell_type": "code",
   "execution_count": 23,
   "metadata": {},
   "outputs": [
    {
     "data": {
      "text/html": [
       "<div>\n",
       "<style scoped>\n",
       "    .dataframe tbody tr th:only-of-type {\n",
       "        vertical-align: middle;\n",
       "    }\n",
       "\n",
       "    .dataframe tbody tr th {\n",
       "        vertical-align: top;\n",
       "    }\n",
       "\n",
       "    .dataframe thead th {\n",
       "        text-align: right;\n",
       "    }\n",
       "</style>\n",
       "<table border=\"1\" class=\"dataframe\">\n",
       "  <thead>\n",
       "    <tr style=\"text-align: right;\">\n",
       "      <th></th>\n",
       "      <th>age</th>\n",
       "      <th>duration</th>\n",
       "      <th>campaign</th>\n",
       "      <th>pdays</th>\n",
       "      <th>previous</th>\n",
       "      <th>emp.var.rate</th>\n",
       "      <th>cons.price.idx</th>\n",
       "      <th>cons.conf.idx</th>\n",
       "      <th>euribor3m</th>\n",
       "      <th>nr.employed</th>\n",
       "    </tr>\n",
       "  </thead>\n",
       "  <tbody>\n",
       "    <tr>\n",
       "      <td>count</td>\n",
       "      <td>38245.000000</td>\n",
       "      <td>38245.000000</td>\n",
       "      <td>38245.000000</td>\n",
       "      <td>38245.000000</td>\n",
       "      <td>38245.000000</td>\n",
       "      <td>38245.000000</td>\n",
       "      <td>38245.000000</td>\n",
       "      <td>38245.000000</td>\n",
       "      <td>38245.000000</td>\n",
       "      <td>38245.000000</td>\n",
       "    </tr>\n",
       "    <tr>\n",
       "      <td>mean</td>\n",
       "      <td>39.860871</td>\n",
       "      <td>258.207583</td>\n",
       "      <td>2.566662</td>\n",
       "      <td>963.531651</td>\n",
       "      <td>0.170009</td>\n",
       "      <td>0.082861</td>\n",
       "      <td>93.570313</td>\n",
       "      <td>-40.541164</td>\n",
       "      <td>3.623298</td>\n",
       "      <td>5167.432566</td>\n",
       "    </tr>\n",
       "    <tr>\n",
       "      <td>std</td>\n",
       "      <td>10.289488</td>\n",
       "      <td>259.792638</td>\n",
       "      <td>2.767473</td>\n",
       "      <td>184.295254</td>\n",
       "      <td>0.487169</td>\n",
       "      <td>1.565945</td>\n",
       "      <td>0.576367</td>\n",
       "      <td>4.623200</td>\n",
       "      <td>1.730226</td>\n",
       "      <td>71.760333</td>\n",
       "    </tr>\n",
       "    <tr>\n",
       "      <td>min</td>\n",
       "      <td>17.000000</td>\n",
       "      <td>0.000000</td>\n",
       "      <td>1.000000</td>\n",
       "      <td>0.000000</td>\n",
       "      <td>0.000000</td>\n",
       "      <td>-3.400000</td>\n",
       "      <td>92.201000</td>\n",
       "      <td>-50.800000</td>\n",
       "      <td>0.634000</td>\n",
       "      <td>4963.600000</td>\n",
       "    </tr>\n",
       "    <tr>\n",
       "      <td>25%</td>\n",
       "      <td>32.000000</td>\n",
       "      <td>102.000000</td>\n",
       "      <td>1.000000</td>\n",
       "      <td>999.000000</td>\n",
       "      <td>0.000000</td>\n",
       "      <td>-1.800000</td>\n",
       "      <td>93.075000</td>\n",
       "      <td>-42.700000</td>\n",
       "      <td>1.344000</td>\n",
       "      <td>5099.100000</td>\n",
       "    </tr>\n",
       "    <tr>\n",
       "      <td>50%</td>\n",
       "      <td>38.000000</td>\n",
       "      <td>180.000000</td>\n",
       "      <td>2.000000</td>\n",
       "      <td>999.000000</td>\n",
       "      <td>0.000000</td>\n",
       "      <td>1.100000</td>\n",
       "      <td>93.444000</td>\n",
       "      <td>-41.800000</td>\n",
       "      <td>4.857000</td>\n",
       "      <td>5191.000000</td>\n",
       "    </tr>\n",
       "    <tr>\n",
       "      <td>75%</td>\n",
       "      <td>47.000000</td>\n",
       "      <td>319.000000</td>\n",
       "      <td>3.000000</td>\n",
       "      <td>999.000000</td>\n",
       "      <td>0.000000</td>\n",
       "      <td>1.400000</td>\n",
       "      <td>93.994000</td>\n",
       "      <td>-36.400000</td>\n",
       "      <td>4.961000</td>\n",
       "      <td>5228.100000</td>\n",
       "    </tr>\n",
       "    <tr>\n",
       "      <td>max</td>\n",
       "      <td>98.000000</td>\n",
       "      <td>4918.000000</td>\n",
       "      <td>43.000000</td>\n",
       "      <td>999.000000</td>\n",
       "      <td>7.000000</td>\n",
       "      <td>1.400000</td>\n",
       "      <td>94.767000</td>\n",
       "      <td>-26.900000</td>\n",
       "      <td>5.045000</td>\n",
       "      <td>5228.100000</td>\n",
       "    </tr>\n",
       "  </tbody>\n",
       "</table>\n",
       "</div>"
      ],
      "text/plain": [
       "                age      duration      campaign         pdays      previous  \\\n",
       "count  38245.000000  38245.000000  38245.000000  38245.000000  38245.000000   \n",
       "mean      39.860871    258.207583      2.566662    963.531651      0.170009   \n",
       "std       10.289488    259.792638      2.767473    184.295254      0.487169   \n",
       "min       17.000000      0.000000      1.000000      0.000000      0.000000   \n",
       "25%       32.000000    102.000000      1.000000    999.000000      0.000000   \n",
       "50%       38.000000    180.000000      2.000000    999.000000      0.000000   \n",
       "75%       47.000000    319.000000      3.000000    999.000000      0.000000   \n",
       "max       98.000000   4918.000000     43.000000    999.000000      7.000000   \n",
       "\n",
       "       emp.var.rate  cons.price.idx  cons.conf.idx     euribor3m   nr.employed  \n",
       "count  38245.000000    38245.000000   38245.000000  38245.000000  38245.000000  \n",
       "mean       0.082861       93.570313     -40.541164      3.623298   5167.432566  \n",
       "std        1.565945        0.576367       4.623200      1.730226     71.760333  \n",
       "min       -3.400000       92.201000     -50.800000      0.634000   4963.600000  \n",
       "25%       -1.800000       93.075000     -42.700000      1.344000   5099.100000  \n",
       "50%        1.100000       93.444000     -41.800000      4.857000   5191.000000  \n",
       "75%        1.400000       93.994000     -36.400000      4.961000   5228.100000  \n",
       "max        1.400000       94.767000     -26.900000      5.045000   5228.100000  "
      ]
     },
     "execution_count": 23,
     "metadata": {},
     "output_type": "execute_result"
    }
   ],
   "source": [
    "bank.describe()"
   ]
  },
  {
   "cell_type": "code",
   "execution_count": 24,
   "metadata": {},
   "outputs": [],
   "source": [
    "# Label encoder order is alphabetical\n",
    "from sklearn.preprocessing import LabelEncoder\n",
    "labelencoder_x = LabelEncoder()\n",
    "bank['job']      = labelencoder_x.fit_transform(bank['job']) \n",
    "bank['marital']  = labelencoder_x.fit_transform(bank['marital']) \n",
    "bank['education']= labelencoder_x.fit_transform(bank['education']) \n",
    "bank['housing']  = labelencoder_x.fit_transform(bank['housing']) \n",
    "bank['loan']     = labelencoder_x.fit_transform(bank['loan']) \n",
    "bank['contact']     = labelencoder_x.fit_transform(bank['contact']) \n",
    "bank['month']       = labelencoder_x.fit_transform(bank['month']) \n",
    "bank['day_of_week'] = labelencoder_x.fit_transform(bank['day_of_week']) \n",
    "bank['poutcome'] = labelencoder_x.fit_transform(bank['poutcome'])\n",
    "bank['y'] = labelencoder_x.fit_transform(bank['y'])"
   ]
  },
  {
   "cell_type": "code",
   "execution_count": 25,
   "metadata": {},
   "outputs": [],
   "source": [
    "# as the number of unique values are more for age we can group them togeather into categories\n",
    "def age(df):\n",
    "    df.loc[df['age'] <= 32, 'age'] = 1\n",
    "    df.loc[(df['age'] > 32) & (df['age'] <= 47), 'age'] = 2\n",
    "    df.loc[(df['age'] > 47) & (df['age'] <= 70), 'age'] = 3\n",
    "    df.loc[(df['age'] > 70) & (df['age'] <= 98), 'age'] = 4\n",
    "           \n",
    "    return df\n",
    "\n",
    "age(bank);"
   ]
  },
  {
   "cell_type": "code",
   "execution_count": 26,
   "metadata": {},
   "outputs": [],
   "source": [
    "# as the number of unique values are more for duration of call we can group them togeather in to categories\n",
    "def duration(dataset):\n",
    "\n",
    "    dataset.loc[dataset['duration'] <= 102, 'duration'] = 1\n",
    "    dataset.loc[(dataset['duration'] > 102) & (dataset['duration'] <= 180)  , 'duration']    = 2\n",
    "    dataset.loc[(dataset['duration'] > 180) & (dataset['duration'] <= 319)  , 'duration']   = 3\n",
    "    dataset.loc[(dataset['duration'] > 319) & (dataset['duration'] <= 644.5), 'duration'] = 4\n",
    "    dataset.loc[dataset['duration']  > 644.5, 'duration'] = 5\n",
    "\n",
    "    return dataset\n",
    "duration(bank);"
   ]
  },
  {
   "cell_type": "code",
   "execution_count": 27,
   "metadata": {},
   "outputs": [
    {
     "data": {
      "text/html": [
       "<div>\n",
       "<style scoped>\n",
       "    .dataframe tbody tr th:only-of-type {\n",
       "        vertical-align: middle;\n",
       "    }\n",
       "\n",
       "    .dataframe tbody tr th {\n",
       "        vertical-align: top;\n",
       "    }\n",
       "\n",
       "    .dataframe thead th {\n",
       "        text-align: right;\n",
       "    }\n",
       "</style>\n",
       "<table border=\"1\" class=\"dataframe\">\n",
       "  <thead>\n",
       "    <tr style=\"text-align: right;\">\n",
       "      <th></th>\n",
       "      <th>age</th>\n",
       "      <th>job</th>\n",
       "      <th>marital</th>\n",
       "      <th>education</th>\n",
       "      <th>housing</th>\n",
       "      <th>loan</th>\n",
       "      <th>contact</th>\n",
       "      <th>month</th>\n",
       "      <th>day_of_week</th>\n",
       "      <th>duration</th>\n",
       "      <th>campaign</th>\n",
       "      <th>pdays</th>\n",
       "      <th>previous</th>\n",
       "      <th>poutcome</th>\n",
       "      <th>emp.var.rate</th>\n",
       "      <th>cons.price.idx</th>\n",
       "      <th>cons.conf.idx</th>\n",
       "      <th>euribor3m</th>\n",
       "      <th>nr.employed</th>\n",
       "      <th>y</th>\n",
       "    </tr>\n",
       "  </thead>\n",
       "  <tbody>\n",
       "    <tr>\n",
       "      <td>0</td>\n",
       "      <td>3</td>\n",
       "      <td>3</td>\n",
       "      <td>1</td>\n",
       "      <td>0</td>\n",
       "      <td>0</td>\n",
       "      <td>0</td>\n",
       "      <td>1</td>\n",
       "      <td>6</td>\n",
       "      <td>1</td>\n",
       "      <td>3</td>\n",
       "      <td>1</td>\n",
       "      <td>999</td>\n",
       "      <td>0</td>\n",
       "      <td>1</td>\n",
       "      <td>1.1</td>\n",
       "      <td>93.994</td>\n",
       "      <td>-36.4</td>\n",
       "      <td>4.857</td>\n",
       "      <td>5191.0</td>\n",
       "      <td>0</td>\n",
       "    </tr>\n",
       "    <tr>\n",
       "      <td>1</td>\n",
       "      <td>3</td>\n",
       "      <td>7</td>\n",
       "      <td>1</td>\n",
       "      <td>3</td>\n",
       "      <td>0</td>\n",
       "      <td>0</td>\n",
       "      <td>1</td>\n",
       "      <td>6</td>\n",
       "      <td>1</td>\n",
       "      <td>2</td>\n",
       "      <td>1</td>\n",
       "      <td>999</td>\n",
       "      <td>0</td>\n",
       "      <td>1</td>\n",
       "      <td>1.1</td>\n",
       "      <td>93.994</td>\n",
       "      <td>-36.4</td>\n",
       "      <td>4.857</td>\n",
       "      <td>5191.0</td>\n",
       "      <td>0</td>\n",
       "    </tr>\n",
       "    <tr>\n",
       "      <td>2</td>\n",
       "      <td>2</td>\n",
       "      <td>7</td>\n",
       "      <td>1</td>\n",
       "      <td>3</td>\n",
       "      <td>1</td>\n",
       "      <td>0</td>\n",
       "      <td>1</td>\n",
       "      <td>6</td>\n",
       "      <td>1</td>\n",
       "      <td>3</td>\n",
       "      <td>1</td>\n",
       "      <td>999</td>\n",
       "      <td>0</td>\n",
       "      <td>1</td>\n",
       "      <td>1.1</td>\n",
       "      <td>93.994</td>\n",
       "      <td>-36.4</td>\n",
       "      <td>4.857</td>\n",
       "      <td>5191.0</td>\n",
       "      <td>0</td>\n",
       "    </tr>\n",
       "    <tr>\n",
       "      <td>3</td>\n",
       "      <td>2</td>\n",
       "      <td>0</td>\n",
       "      <td>1</td>\n",
       "      <td>1</td>\n",
       "      <td>0</td>\n",
       "      <td>0</td>\n",
       "      <td>1</td>\n",
       "      <td>6</td>\n",
       "      <td>1</td>\n",
       "      <td>2</td>\n",
       "      <td>1</td>\n",
       "      <td>999</td>\n",
       "      <td>0</td>\n",
       "      <td>1</td>\n",
       "      <td>1.1</td>\n",
       "      <td>93.994</td>\n",
       "      <td>-36.4</td>\n",
       "      <td>4.857</td>\n",
       "      <td>5191.0</td>\n",
       "      <td>0</td>\n",
       "    </tr>\n",
       "    <tr>\n",
       "      <td>4</td>\n",
       "      <td>3</td>\n",
       "      <td>7</td>\n",
       "      <td>1</td>\n",
       "      <td>3</td>\n",
       "      <td>0</td>\n",
       "      <td>1</td>\n",
       "      <td>1</td>\n",
       "      <td>6</td>\n",
       "      <td>1</td>\n",
       "      <td>3</td>\n",
       "      <td>1</td>\n",
       "      <td>999</td>\n",
       "      <td>0</td>\n",
       "      <td>1</td>\n",
       "      <td>1.1</td>\n",
       "      <td>93.994</td>\n",
       "      <td>-36.4</td>\n",
       "      <td>4.857</td>\n",
       "      <td>5191.0</td>\n",
       "      <td>0</td>\n",
       "    </tr>\n",
       "    <tr>\n",
       "      <td>...</td>\n",
       "      <td>...</td>\n",
       "      <td>...</td>\n",
       "      <td>...</td>\n",
       "      <td>...</td>\n",
       "      <td>...</td>\n",
       "      <td>...</td>\n",
       "      <td>...</td>\n",
       "      <td>...</td>\n",
       "      <td>...</td>\n",
       "      <td>...</td>\n",
       "      <td>...</td>\n",
       "      <td>...</td>\n",
       "      <td>...</td>\n",
       "      <td>...</td>\n",
       "      <td>...</td>\n",
       "      <td>...</td>\n",
       "      <td>...</td>\n",
       "      <td>...</td>\n",
       "      <td>...</td>\n",
       "      <td>...</td>\n",
       "    </tr>\n",
       "    <tr>\n",
       "      <td>41183</td>\n",
       "      <td>4</td>\n",
       "      <td>5</td>\n",
       "      <td>1</td>\n",
       "      <td>5</td>\n",
       "      <td>1</td>\n",
       "      <td>0</td>\n",
       "      <td>0</td>\n",
       "      <td>7</td>\n",
       "      <td>0</td>\n",
       "      <td>4</td>\n",
       "      <td>1</td>\n",
       "      <td>999</td>\n",
       "      <td>0</td>\n",
       "      <td>1</td>\n",
       "      <td>-1.1</td>\n",
       "      <td>94.767</td>\n",
       "      <td>-50.8</td>\n",
       "      <td>1.028</td>\n",
       "      <td>4963.6</td>\n",
       "      <td>1</td>\n",
       "    </tr>\n",
       "    <tr>\n",
       "      <td>41184</td>\n",
       "      <td>2</td>\n",
       "      <td>1</td>\n",
       "      <td>1</td>\n",
       "      <td>5</td>\n",
       "      <td>0</td>\n",
       "      <td>0</td>\n",
       "      <td>0</td>\n",
       "      <td>7</td>\n",
       "      <td>0</td>\n",
       "      <td>4</td>\n",
       "      <td>1</td>\n",
       "      <td>999</td>\n",
       "      <td>0</td>\n",
       "      <td>1</td>\n",
       "      <td>-1.1</td>\n",
       "      <td>94.767</td>\n",
       "      <td>-50.8</td>\n",
       "      <td>1.028</td>\n",
       "      <td>4963.6</td>\n",
       "      <td>0</td>\n",
       "    </tr>\n",
       "    <tr>\n",
       "      <td>41185</td>\n",
       "      <td>3</td>\n",
       "      <td>5</td>\n",
       "      <td>1</td>\n",
       "      <td>6</td>\n",
       "      <td>1</td>\n",
       "      <td>0</td>\n",
       "      <td>0</td>\n",
       "      <td>7</td>\n",
       "      <td>0</td>\n",
       "      <td>3</td>\n",
       "      <td>2</td>\n",
       "      <td>999</td>\n",
       "      <td>0</td>\n",
       "      <td>1</td>\n",
       "      <td>-1.1</td>\n",
       "      <td>94.767</td>\n",
       "      <td>-50.8</td>\n",
       "      <td>1.028</td>\n",
       "      <td>4963.6</td>\n",
       "      <td>0</td>\n",
       "    </tr>\n",
       "    <tr>\n",
       "      <td>41186</td>\n",
       "      <td>2</td>\n",
       "      <td>9</td>\n",
       "      <td>1</td>\n",
       "      <td>5</td>\n",
       "      <td>0</td>\n",
       "      <td>0</td>\n",
       "      <td>0</td>\n",
       "      <td>7</td>\n",
       "      <td>0</td>\n",
       "      <td>4</td>\n",
       "      <td>1</td>\n",
       "      <td>999</td>\n",
       "      <td>0</td>\n",
       "      <td>1</td>\n",
       "      <td>-1.1</td>\n",
       "      <td>94.767</td>\n",
       "      <td>-50.8</td>\n",
       "      <td>1.028</td>\n",
       "      <td>4963.6</td>\n",
       "      <td>1</td>\n",
       "    </tr>\n",
       "    <tr>\n",
       "      <td>41187</td>\n",
       "      <td>4</td>\n",
       "      <td>5</td>\n",
       "      <td>1</td>\n",
       "      <td>5</td>\n",
       "      <td>1</td>\n",
       "      <td>0</td>\n",
       "      <td>0</td>\n",
       "      <td>7</td>\n",
       "      <td>0</td>\n",
       "      <td>3</td>\n",
       "      <td>3</td>\n",
       "      <td>999</td>\n",
       "      <td>1</td>\n",
       "      <td>0</td>\n",
       "      <td>-1.1</td>\n",
       "      <td>94.767</td>\n",
       "      <td>-50.8</td>\n",
       "      <td>1.028</td>\n",
       "      <td>4963.6</td>\n",
       "      <td>0</td>\n",
       "    </tr>\n",
       "  </tbody>\n",
       "</table>\n",
       "<p>38245 rows × 20 columns</p>\n",
       "</div>"
      ],
      "text/plain": [
       "       age  job  marital  education  housing  loan  contact  month  \\\n",
       "0        3    3        1          0        0     0        1      6   \n",
       "1        3    7        1          3        0     0        1      6   \n",
       "2        2    7        1          3        1     0        1      6   \n",
       "3        2    0        1          1        0     0        1      6   \n",
       "4        3    7        1          3        0     1        1      6   \n",
       "...    ...  ...      ...        ...      ...   ...      ...    ...   \n",
       "41183    4    5        1          5        1     0        0      7   \n",
       "41184    2    1        1          5        0     0        0      7   \n",
       "41185    3    5        1          6        1     0        0      7   \n",
       "41186    2    9        1          5        0     0        0      7   \n",
       "41187    4    5        1          5        1     0        0      7   \n",
       "\n",
       "       day_of_week  duration  campaign  pdays  previous  poutcome  \\\n",
       "0                1         3         1    999         0         1   \n",
       "1                1         2         1    999         0         1   \n",
       "2                1         3         1    999         0         1   \n",
       "3                1         2         1    999         0         1   \n",
       "4                1         3         1    999         0         1   \n",
       "...            ...       ...       ...    ...       ...       ...   \n",
       "41183            0         4         1    999         0         1   \n",
       "41184            0         4         1    999         0         1   \n",
       "41185            0         3         2    999         0         1   \n",
       "41186            0         4         1    999         0         1   \n",
       "41187            0         3         3    999         1         0   \n",
       "\n",
       "       emp.var.rate  cons.price.idx  cons.conf.idx  euribor3m  nr.employed  y  \n",
       "0               1.1          93.994          -36.4      4.857       5191.0  0  \n",
       "1               1.1          93.994          -36.4      4.857       5191.0  0  \n",
       "2               1.1          93.994          -36.4      4.857       5191.0  0  \n",
       "3               1.1          93.994          -36.4      4.857       5191.0  0  \n",
       "4               1.1          93.994          -36.4      4.857       5191.0  0  \n",
       "...             ...             ...            ...        ...          ... ..  \n",
       "41183          -1.1          94.767          -50.8      1.028       4963.6  1  \n",
       "41184          -1.1          94.767          -50.8      1.028       4963.6  0  \n",
       "41185          -1.1          94.767          -50.8      1.028       4963.6  0  \n",
       "41186          -1.1          94.767          -50.8      1.028       4963.6  1  \n",
       "41187          -1.1          94.767          -50.8      1.028       4963.6  0  \n",
       "\n",
       "[38245 rows x 20 columns]"
      ]
     },
     "execution_count": 27,
     "metadata": {},
     "output_type": "execute_result"
    }
   ],
   "source": [
    "bank"
   ]
  },
  {
   "cell_type": "code",
   "execution_count": 28,
   "metadata": {},
   "outputs": [
    {
     "data": {
      "text/plain": [
       "y\n",
       "0    [[AxesSubplot(0.125,0.758226;0.158163x0.121774...\n",
       "1    [[AxesSubplot(0.125,0.758226;0.158163x0.121774...\n",
       "dtype: object"
      ]
     },
     "execution_count": 28,
     "metadata": {},
     "output_type": "execute_result"
    },
    {
     "data": {
      "image/png": "[encoded data removed]",
      "text/plain": [
       "<Figure size 720x1368 with 20 Axes>"
      ]
     },
     "metadata": {
      "needs_background": "light"
     },
     "output_type": "display_data"
    },
    {
     "data": {
      "image/png": "[encoded data removed]",
      "text/plain": [
       "<Figure size 720x1368 with 20 Axes>"
      ]
     },
     "metadata": {
      "needs_background": "light"
     },
     "output_type": "display_data"
    }
   ],
   "source": [
    "bank.groupby(bank['y']).hist(figsize=(10, 19))"
   ]
  },
  {
   "cell_type": "markdown",
   "metadata": {},
   "source": [
    "# Model Build"
   ]
  },
  {
   "cell_type": "code",
   "execution_count": 29,
   "metadata": {},
   "outputs": [],
   "source": [
    "y = bank['y']\n",
    "bank_x = bank.drop(['y'], axis = 1)"
   ]
  },
  {
   "cell_type": "code",
   "execution_count": 30,
   "metadata": {},
   "outputs": [],
   "source": [
    "#standardisation\n",
    "sc = StandardScaler()\n",
    "bank_sc = sc.fit_transform(bank_x)"
   ]
  },
  {
   "cell_type": "code",
   "execution_count": 31,
   "metadata": {},
   "outputs": [],
   "source": [
    "X_train, X_test, y_train, y_test = train_test_split(bank_sc, y, random_state = 0, test_size = 0.25)\n"
   ]
  },
  {
   "cell_type": "markdown",
   "metadata": {},
   "source": [
    "# Classification tasks:\n",
    "\n",
    "### KNN Classification:\n"
   ]
  },
  {
   "cell_type": "code",
   "execution_count": 32,
   "metadata": {},
   "outputs": [
    {
     "name": "stdout",
     "output_type": "stream",
     "text": [
      "KNN train score:  0.9229508768259945\n",
      "KNN test score:  0.9027400125496758\n"
     ]
    }
   ],
   "source": [
    "from sklearn.neighbors import KNeighborsClassifier\n",
    "from sklearn.metrics import r2_score  \n",
    "knn = KNeighborsClassifier()\n",
    "knn.fit(X_train, y_train)\n",
    "print(\"KNN train score: \",knn.score(X_train, y_train))\n",
    "print(\"KNN test score: \",knn.score(X_test, y_test))"
   ]
  },
  {
   "cell_type": "code",
   "execution_count": 33,
   "metadata": {},
   "outputs": [],
   "source": [
    "grid_params = {'n_neighbors' : [3, 5, 11, 15], 'weights': ['uniform', 'distance'], 'metric': ['euclidean', 'manhattan']}\n",
    "\n",
    "gs = GridSearchCV(KNeighborsClassifier(), grid_params, verbose = 1, cv = 3, n_jobs = -1)"
   ]
  },
  {
   "cell_type": "code",
   "execution_count": 34,
   "metadata": {},
   "outputs": [
    {
     "name": "stdout",
     "output_type": "stream",
     "text": [
      "Fitting 3 folds for each of 16 candidates, totalling 48 fits\n"
     ]
    },
    {
     "name": "stderr",
     "output_type": "stream",
     "text": [
      "[Parallel(n_jobs=-1)]: Using backend LokyBackend with 8 concurrent workers.\n",
      "[Parallel(n_jobs=-1)]: Done  48 out of  48 | elapsed:  1.5min finished\n"
     ]
    }
   ],
   "source": [
    "gs_fit = gs.fit(X_train, y_train)"
   ]
  },
  {
   "cell_type": "code",
   "execution_count": 35,
   "metadata": {},
   "outputs": [
    {
     "name": "stdout",
     "output_type": "stream",
     "text": [
      "KNN train score:  0.9091447895966251\n",
      "KNN test score:  0.9085965279230287\n",
      "Best score :  0.9021720182686609\n",
      "Best estimator:  KNeighborsClassifier(algorithm='auto', leaf_size=30, metric='manhattan',\n",
      "                     metric_params=None, n_jobs=None, n_neighbors=15, p=2,\n",
      "                     weights='uniform')\n",
      "Best parameters:  {'metric': 'manhattan', 'n_neighbors': 15, 'weights': 'uniform'}\n"
     ]
    }
   ],
   "source": [
    "print(\"KNN train score: \",gs.score(X_train, y_train))\n",
    "print(\"KNN test score: \",gs.score(X_test, y_test))\n",
    "print(\"Best score : \", gs_fit.best_score_)\n",
    "print(\"Best estimator: \",gs_fit.best_estimator_)\n",
    "print(\"Best parameters: \",gs_fit.best_params_)"
   ]
  },
  {
   "cell_type": "code",
   "execution_count": 36,
   "metadata": {},
   "outputs": [
    {
     "name": "stdout",
     "output_type": "stream",
     "text": [
      "KNN scores:  {'fit_time': array([0.01797223, 0.01795173, 0.01695466, 0.01695633, 0.01595664]), 'score_time': array([0.30712724, 0.30917287, 0.30223513, 0.30517387, 0.30814552]), 'test_score': array([0.90538421, 0.90852065, 0.90376569, 0.91056485, 0.90376569])}\n",
      "KNN train score:  0.9091447895966251\n",
      "KNN test score:  0.9085965279230287\n"
     ]
    }
   ],
   "source": [
    "#cross-validation\n",
    "from sklearn.model_selection import cross_val_score, cross_val_predict,cross_validate\n",
    "knn = KNeighborsClassifier(algorithm='auto', leaf_size=30, metric='manhattan',\n",
    "                     metric_params=None, n_jobs=None, n_neighbors=15, p=2,\n",
    "                     weights='uniform')\n",
    "knn.fit(X_train, y_train)\n",
    "knn_scores = cross_validate(knn,X_test, y_test, cv=5)\n",
    "print(\"KNN scores: \",knn_scores)\n",
    "print(\"KNN train score: \", knn.score(X_train, y_train))\n",
    "print(\"KNN test score: \", knn.score(X_test, y_test))"
   ]
  },
  {
   "cell_type": "code",
   "execution_count": 37,
   "metadata": {},
   "outputs": [],
   "source": [
    "y_predict = knn.predict(X_test)\n",
    "y_true = y_test"
   ]
  },
  {
   "cell_type": "code",
   "execution_count": 38,
   "metadata": {},
   "outputs": [
    {
     "data": {
      "text/plain": [
       "0.9085965279230287"
      ]
     },
     "execution_count": 38,
     "metadata": {},
     "output_type": "execute_result"
    }
   ],
   "source": [
    "import sklearn\n",
    "from sklearn.metrics import accuracy_score\n",
    "accuracy_score(y_true, y_predict)"
   ]
  },
  {
   "cell_type": "markdown",
   "metadata": {},
   "source": [
    "### Logistic Regression "
   ]
  },
  {
   "cell_type": "code",
   "execution_count": 39,
   "metadata": {},
   "outputs": [
    {
     "name": "stdout",
     "output_type": "stream",
     "text": [
      "Logistic Regression train score:  0.9070180943415961\n",
      "Logistic Regression test score:  0.9127797531897093\n"
     ]
    },
    {
     "name": "stderr",
     "output_type": "stream",
     "text": [
      "C:\\Users\\srira\\Anaconda3\\lib\\site-packages\\sklearn\\linear_model\\logistic.py:432: FutureWarning: Default solver will be changed to 'lbfgs' in 0.22. Specify a solver to silence this warning.\n",
      "  FutureWarning)\n"
     ]
    }
   ],
   "source": [
    "from sklearn.linear_model import LogisticRegression\n",
    "logreg = LogisticRegression(max_iter= 400)\n",
    "logreg.fit(X_train, y_train)\n",
    "print(\"Logistic Regression train score: \",logreg.score(X_train, y_train))\n",
    "print(\"Logistic Regression test score: \",logreg.score(X_test, y_test))"
   ]
  },
  {
   "cell_type": "code",
   "execution_count": 40,
   "metadata": {},
   "outputs": [],
   "source": [
    "grid_values = {'penalty': ['l1','l2'], 'C': [0.1,1,10,100,1000]} \n",
    "\n",
    "logreg_gs_fit = GridSearchCV(logreg, grid_values, cv = 3, verbose = 1, n_jobs = -1)"
   ]
  },
  {
   "cell_type": "code",
   "execution_count": 41,
   "metadata": {},
   "outputs": [
    {
     "name": "stdout",
     "output_type": "stream",
     "text": [
      "Fitting 3 folds for each of 10 candidates, totalling 30 fits\n"
     ]
    },
    {
     "name": "stderr",
     "output_type": "stream",
     "text": [
      "[Parallel(n_jobs=-1)]: Using backend LokyBackend with 8 concurrent workers.\n",
      "[Parallel(n_jobs=-1)]: Done  30 out of  30 | elapsed:    7.0s finished\n",
      "C:\\Users\\srira\\Anaconda3\\lib\\site-packages\\sklearn\\linear_model\\logistic.py:432: FutureWarning: Default solver will be changed to 'lbfgs' in 0.22. Specify a solver to silence this warning.\n",
      "  FutureWarning)\n"
     ]
    }
   ],
   "source": [
    "gscv_fit = logreg_gs_fit.fit(X_train, y_train)"
   ]
  },
  {
   "cell_type": "code",
   "execution_count": 42,
   "metadata": {},
   "outputs": [
    {
     "name": "stdout",
     "output_type": "stream",
     "text": [
      "Logistic Regression train score:  0.907401596764634\n",
      "Logistic Regression test score:  0.9129889144530433\n",
      "Best score :  0.9075410521911934\n",
      "Best estimator:  LogisticRegression(C=0.1, class_weight=None, dual=False, fit_intercept=True,\n",
      "                   intercept_scaling=1, l1_ratio=None, max_iter=400,\n",
      "                   multi_class='warn', n_jobs=None, penalty='l1',\n",
      "                   random_state=None, solver='warn', tol=0.0001, verbose=0,\n",
      "                   warm_start=False)\n",
      "Best parameters:  {'C': 0.1, 'penalty': 'l1'}\n"
     ]
    }
   ],
   "source": [
    "print(\"Logistic Regression train score: \",logreg_gs_fit.score(X_train, y_train))\n",
    "print(\"Logistic Regression test score: \",logreg_gs_fit.score(X_test, y_test))\n",
    "print(\"Best score : \", gscv_fit.best_score_)\n",
    "print(\"Best estimator: \",gscv_fit.best_estimator_)\n",
    "print(\"Best parameters: \",gscv_fit.best_params_)"
   ]
  },
  {
   "cell_type": "code",
   "execution_count": 43,
   "metadata": {
    "scrolled": true
   },
   "outputs": [
    {
     "name": "stderr",
     "output_type": "stream",
     "text": [
      "C:\\Users\\srira\\Anaconda3\\lib\\site-packages\\sklearn\\linear_model\\logistic.py:432: FutureWarning: Default solver will be changed to 'lbfgs' in 0.22. Specify a solver to silence this warning.\n",
      "  FutureWarning)\n",
      "C:\\Users\\srira\\Anaconda3\\lib\\site-packages\\sklearn\\linear_model\\logistic.py:432: FutureWarning: Default solver will be changed to 'lbfgs' in 0.22. Specify a solver to silence this warning.\n",
      "  FutureWarning)\n",
      "C:\\Users\\srira\\Anaconda3\\lib\\site-packages\\sklearn\\linear_model\\logistic.py:432: FutureWarning: Default solver will be changed to 'lbfgs' in 0.22. Specify a solver to silence this warning.\n",
      "  FutureWarning)\n",
      "C:\\Users\\srira\\Anaconda3\\lib\\site-packages\\sklearn\\linear_model\\logistic.py:432: FutureWarning: Default solver will be changed to 'lbfgs' in 0.22. Specify a solver to silence this warning.\n",
      "  FutureWarning)\n"
     ]
    },
    {
     "name": "stdout",
     "output_type": "stream",
     "text": [
      "Logistic Regression scores:  {'fit_time': array([0.07875681, 0.05285811, 0.07180786, 0.08976102, 0.04787183]), 'score_time': array([0.00099754, 0.0009973 , 0.00099754, 0.        , 0.00104499]), 'test_score': array([0.91636174, 0.91740721, 0.91213389, 0.91788703, 0.9084728 ])}\n",
      "Logistic Regression train score:  0.9074364606212739\n",
      "Logistic Regression test score:  0.9129889144530433\n"
     ]
    },
    {
     "name": "stderr",
     "output_type": "stream",
     "text": [
      "C:\\Users\\srira\\Anaconda3\\lib\\site-packages\\sklearn\\linear_model\\logistic.py:432: FutureWarning: Default solver will be changed to 'lbfgs' in 0.22. Specify a solver to silence this warning.\n",
      "  FutureWarning)\n",
      "C:\\Users\\srira\\Anaconda3\\lib\\site-packages\\sklearn\\linear_model\\logistic.py:432: FutureWarning: Default solver will be changed to 'lbfgs' in 0.22. Specify a solver to silence this warning.\n",
      "  FutureWarning)\n"
     ]
    }
   ],
   "source": [
    "#cross-validation\n",
    "logreg = LogisticRegression(C=0.1, class_weight=None, dual=False, fit_intercept=True,\n",
    "                   intercept_scaling=1, l1_ratio=None, max_iter=400,\n",
    "                   multi_class='warn', n_jobs=None, penalty='l1',\n",
    "                   random_state=None, solver='warn', tol=0.0001, verbose=0,\n",
    "                   warm_start=False)\n",
    "logreg.fit(X_train, y_train)\n",
    "logreg_scores = cross_validate(logreg,X_test, y_test, cv=5)\n",
    "print(\"Logistic Regression scores: \",logreg_scores)\n",
    "print(\"Logistic Regression train score: \", logreg.score(X_train, y_train))\n",
    "print(\"Logistic Regression test score: \", logreg.score(X_test, y_test))\n",
    "\n"
   ]
  },
  {
   "cell_type": "code",
   "execution_count": 44,
   "metadata": {},
   "outputs": [
    {
     "data": {
      "text/plain": [
       "0.9129889144530433"
      ]
     },
     "execution_count": 44,
     "metadata": {},
     "output_type": "execute_result"
    }
   ],
   "source": [
    "y_predict = logreg.predict(X_test)\n",
    "y_true = y_test\n",
    "import sklearn\n",
    "from sklearn.metrics import accuracy_score\n",
    "accuracy_score(y_true, y_predict)"
   ]
  },
  {
   "cell_type": "markdown",
   "metadata": {},
   "source": [
    "### Linear Support Vector Machine"
   ]
  },
  {
   "cell_type": "code",
   "execution_count": 45,
   "metadata": {},
   "outputs": [
    {
     "name": "stdout",
     "output_type": "stream",
     "text": [
      "Linear Support Vector Machine train score:  0.9057978593592023\n",
      "Linear Support Vector Machine  test score:  0.9116293662413721\n"
     ]
    },
    {
     "name": "stderr",
     "output_type": "stream",
     "text": [
      "C:\\Users\\srira\\Anaconda3\\lib\\site-packages\\sklearn\\svm\\base.py:929: ConvergenceWarning: Liblinear failed to converge, increase the number of iterations.\n",
      "  \"the number of iterations.\", ConvergenceWarning)\n"
     ]
    }
   ],
   "source": [
    "from sklearn.svm import LinearSVC\n",
    "lsvm = LinearSVC()\n",
    "lsvm.fit(X_train, y_train)\n",
    "print(\"Linear Support Vector Machine train score: \",lsvm.score(X_train, y_train))\n",
    "print(\"Linear Support Vector Machine  test score: \",lsvm.score(X_test, y_test))"
   ]
  },
  {
   "cell_type": "code",
   "execution_count": 46,
   "metadata": {},
   "outputs": [],
   "source": [
    "param_values = {'C': [0.1,1,10,100,1000]} \n",
    "\n",
    "lsvm_gs = GridSearchCV(lsvm, param_values, cv = 5, n_jobs = -1)"
   ]
  },
  {
   "cell_type": "code",
   "execution_count": 47,
   "metadata": {},
   "outputs": [
    {
     "name": "stderr",
     "output_type": "stream",
     "text": [
      "C:\\Users\\srira\\Anaconda3\\lib\\site-packages\\sklearn\\svm\\base.py:929: ConvergenceWarning: Liblinear failed to converge, increase the number of iterations.\n",
      "  \"the number of iterations.\", ConvergenceWarning)\n"
     ]
    }
   ],
   "source": [
    "lsvm_gs_fit = lsvm_gs.fit(X_train, y_train)"
   ]
  },
  {
   "cell_type": "code",
   "execution_count": 48,
   "metadata": {},
   "outputs": [
    {
     "name": "stdout",
     "output_type": "stream",
     "text": [
      "Linear Support Vector Machine train score:  0.9059024509291218\n",
      "Linear Support Vector Machine test score:  0.9116293662413721\n",
      "Best score :  0.905484084649444\n",
      "Best estimator:  LinearSVC(C=1, class_weight=None, dual=True, fit_intercept=True,\n",
      "          intercept_scaling=1, loss='squared_hinge', max_iter=1000,\n",
      "          multi_class='ovr', penalty='l2', random_state=None, tol=0.0001,\n",
      "          verbose=0)\n",
      "Best parameters:  {'C': 1}\n"
     ]
    }
   ],
   "source": [
    "print(\"Linear Support Vector Machine train score: \",lsvm_gs.score(X_train, y_train))\n",
    "print(\"Linear Support Vector Machine test score: \",lsvm_gs.score(X_test, y_test))\n",
    "print(\"Best score : \", lsvm_gs_fit.best_score_)\n",
    "print(\"Best estimator: \",lsvm_gs_fit.best_estimator_)\n",
    "print(\"Best parameters: \",lsvm_gs_fit.best_params_)"
   ]
  },
  {
   "cell_type": "code",
   "execution_count": 49,
   "metadata": {},
   "outputs": [
    {
     "name": "stderr",
     "output_type": "stream",
     "text": [
      "C:\\Users\\srira\\Anaconda3\\lib\\site-packages\\sklearn\\svm\\base.py:929: ConvergenceWarning: Liblinear failed to converge, increase the number of iterations.\n",
      "  \"the number of iterations.\", ConvergenceWarning)\n",
      "C:\\Users\\srira\\Anaconda3\\lib\\site-packages\\sklearn\\svm\\base.py:929: ConvergenceWarning: Liblinear failed to converge, increase the number of iterations.\n",
      "  \"the number of iterations.\", ConvergenceWarning)\n",
      "C:\\Users\\srira\\Anaconda3\\lib\\site-packages\\sklearn\\svm\\base.py:929: ConvergenceWarning: Liblinear failed to converge, increase the number of iterations.\n",
      "  \"the number of iterations.\", ConvergenceWarning)\n",
      "C:\\Users\\srira\\Anaconda3\\lib\\site-packages\\sklearn\\svm\\base.py:929: ConvergenceWarning: Liblinear failed to converge, increase the number of iterations.\n",
      "  \"the number of iterations.\", ConvergenceWarning)\n",
      "C:\\Users\\srira\\Anaconda3\\lib\\site-packages\\sklearn\\svm\\base.py:929: ConvergenceWarning: Liblinear failed to converge, increase the number of iterations.\n",
      "  \"the number of iterations.\", ConvergenceWarning)\n"
     ]
    },
    {
     "name": "stdout",
     "output_type": "stream",
     "text": [
      "Linear Support Vector Machine scores:  {'fit_time': array([0.31417203, 0.34811616, 0.36701822, 0.37304473, 0.35908532]), 'score_time': array([0.00095391, 0.00095153, 0.0009985 , 0.00095534, 0.00095129]), 'test_score': array([0.91897543, 0.9132253 , 0.9084728 , 0.91631799, 0.90533473])}\n",
      "Linear Support Vector Machine train score:  0.9058327232158422\n",
      "Linear Support Vector Machine test score:  0.9116293662413721\n"
     ]
    },
    {
     "name": "stderr",
     "output_type": "stream",
     "text": [
      "C:\\Users\\srira\\Anaconda3\\lib\\site-packages\\sklearn\\svm\\base.py:929: ConvergenceWarning: Liblinear failed to converge, increase the number of iterations.\n",
      "  \"the number of iterations.\", ConvergenceWarning)\n"
     ]
    }
   ],
   "source": [
    "#cross-validation\n",
    "lsvm = LinearSVC(C=1, class_weight=None, dual=True, fit_intercept=True,\n",
    "          intercept_scaling=1, loss='squared_hinge', max_iter=1000,\n",
    "          multi_class='ovr', penalty='l2', random_state=None, tol=0.0001,\n",
    "          verbose=0)\n",
    "lsvm.fit(X_train, y_train)\n",
    "lsvm_scores = cross_validate(lsvm,X_test, y_test, cv=5)\n",
    "print(\"Linear Support Vector Machine scores: \",lsvm_scores)\n",
    "print(\"Linear Support Vector Machine train score: \", lsvm.score(X_train, y_train))\n",
    "print(\"Linear Support Vector Machine test score: \", lsvm.score(X_test, y_test))"
   ]
  },
  {
   "cell_type": "code",
   "execution_count": 50,
   "metadata": {},
   "outputs": [
    {
     "data": {
      "text/plain": [
       "0.9116293662413721"
      ]
     },
     "execution_count": 50,
     "metadata": {},
     "output_type": "execute_result"
    }
   ],
   "source": [
    "y_predict = lsvm.predict(X_test)\n",
    "y_true = y_test\n",
    "import sklearn\n",
    "from sklearn.metrics import accuracy_score\n",
    "accuracy_score(y_true, y_predict)"
   ]
  },
  {
   "cell_type": "markdown",
   "metadata": {},
   "source": [
    "### Kerenilzed Support Vector Machine (rbf, poly, and linear)"
   ]
  },
  {
   "cell_type": "code",
   "execution_count": 51,
   "metadata": {},
   "outputs": [],
   "source": [
    "from sklearn.svm import SVC\n",
    "svc_obj = SVC()"
   ]
  },
  {
   "cell_type": "code",
   "execution_count": 52,
   "metadata": {},
   "outputs": [
    {
     "name": "stderr",
     "output_type": "stream",
     "text": [
      "[Parallel(n_jobs=-1)]: Using backend LokyBackend with 8 concurrent workers.\n"
     ]
    },
    {
     "name": "stdout",
     "output_type": "stream",
     "text": [
      "Fitting 3 folds for each of 6 candidates, totalling 18 fits\n"
     ]
    },
    {
     "name": "stderr",
     "output_type": "stream",
     "text": [
      "[Parallel(n_jobs=-1)]: Done  13 out of  18 | elapsed:   29.2s remaining:   11.2s\n",
      "[Parallel(n_jobs=-1)]: Done  18 out of  18 | elapsed:   42.8s finished\n",
      "C:\\Users\\srira\\Anaconda3\\lib\\site-packages\\sklearn\\svm\\base.py:193: FutureWarning: The default value of gamma will change from 'auto' to 'scale' in version 0.22 to account better for unscaled features. Set gamma explicitly to 'auto' or 'scale' to avoid this warning.\n",
      "  \"avoid this warning.\", FutureWarning)\n"
     ]
    }
   ],
   "source": [
    "param_values = {'kernel': ['rbf','linear','poly'], 'C' : [0.1, 1]}\n",
    "               \n",
    "kernelized_svm = GridSearchCV(svc_obj, param_values, verbose = 2, cv = 3, n_jobs = -1)\n",
    "kernelized_svmfit = kernelized_svm.fit(X_train, y_train)"
   ]
  },
  {
   "cell_type": "code",
   "execution_count": 53,
   "metadata": {},
   "outputs": [
    {
     "name": "stdout",
     "output_type": "stream",
     "text": [
      "kernelized_svm train score:  0.9146881428023568\n",
      "kernelized_svm test score:  0.910897301819703\n",
      "Best score :  0.9043684412369697\n",
      "Best estimator:  SVC(C=1, cache_size=200, class_weight=None, coef0=0.0,\n",
      "    decision_function_shape='ovr', degree=3, gamma='auto_deprecated',\n",
      "    kernel='rbf', max_iter=-1, probability=False, random_state=None,\n",
      "    shrinking=True, tol=0.001, verbose=False)\n",
      "Best parameters:  {'C': 1, 'kernel': 'rbf'}\n"
     ]
    }
   ],
   "source": [
    "print(\"kernelized_svm train score: \",kernelized_svm.score(X_train, y_train))\n",
    "print(\"kernelized_svm test score: \",kernelized_svm.score(X_test, y_test))\n",
    "print(\"Best score : \", kernelized_svmfit.best_score_)\n",
    "print(\"Best estimator: \",kernelized_svmfit.best_estimator_)\n",
    "print(\"Best parameters: \",kernelized_svmfit.best_params_)"
   ]
  },
  {
   "cell_type": "code",
   "execution_count": 54,
   "metadata": {},
   "outputs": [
    {
     "name": "stderr",
     "output_type": "stream",
     "text": [
      "C:\\Users\\srira\\Anaconda3\\lib\\site-packages\\sklearn\\svm\\base.py:193: FutureWarning: The default value of gamma will change from 'auto' to 'scale' in version 0.22 to account better for unscaled features. Set gamma explicitly to 'auto' or 'scale' to avoid this warning.\n",
      "  \"avoid this warning.\", FutureWarning)\n",
      "C:\\Users\\srira\\Anaconda3\\lib\\site-packages\\sklearn\\svm\\base.py:193: FutureWarning: The default value of gamma will change from 'auto' to 'scale' in version 0.22 to account better for unscaled features. Set gamma explicitly to 'auto' or 'scale' to avoid this warning.\n",
      "  \"avoid this warning.\", FutureWarning)\n",
      "C:\\Users\\srira\\Anaconda3\\lib\\site-packages\\sklearn\\svm\\base.py:193: FutureWarning: The default value of gamma will change from 'auto' to 'scale' in version 0.22 to account better for unscaled features. Set gamma explicitly to 'auto' or 'scale' to avoid this warning.\n",
      "  \"avoid this warning.\", FutureWarning)\n",
      "C:\\Users\\srira\\Anaconda3\\lib\\site-packages\\sklearn\\svm\\base.py:193: FutureWarning: The default value of gamma will change from 'auto' to 'scale' in version 0.22 to account better for unscaled features. Set gamma explicitly to 'auto' or 'scale' to avoid this warning.\n",
      "  \"avoid this warning.\", FutureWarning)\n",
      "C:\\Users\\srira\\Anaconda3\\lib\\site-packages\\sklearn\\svm\\base.py:193: FutureWarning: The default value of gamma will change from 'auto' to 'scale' in version 0.22 to account better for unscaled features. Set gamma explicitly to 'auto' or 'scale' to avoid this warning.\n",
      "  \"avoid this warning.\", FutureWarning)\n",
      "C:\\Users\\srira\\Anaconda3\\lib\\site-packages\\sklearn\\svm\\base.py:193: FutureWarning: The default value of gamma will change from 'auto' to 'scale' in version 0.22 to account better for unscaled features. Set gamma explicitly to 'auto' or 'scale' to avoid this warning.\n",
      "  \"avoid this warning.\", FutureWarning)\n"
     ]
    },
    {
     "name": "stdout",
     "output_type": "stream",
     "text": [
      "kernelized_svm scores:  {'fit_time': array([0.56948137, 0.55049467, 0.56649208, 0.58739877, 0.64427662]), 'score_time': array([0.08477378, 0.08381128, 0.08679175, 0.09678531, 0.09773874]), 'test_score': array([0.91270256, 0.90747517, 0.90376569, 0.90951883, 0.90376569])}\n",
      "kernelized_svm train score:  0.9146881428023568\n",
      "kernelized_svm test score:  0.910897301819703\n"
     ]
    }
   ],
   "source": [
    "#cross-validation\n",
    "svc_obj = SVC(C=1, cache_size=200, class_weight=None, coef0=0.0,\n",
    "    decision_function_shape='ovr', degree=3, gamma='auto_deprecated',\n",
    "    kernel='rbf', max_iter=-1, probability=False, random_state=None,\n",
    "    shrinking=True, tol=0.001, verbose=False)\n",
    "svc_obj.fit(X_train, y_train)\n",
    "svc_obj_scores = cross_validate(svc_obj,X_test, y_test, cv=5)\n",
    "print(\"kernelized_svm scores: \",svc_obj_scores)\n",
    "print(\"kernelized_svm train score: \", svc_obj.score(X_train, y_train))\n",
    "print(\"kernelized_svm test score: \", svc_obj.score(X_test, y_test))\n",
    "\n"
   ]
  },
  {
   "cell_type": "code",
   "execution_count": 55,
   "metadata": {},
   "outputs": [
    {
     "data": {
      "text/plain": [
       "0.910897301819703"
      ]
     },
     "execution_count": 55,
     "metadata": {},
     "output_type": "execute_result"
    }
   ],
   "source": [
    "y_predict = svc_obj.predict(X_test)\n",
    "y_true = y_test\n",
    "import sklearn\n",
    "from sklearn.metrics import accuracy_score\n",
    "accuracy_score(y_true, y_predict)"
   ]
  },
  {
   "cell_type": "markdown",
   "metadata": {},
   "source": [
    "### Decision Tree"
   ]
  },
  {
   "cell_type": "code",
   "execution_count": 240,
   "metadata": {},
   "outputs": [
    {
     "name": "stdout",
     "output_type": "stream",
     "text": [
      "Decision tree train score:  0.9978035770316912\n",
      "Decision tree test score:  0.8895628529596319\n"
     ]
    }
   ],
   "source": [
    "from sklearn import tree\n",
    "dtree = tree.DecisionTreeClassifier()\n",
    "dtree.fit(X_train, y_train)\n",
    "print(\"Decision tree train score: \",dtree.score(X_train, y_train))\n",
    "print(\"Decision tree test score: \",dtree.score(X_test, y_test))"
   ]
  },
  {
   "cell_type": "code",
   "execution_count": 241,
   "metadata": {},
   "outputs": [],
   "source": [
    "parameters = {'criterion':['gini','entropy'], 'max_depth': range(2,20)}\n",
    "dtree_gs = GridSearchCV(tree.DecisionTreeClassifier(), parameters, n_jobs = -1, cv = 2)"
   ]
  },
  {
   "cell_type": "code",
   "execution_count": 242,
   "metadata": {},
   "outputs": [],
   "source": [
    "dtree_gs_fit = dtree_gs.fit(X_train, y_train)"
   ]
  },
  {
   "cell_type": "code",
   "execution_count": 243,
   "metadata": {},
   "outputs": [
    {
     "name": "stdout",
     "output_type": "stream",
     "text": [
      "Decision tree train score:  0.9106787992887774\n",
      "Decision tree test score:  0.911106463083037\n",
      "Best score :  0.9091447895966251\n",
      "Best estimator:  DecisionTreeClassifier(class_weight=None, criterion='gini', max_depth=4,\n",
      "                       max_features=None, max_leaf_nodes=None,\n",
      "                       min_impurity_decrease=0.0, min_impurity_split=None,\n",
      "                       min_samples_leaf=1, min_samples_split=2,\n",
      "                       min_weight_fraction_leaf=0.0, presort=False,\n",
      "                       random_state=None, splitter='best')\n",
      "Best parameters:  {'criterion': 'gini', 'max_depth': 4}\n"
     ]
    }
   ],
   "source": [
    "print(\"Decision tree train score: \",dtree_gs.score(X_train, y_train))\n",
    "print(\"Decision tree test score: \",dtree_gs.score(X_test, y_test))\n",
    "print(\"Best score : \", dtree_gs_fit.best_score_)\n",
    "print(\"Best estimator: \",dtree_gs_fit.best_estimator_)\n",
    "print(\"Best parameters: \",dtree_gs_fit.best_params_)"
   ]
  },
  {
   "cell_type": "code",
   "execution_count": 244,
   "metadata": {},
   "outputs": [
    {
     "name": "stdout",
     "output_type": "stream",
     "text": [
      "Decision tree scores:  {'fit_time': array([0.01195788, 0.01201558, 0.00798273, 0.00798774, 0.00799108]), 'score_time': array([0., 0., 0., 0., 0.]), 'test_score': array([0.91845269, 0.91897543, 0.91527197, 0.91474895, 0.91579498])}\n",
      "Decision tree train score:  0.9106787992887774\n",
      "Decision tree test score:  0.911106463083037\n"
     ]
    }
   ],
   "source": [
    "#cross-validation\n",
    "dtree = tree.DecisionTreeClassifier(class_weight=None, criterion='gini', max_depth=4,\n",
    "                       max_features=None, max_leaf_nodes=None,\n",
    "                       min_impurity_decrease=0.0, min_impurity_split=None,\n",
    "                       min_samples_leaf=1, min_samples_split=2,\n",
    "                       min_weight_fraction_leaf=0.0, presort=False,\n",
    "                       random_state=None, splitter='best')\n",
    "dtree.fit(X_train, y_train)\n",
    "dtree_scores = cross_validate(dtree,X_test, y_test, cv=5)\n",
    "print(\"Decision tree scores: \",dtree_scores)\n",
    "print(\"Decision tree train score: \", dtree.score(X_train, y_train))\n",
    "print(\"Decision tree test score: \", dtree.score(X_test, y_test))\n",
    "\n",
    "\n",
    "y_scores =dtree.predict_proba(X_test)\n",
    "fpr_dt_clf, tpr_dt_clf, threshold_dt_clf = roc_curve(y_test, y_scores[:,1])\n",
    "roc_auc_dt_clf = auc(fpr_dt_clf, tpr_dt_clf)"
   ]
  },
  {
   "cell_type": "code",
   "execution_count": 245,
   "metadata": {},
   "outputs": [
    {
     "data": {
      "text/plain": [
       "0.911106463083037"
      ]
     },
     "execution_count": 245,
     "metadata": {},
     "output_type": "execute_result"
    }
   ],
   "source": [
    "y_predict = dtree.predict(X_test)\n",
    "y_true = y_test\n",
    "import sklearn\n",
    "from sklearn.metrics import accuracy_score\n",
    "dt_accuracy = accuracy_score(y_true, y_predict)\n",
    "dt_accuracy "
   ]
  },
  {
   "cell_type": "markdown",
   "metadata": {},
   "source": [
    "# Random Forest"
   ]
  },
  {
   "cell_type": "code",
   "execution_count": 232,
   "metadata": {},
   "outputs": [],
   "source": [
    "from sklearn.linear_model import LogisticRegression\n",
    "from sklearn.model_selection import GridSearchCV, KFold, StratifiedKFold, cross_val_score\n",
    "from sklearn.metrics import recall_score\n",
    "import sklearn.model_selection\n",
    "#sklearn.model_selection.KFold"
   ]
  },
  {
   "cell_type": "code",
   "execution_count": 233,
   "metadata": {},
   "outputs": [
    {
     "data": {
      "text/plain": [
       "GridSearchCV(cv=StratifiedKFold(n_splits=5, random_state=None, shuffle=False),\n",
       "             error_score='raise-deprecating',\n",
       "             estimator=RandomForestClassifier(bootstrap=True, class_weight=None,\n",
       "                                              criterion='gini', max_depth=None,\n",
       "                                              max_features='auto',\n",
       "                                              max_leaf_nodes=None,\n",
       "                                              min_impurity_decrease=0.0,\n",
       "                                              min_impurity_split=None,\n",
       "                                              min_samples_leaf=1,\n",
       "                                              min_samples_split=2,\n",
       "                                              min_weight_fraction_leaf=0.0,\n",
       "                                              n_estimators=300, n_jobs=-1,\n",
       "                                              oob_score=False, random_state=10,\n",
       "                                              verbose=0, warm_start=False),\n",
       "             iid='warn', n_jobs=None,\n",
       "             param_grid={'max_depth': [5, 10, 14],\n",
       "                         'max_features': [5, 10, 15, 19],\n",
       "                         'max_leaf_nodes': [20, 25, 30, 50]},\n",
       "             pre_dispatch='2*n_jobs', refit=True, return_train_score=True,\n",
       "             scoring='accuracy', verbose=0)"
      ]
     },
     "execution_count": 233,
     "metadata": {},
     "output_type": "execute_result"
    }
   ],
   "source": [
    "kFold = StratifiedKFold(n_splits=5)\n",
    "\n",
    "from sklearn.ensemble import RandomForestClassifier\n",
    "rf_clf = RandomForestClassifier(n_estimators=300, criterion='gini',n_jobs= -1,random_state=10)\n",
    "\n",
    "param_grid = {'max_features': [5,10,15,19],\n",
    "          'max_depth': [5, 10,14],\n",
    "           'max_leaf_nodes':[20,25,30,50]}\n",
    "\n",
    "grid_search = GridSearchCV(rf_clf, param_grid, scoring = 'accuracy',cv=kFold, return_train_score=True)\n",
    "grid_search.fit(X_train,y_train)"
   ]
  },
  {
   "cell_type": "code",
   "execution_count": 234,
   "metadata": {},
   "outputs": [
    {
     "data": {
      "text/plain": [
       "{'max_depth': 14, 'max_features': 15, 'max_leaf_nodes': 50}"
      ]
     },
     "execution_count": 234,
     "metadata": {},
     "output_type": "execute_result"
    }
   ],
   "source": [
    "grid_search.best_params_"
   ]
  },
  {
   "cell_type": "code",
   "execution_count": 235,
   "metadata": {},
   "outputs": [
    {
     "data": {
      "text/plain": [
       "0.9121779451242896"
      ]
     },
     "execution_count": 235,
     "metadata": {},
     "output_type": "execute_result"
    }
   ],
   "source": [
    "grid_search.best_score_"
   ]
  },
  {
   "cell_type": "code",
   "execution_count": 236,
   "metadata": {},
   "outputs": [
    {
     "data": {
      "text/plain": [
       "RandomForestClassifier(bootstrap=True, class_weight=None, criterion='gini',\n",
       "                       max_depth=14, max_features=15, max_leaf_nodes=50,\n",
       "                       min_impurity_decrease=0.0, min_impurity_split=None,\n",
       "                       min_samples_leaf=1, min_samples_split=2,\n",
       "                       min_weight_fraction_leaf=0.0, n_estimators=300,\n",
       "                       n_jobs=None, oob_score=False, random_state=None,\n",
       "                       verbose=0, warm_start=False)"
      ]
     },
     "execution_count": 236,
     "metadata": {},
     "output_type": "execute_result"
    }
   ],
   "source": [
    "rf_clf = RandomForestClassifier(n_estimators=300, criterion='gini',max_features=15,max_depth=14,max_leaf_nodes=50)\n",
    "rf_clf.fit(X_train, y_train)"
   ]
  },
  {
   "cell_type": "code",
   "execution_count": 237,
   "metadata": {},
   "outputs": [
    {
     "name": "stdout",
     "output_type": "stream",
     "text": [
      "Train score: 0.9214168671338423\n",
      "Test score: 0.9153942689813847\n"
     ]
    }
   ],
   "source": [
    "y_pred_train = rf_clf.predict(X_train)\n",
    "y_pred_test = rf_clf.predict(X_test)\n",
    "\n",
    "rf_train_score = accuracy_score(y_train, y_pred_train)\n",
    "rf_test_score = accuracy_score(y_test, y_pred_test)\n",
    "\n",
    "print('Train score: {}'\n",
    "      .format(rf_train_score))\n",
    "print('Test score: {}'\n",
    "      .format(rf_test_score))\n",
    "\n",
    "metrics.confusion_matrix(y_test, y_pred_test)\n",
    "\n",
    "\n",
    "y_scores =rf_clf.predict_proba(X_test)\n",
    "fpr_rf_clf, tpr_rf_clf, threshold_rf_clf = roc_curve(y_test, y_scores[:,1])\n",
    "roc_auc_rf_clf = auc(fpr_rf_clf, tpr_rf_clf)"
   ]
  },
  {
   "cell_type": "markdown",
   "metadata": {},
   "source": [
    "# Hard voting"
   ]
  },
  {
   "cell_type": "code",
   "execution_count": 86,
   "metadata": {},
   "outputs": [
    {
     "name": "stderr",
     "output_type": "stream",
     "text": [
      "C:\\Users\\srira\\Anaconda3\\lib\\site-packages\\sklearn\\linear_model\\logistic.py:432: FutureWarning: Default solver will be changed to 'lbfgs' in 0.22. Specify a solver to silence this warning.\n",
      "  FutureWarning)\n",
      "C:\\Users\\srira\\Anaconda3\\lib\\site-packages\\sklearn\\svm\\base.py:929: ConvergenceWarning: Liblinear failed to converge, increase the number of iterations.\n",
      "  \"the number of iterations.\", ConvergenceWarning)\n",
      "C:\\Users\\srira\\Anaconda3\\lib\\site-packages\\sklearn\\svm\\base.py:193: FutureWarning: The default value of gamma will change from 'auto' to 'scale' in version 0.22 to account better for unscaled features. Set gamma explicitly to 'auto' or 'scale' to avoid this warning.\n",
      "  \"avoid this warning.\", FutureWarning)\n"
     ]
    },
    {
     "name": "stdout",
     "output_type": "stream",
     "text": [
      "Train score: 0.91\n",
      "Test score: 0.91\n"
     ]
    }
   ],
   "source": [
    "from sklearn.ensemble import VotingClassifier\n",
    "from sklearn.model_selection import cross_val_score\n",
    "\n",
    "hard_voting_clf = VotingClassifier(estimators=[('knn', knn),('lr',logreg),('lsvc', lsvm),\n",
    "                                   ('ksvc', svc_obj),('dt', dtree), ('rt', rf_clf)],voting = 'hard')\n",
    "hard_voting_clf.fit(X_train, y_train)\n",
    "print('Train score: {0:0.2f}'.format(hard_voting_clf.score(X_train, y_train)))\n",
    "print('Test score: {0:0.2f}'.format(hard_voting_clf.score(X_test, y_test)))"
   ]
  },
  {
   "cell_type": "code",
   "execution_count": 87,
   "metadata": {},
   "outputs": [
    {
     "name": "stderr",
     "output_type": "stream",
     "text": [
      "C:\\Users\\srira\\Anaconda3\\lib\\site-packages\\sklearn\\linear_model\\logistic.py:432: FutureWarning: Default solver will be changed to 'lbfgs' in 0.22. Specify a solver to silence this warning.\n",
      "  FutureWarning)\n",
      "C:\\Users\\srira\\Anaconda3\\lib\\site-packages\\sklearn\\svm\\base.py:929: ConvergenceWarning: Liblinear failed to converge, increase the number of iterations.\n",
      "  \"the number of iterations.\", ConvergenceWarning)\n",
      "C:\\Users\\srira\\Anaconda3\\lib\\site-packages\\sklearn\\svm\\base.py:193: FutureWarning: The default value of gamma will change from 'auto' to 'scale' in version 0.22 to account better for unscaled features. Set gamma explicitly to 'auto' or 'scale' to avoid this warning.\n",
      "  \"avoid this warning.\", FutureWarning)\n",
      "C:\\Users\\srira\\Anaconda3\\lib\\site-packages\\sklearn\\linear_model\\logistic.py:432: FutureWarning: Default solver will be changed to 'lbfgs' in 0.22. Specify a solver to silence this warning.\n",
      "  FutureWarning)\n",
      "C:\\Users\\srira\\Anaconda3\\lib\\site-packages\\sklearn\\svm\\base.py:929: ConvergenceWarning: Liblinear failed to converge, increase the number of iterations.\n",
      "  \"the number of iterations.\", ConvergenceWarning)\n",
      "C:\\Users\\srira\\Anaconda3\\lib\\site-packages\\sklearn\\svm\\base.py:193: FutureWarning: The default value of gamma will change from 'auto' to 'scale' in version 0.22 to account better for unscaled features. Set gamma explicitly to 'auto' or 'scale' to avoid this warning.\n",
      "  \"avoid this warning.\", FutureWarning)\n",
      "C:\\Users\\srira\\Anaconda3\\lib\\site-packages\\sklearn\\linear_model\\logistic.py:432: FutureWarning: Default solver will be changed to 'lbfgs' in 0.22. Specify a solver to silence this warning.\n",
      "  FutureWarning)\n",
      "C:\\Users\\srira\\Anaconda3\\lib\\site-packages\\sklearn\\svm\\base.py:929: ConvergenceWarning: Liblinear failed to converge, increase the number of iterations.\n",
      "  \"the number of iterations.\", ConvergenceWarning)\n",
      "C:\\Users\\srira\\Anaconda3\\lib\\site-packages\\sklearn\\svm\\base.py:193: FutureWarning: The default value of gamma will change from 'auto' to 'scale' in version 0.22 to account better for unscaled features. Set gamma explicitly to 'auto' or 'scale' to avoid this warning.\n",
      "  \"avoid this warning.\", FutureWarning)\n",
      "C:\\Users\\srira\\Anaconda3\\lib\\site-packages\\sklearn\\linear_model\\logistic.py:432: FutureWarning: Default solver will be changed to 'lbfgs' in 0.22. Specify a solver to silence this warning.\n",
      "  FutureWarning)\n",
      "C:\\Users\\srira\\Anaconda3\\lib\\site-packages\\sklearn\\svm\\base.py:929: ConvergenceWarning: Liblinear failed to converge, increase the number of iterations.\n",
      "  \"the number of iterations.\", ConvergenceWarning)\n",
      "C:\\Users\\srira\\Anaconda3\\lib\\site-packages\\sklearn\\svm\\base.py:193: FutureWarning: The default value of gamma will change from 'auto' to 'scale' in version 0.22 to account better for unscaled features. Set gamma explicitly to 'auto' or 'scale' to avoid this warning.\n",
      "  \"avoid this warning.\", FutureWarning)\n",
      "C:\\Users\\srira\\Anaconda3\\lib\\site-packages\\sklearn\\linear_model\\logistic.py:432: FutureWarning: Default solver will be changed to 'lbfgs' in 0.22. Specify a solver to silence this warning.\n",
      "  FutureWarning)\n",
      "C:\\Users\\srira\\Anaconda3\\lib\\site-packages\\sklearn\\svm\\base.py:929: ConvergenceWarning: Liblinear failed to converge, increase the number of iterations.\n",
      "  \"the number of iterations.\", ConvergenceWarning)\n",
      "C:\\Users\\srira\\Anaconda3\\lib\\site-packages\\sklearn\\svm\\base.py:193: FutureWarning: The default value of gamma will change from 'auto' to 'scale' in version 0.22 to account better for unscaled features. Set gamma explicitly to 'auto' or 'scale' to avoid this warning.\n",
      "  \"avoid this warning.\", FutureWarning)\n"
     ]
    }
   ],
   "source": [
    "hard_score = cross_val_score(estimator=hard_voting_clf,X=X_train,y=y_train, scoring='accuracy', cv=kFold)"
   ]
  },
  {
   "cell_type": "code",
   "execution_count": 88,
   "metadata": {},
   "outputs": [
    {
     "name": "stdout",
     "output_type": "stream",
     "text": [
      "Mean Score: 0.91\n",
      "Mean Std: 0.00\n"
     ]
    }
   ],
   "source": [
    "print('Mean Score: {0:0.2f}'.format(hard_score.mean()))\n",
    "print('Mean Std: {0:0.2f}'.format(hard_score.std()))"
   ]
  },
  {
   "cell_type": "markdown",
   "metadata": {},
   "source": [
    "# Soft voting"
   ]
  },
  {
   "cell_type": "code",
   "execution_count": 89,
   "metadata": {},
   "outputs": [
    {
     "name": "stderr",
     "output_type": "stream",
     "text": [
      "C:\\Users\\srira\\Anaconda3\\lib\\site-packages\\sklearn\\linear_model\\logistic.py:432: FutureWarning: Default solver will be changed to 'lbfgs' in 0.22. Specify a solver to silence this warning.\n",
      "  FutureWarning)\n"
     ]
    },
    {
     "name": "stdout",
     "output_type": "stream",
     "text": [
      "Train score: 0.91\n",
      "Test score: 0.91\n"
     ]
    }
   ],
   "source": [
    "from sklearn.ensemble import VotingClassifier\n",
    "from sklearn.model_selection import cross_val_score\n",
    "\n",
    "soft_voting_clf = VotingClassifier(estimators=[('knn', knn),('lr',logreg),\n",
    "                                   ('dt', dtree), ('rt', rf_clf)],voting = 'soft')\n",
    "soft_voting_clf.fit(X_train, y_train)\n",
    "print('Train score: {0:0.2f}'.format(soft_voting_clf.score(X_train, y_train)))\n",
    "print('Test score: {0:0.2f}'.format(soft_voting_clf.score(X_test, y_test)))"
   ]
  },
  {
   "cell_type": "code",
   "execution_count": 90,
   "metadata": {},
   "outputs": [
    {
     "name": "stderr",
     "output_type": "stream",
     "text": [
      "C:\\Users\\srira\\Anaconda3\\lib\\site-packages\\sklearn\\linear_model\\logistic.py:432: FutureWarning: Default solver will be changed to 'lbfgs' in 0.22. Specify a solver to silence this warning.\n",
      "  FutureWarning)\n",
      "C:\\Users\\srira\\Anaconda3\\lib\\site-packages\\sklearn\\linear_model\\logistic.py:432: FutureWarning: Default solver will be changed to 'lbfgs' in 0.22. Specify a solver to silence this warning.\n",
      "  FutureWarning)\n",
      "C:\\Users\\srira\\Anaconda3\\lib\\site-packages\\sklearn\\linear_model\\logistic.py:432: FutureWarning: Default solver will be changed to 'lbfgs' in 0.22. Specify a solver to silence this warning.\n",
      "  FutureWarning)\n",
      "C:\\Users\\srira\\Anaconda3\\lib\\site-packages\\sklearn\\linear_model\\logistic.py:432: FutureWarning: Default solver will be changed to 'lbfgs' in 0.22. Specify a solver to silence this warning.\n",
      "  FutureWarning)\n",
      "C:\\Users\\srira\\Anaconda3\\lib\\site-packages\\sklearn\\linear_model\\logistic.py:432: FutureWarning: Default solver will be changed to 'lbfgs' in 0.22. Specify a solver to silence this warning.\n",
      "  FutureWarning)\n"
     ]
    }
   ],
   "source": [
    "soft_score = cross_val_score(estimator=soft_voting_clf,X=X_train,y=y_train, scoring='recall_weighted', cv=kFold)"
   ]
  },
  {
   "cell_type": "code",
   "execution_count": 91,
   "metadata": {},
   "outputs": [
    {
     "name": "stdout",
     "output_type": "stream",
     "text": [
      "Mean Score: 0.91\n",
      "Mean Std: 0.00\n"
     ]
    }
   ],
   "source": [
    "print('Mean Score: {0:0.2f}'.format(soft_score.mean()))\n",
    "print('Mean Std: {0:0.2f}'.format(soft_score.std()))"
   ]
  },
  {
   "cell_type": "markdown",
   "metadata": {},
   "source": [
    "train_scores= [knn_train_p_score, lreg_train_p_score, rf_train_score, knn_pca_train_p_score,\n",
    "                      logreg_pca_train_p_score, lscvc_train_score, kscv_train_p_score, \n",
    "                      dt_train_p_score, rf_train_p_score]\n",
    "\n",
    "test_scores= [knn_valid_score, lreg_valid_score,rf_valid_p_score, knn_valid_p_score,\n",
    "                     logreg_valid_p_score, lscv_valid_p_score, kscv_valid_p_score, \n",
    "                     dt_valid_p_score, rf_valid_p_score]\n",
    "\n",
    "classifiers = ['KNN Clasification', 'Logistic Regression','Random Forest', 'Linear SVM with PCA',\n",
    "               'Kernalised SVM with PCA', 'Decision Trees with PCA', 'Random Forest with PCA']"
   ]
  },
  {
   "cell_type": "markdown",
   "metadata": {},
   "source": [
    "## scores\n",
    "##### KNN\n",
    "1. KNN train score:  0.9091447895966251\n",
    "2. KNN test score:  0.9085965279230287\n",
    "3. Accuracy:0.9085965279230287\n",
    "\n",
    "##### Logistic\n",
    "1. Logistic Regression train score:  0.9074364606212739\n",
    "2. Logistic Regression test score:  0.9129889144530433\n",
    "3. Accuracy:0.9129889144530433\n",
    "\n",
    "##### Linear SVM \n",
    "1. Linear Support Vector Machine train score:  0.9057978593592023\n",
    "2. Linear Support Vector Machine test score:  0.9116293662413721\n",
    "3. Accuracy:0.9116293662413721\n",
    "\n",
    "##### kernelized_svm \n",
    "1. kernelized_svm train score:  0.9146881428023568\n",
    "2. kernelized_svm test score:  0.910897301819703\n",
    "3. Accuracy:0.910897301819703\n",
    "\n",
    "##### Decision tree\n",
    "1. Decision tree train score:  0.9106787992887774\n",
    "2. Decision tree test score:  0.911106463083037\n",
    "3. Accuracy:0.911106463083037\n",
    "\n",
    "##### Random forest\n",
    "1. Random forest Train score: 0.92187009727016\n",
    "2. Random forest Test score: 0.9166492365613889\n",
    "\n",
    "\n",
    "From these Stats we can see that the Random forest and Logistic model are a better model compared to the other models.\n",
    "\n",
    "so we perform the the following operations on the Random forest and Logistic Regression models:\n",
    "\n",
    "1. bagging - random forest and logistic regression\n",
    "\n",
    "2. pasting - Kernelized_svm and decision tree\n",
    "\n",
    "3. adaboosting - \n",
    "\n",
    "4. gradient boosting - \n",
    "\n"
   ]
  },
  {
   "cell_type": "markdown",
   "metadata": {},
   "source": [
    "# Bagging"
   ]
  },
  {
   "cell_type": "markdown",
   "metadata": {},
   "source": [
    "# Logistic Regression model Bagging"
   ]
  },
  {
   "cell_type": "code",
   "execution_count": 92,
   "metadata": {},
   "outputs": [
    {
     "name": "stdout",
     "output_type": "stream",
     "text": [
      "Mean score: 0.8873548855133144\n"
     ]
    }
   ],
   "source": [
    "from sklearn.ensemble import BaggingClassifier\n",
    "\n",
    "bag_log = BaggingClassifier(base_estimator=logreg, n_estimators=100,bootstrap_features=True, max_samples=50, max_features=19)\n",
    "\n",
    "log_bag_score = cross_val_score(estimator=bag_log, X=X_train, y=y_train, scoring='accuracy', cv=kFold, n_jobs=-1)\n",
    "print('Mean score:', log_bag_score.mean())"
   ]
  },
  {
   "cell_type": "code",
   "execution_count": 93,
   "metadata": {},
   "outputs": [
    {
     "name": "stderr",
     "output_type": "stream",
     "text": [
      "C:\\Users\\srira\\Anaconda3\\lib\\site-packages\\sklearn\\linear_model\\logistic.py:432: FutureWarning: Default solver will be changed to 'lbfgs' in 0.22. Specify a solver to silence this warning.\n",
      "  FutureWarning)\n",
      "C:\\Users\\srira\\Anaconda3\\lib\\site-packages\\sklearn\\linear_model\\logistic.py:432: FutureWarning: Default solver will be changed to 'lbfgs' in 0.22. Specify a solver to silence this warning.\n",
      "  FutureWarning)\n",
      "C:\\Users\\srira\\Anaconda3\\lib\\site-packages\\sklearn\\linear_model\\logistic.py:432: FutureWarning: Default solver will be changed to 'lbfgs' in 0.22. Specify a solver to silence this warning.\n",
      "  FutureWarning)\n",
      "C:\\Users\\srira\\Anaconda3\\lib\\site-packages\\sklearn\\linear_model\\logistic.py:432: FutureWarning: Default solver will be changed to 'lbfgs' in 0.22. Specify a solver to silence this warning.\n",
      "  FutureWarning)\n",
      "C:\\Users\\srira\\Anaconda3\\lib\\site-packages\\sklearn\\linear_model\\logistic.py:432: FutureWarning: Default solver will be changed to 'lbfgs' in 0.22. Specify a solver to silence this warning.\n",
      "  FutureWarning)\n",
      "C:\\Users\\srira\\Anaconda3\\lib\\site-packages\\sklearn\\linear_model\\logistic.py:432: FutureWarning: Default solver will be changed to 'lbfgs' in 0.22. Specify a solver to silence this warning.\n",
      "  FutureWarning)\n",
      "C:\\Users\\srira\\Anaconda3\\lib\\site-packages\\sklearn\\linear_model\\logistic.py:432: FutureWarning: Default solver will be changed to 'lbfgs' in 0.22. Specify a solver to silence this warning.\n",
      "  FutureWarning)\n",
      "C:\\Users\\srira\\Anaconda3\\lib\\site-packages\\sklearn\\linear_model\\logistic.py:432: FutureWarning: Default solver will be changed to 'lbfgs' in 0.22. Specify a solver to silence this warning.\n",
      "  FutureWarning)\n",
      "C:\\Users\\srira\\Anaconda3\\lib\\site-packages\\sklearn\\linear_model\\logistic.py:432: FutureWarning: Default solver will be changed to 'lbfgs' in 0.22. Specify a solver to silence this warning.\n",
      "  FutureWarning)\n",
      "C:\\Users\\srira\\Anaconda3\\lib\\site-packages\\sklearn\\linear_model\\logistic.py:432: FutureWarning: Default solver will be changed to 'lbfgs' in 0.22. Specify a solver to silence this warning.\n",
      "  FutureWarning)\n",
      "C:\\Users\\srira\\Anaconda3\\lib\\site-packages\\sklearn\\linear_model\\logistic.py:432: FutureWarning: Default solver will be changed to 'lbfgs' in 0.22. Specify a solver to silence this warning.\n",
      "  FutureWarning)\n",
      "C:\\Users\\srira\\Anaconda3\\lib\\site-packages\\sklearn\\linear_model\\logistic.py:432: FutureWarning: Default solver will be changed to 'lbfgs' in 0.22. Specify a solver to silence this warning.\n",
      "  FutureWarning)\n",
      "C:\\Users\\srira\\Anaconda3\\lib\\site-packages\\sklearn\\linear_model\\logistic.py:432: FutureWarning: Default solver will be changed to 'lbfgs' in 0.22. Specify a solver to silence this warning.\n",
      "  FutureWarning)\n",
      "C:\\Users\\srira\\Anaconda3\\lib\\site-packages\\sklearn\\linear_model\\logistic.py:432: FutureWarning: Default solver will be changed to 'lbfgs' in 0.22. Specify a solver to silence this warning.\n",
      "  FutureWarning)\n",
      "C:\\Users\\srira\\Anaconda3\\lib\\site-packages\\sklearn\\linear_model\\logistic.py:432: FutureWarning: Default solver will be changed to 'lbfgs' in 0.22. Specify a solver to silence this warning.\n",
      "  FutureWarning)\n",
      "C:\\Users\\srira\\Anaconda3\\lib\\site-packages\\sklearn\\linear_model\\logistic.py:432: FutureWarning: Default solver will be changed to 'lbfgs' in 0.22. Specify a solver to silence this warning.\n",
      "  FutureWarning)\n",
      "C:\\Users\\srira\\Anaconda3\\lib\\site-packages\\sklearn\\linear_model\\logistic.py:432: FutureWarning: Default solver will be changed to 'lbfgs' in 0.22. Specify a solver to silence this warning.\n",
      "  FutureWarning)\n",
      "C:\\Users\\srira\\Anaconda3\\lib\\site-packages\\sklearn\\linear_model\\logistic.py:432: FutureWarning: Default solver will be changed to 'lbfgs' in 0.22. Specify a solver to silence this warning.\n",
      "  FutureWarning)\n",
      "C:\\Users\\srira\\Anaconda3\\lib\\site-packages\\sklearn\\linear_model\\logistic.py:432: FutureWarning: Default solver will be changed to 'lbfgs' in 0.22. Specify a solver to silence this warning.\n",
      "  FutureWarning)\n",
      "C:\\Users\\srira\\Anaconda3\\lib\\site-packages\\sklearn\\linear_model\\logistic.py:432: FutureWarning: Default solver will be changed to 'lbfgs' in 0.22. Specify a solver to silence this warning.\n",
      "  FutureWarning)\n",
      "C:\\Users\\srira\\Anaconda3\\lib\\site-packages\\sklearn\\linear_model\\logistic.py:432: FutureWarning: Default solver will be changed to 'lbfgs' in 0.22. Specify a solver to silence this warning.\n",
      "  FutureWarning)\n",
      "C:\\Users\\srira\\Anaconda3\\lib\\site-packages\\sklearn\\linear_model\\logistic.py:432: FutureWarning: Default solver will be changed to 'lbfgs' in 0.22. Specify a solver to silence this warning.\n",
      "  FutureWarning)\n",
      "C:\\Users\\srira\\Anaconda3\\lib\\site-packages\\sklearn\\linear_model\\logistic.py:432: FutureWarning: Default solver will be changed to 'lbfgs' in 0.22. Specify a solver to silence this warning.\n",
      "  FutureWarning)\n",
      "C:\\Users\\srira\\Anaconda3\\lib\\site-packages\\sklearn\\linear_model\\logistic.py:432: FutureWarning: Default solver will be changed to 'lbfgs' in 0.22. Specify a solver to silence this warning.\n",
      "  FutureWarning)\n",
      "C:\\Users\\srira\\Anaconda3\\lib\\site-packages\\sklearn\\linear_model\\logistic.py:432: FutureWarning: Default solver will be changed to 'lbfgs' in 0.22. Specify a solver to silence this warning.\n",
      "  FutureWarning)\n",
      "C:\\Users\\srira\\Anaconda3\\lib\\site-packages\\sklearn\\linear_model\\logistic.py:432: FutureWarning: Default solver will be changed to 'lbfgs' in 0.22. Specify a solver to silence this warning.\n",
      "  FutureWarning)\n",
      "C:\\Users\\srira\\Anaconda3\\lib\\site-packages\\sklearn\\linear_model\\logistic.py:432: FutureWarning: Default solver will be changed to 'lbfgs' in 0.22. Specify a solver to silence this warning.\n",
      "  FutureWarning)\n",
      "C:\\Users\\srira\\Anaconda3\\lib\\site-packages\\sklearn\\linear_model\\logistic.py:432: FutureWarning: Default solver will be changed to 'lbfgs' in 0.22. Specify a solver to silence this warning.\n",
      "  FutureWarning)\n",
      "C:\\Users\\srira\\Anaconda3\\lib\\site-packages\\sklearn\\linear_model\\logistic.py:432: FutureWarning: Default solver will be changed to 'lbfgs' in 0.22. Specify a solver to silence this warning.\n",
      "  FutureWarning)\n",
      "C:\\Users\\srira\\Anaconda3\\lib\\site-packages\\sklearn\\linear_model\\logistic.py:432: FutureWarning: Default solver will be changed to 'lbfgs' in 0.22. Specify a solver to silence this warning.\n",
      "  FutureWarning)\n",
      "C:\\Users\\srira\\Anaconda3\\lib\\site-packages\\sklearn\\linear_model\\logistic.py:432: FutureWarning: Default solver will be changed to 'lbfgs' in 0.22. Specify a solver to silence this warning.\n",
      "  FutureWarning)\n",
      "C:\\Users\\srira\\Anaconda3\\lib\\site-packages\\sklearn\\linear_model\\logistic.py:432: FutureWarning: Default solver will be changed to 'lbfgs' in 0.22. Specify a solver to silence this warning.\n",
      "  FutureWarning)\n",
      "C:\\Users\\srira\\Anaconda3\\lib\\site-packages\\sklearn\\linear_model\\logistic.py:432: FutureWarning: Default solver will be changed to 'lbfgs' in 0.22. Specify a solver to silence this warning.\n",
      "  FutureWarning)\n",
      "C:\\Users\\srira\\Anaconda3\\lib\\site-packages\\sklearn\\linear_model\\logistic.py:432: FutureWarning: Default solver will be changed to 'lbfgs' in 0.22. Specify a solver to silence this warning.\n",
      "  FutureWarning)\n",
      "C:\\Users\\srira\\Anaconda3\\lib\\site-packages\\sklearn\\linear_model\\logistic.py:432: FutureWarning: Default solver will be changed to 'lbfgs' in 0.22. Specify a solver to silence this warning.\n",
      "  FutureWarning)\n",
      "C:\\Users\\srira\\Anaconda3\\lib\\site-packages\\sklearn\\linear_model\\logistic.py:432: FutureWarning: Default solver will be changed to 'lbfgs' in 0.22. Specify a solver to silence this warning.\n",
      "  FutureWarning)\n",
      "C:\\Users\\srira\\Anaconda3\\lib\\site-packages\\sklearn\\linear_model\\logistic.py:432: FutureWarning: Default solver will be changed to 'lbfgs' in 0.22. Specify a solver to silence this warning.\n",
      "  FutureWarning)\n",
      "C:\\Users\\srira\\Anaconda3\\lib\\site-packages\\sklearn\\linear_model\\logistic.py:432: FutureWarning: Default solver will be changed to 'lbfgs' in 0.22. Specify a solver to silence this warning.\n",
      "  FutureWarning)\n",
      "C:\\Users\\srira\\Anaconda3\\lib\\site-packages\\sklearn\\linear_model\\logistic.py:432: FutureWarning: Default solver will be changed to 'lbfgs' in 0.22. Specify a solver to silence this warning.\n",
      "  FutureWarning)\n",
      "C:\\Users\\srira\\Anaconda3\\lib\\site-packages\\sklearn\\linear_model\\logistic.py:432: FutureWarning: Default solver will be changed to 'lbfgs' in 0.22. Specify a solver to silence this warning.\n",
      "  FutureWarning)\n",
      "C:\\Users\\srira\\Anaconda3\\lib\\site-packages\\sklearn\\linear_model\\logistic.py:432: FutureWarning: Default solver will be changed to 'lbfgs' in 0.22. Specify a solver to silence this warning.\n",
      "  FutureWarning)\n",
      "C:\\Users\\srira\\Anaconda3\\lib\\site-packages\\sklearn\\linear_model\\logistic.py:432: FutureWarning: Default solver will be changed to 'lbfgs' in 0.22. Specify a solver to silence this warning.\n",
      "  FutureWarning)\n",
      "C:\\Users\\srira\\Anaconda3\\lib\\site-packages\\sklearn\\linear_model\\logistic.py:432: FutureWarning: Default solver will be changed to 'lbfgs' in 0.22. Specify a solver to silence this warning.\n",
      "  FutureWarning)\n",
      "C:\\Users\\srira\\Anaconda3\\lib\\site-packages\\sklearn\\linear_model\\logistic.py:432: FutureWarning: Default solver will be changed to 'lbfgs' in 0.22. Specify a solver to silence this warning.\n",
      "  FutureWarning)\n",
      "C:\\Users\\srira\\Anaconda3\\lib\\site-packages\\sklearn\\linear_model\\logistic.py:432: FutureWarning: Default solver will be changed to 'lbfgs' in 0.22. Specify a solver to silence this warning.\n",
      "  FutureWarning)\n",
      "C:\\Users\\srira\\Anaconda3\\lib\\site-packages\\sklearn\\linear_model\\logistic.py:432: FutureWarning: Default solver will be changed to 'lbfgs' in 0.22. Specify a solver to silence this warning.\n",
      "  FutureWarning)\n",
      "C:\\Users\\srira\\Anaconda3\\lib\\site-packages\\sklearn\\linear_model\\logistic.py:432: FutureWarning: Default solver will be changed to 'lbfgs' in 0.22. Specify a solver to silence this warning.\n",
      "  FutureWarning)\n",
      "C:\\Users\\srira\\Anaconda3\\lib\\site-packages\\sklearn\\linear_model\\logistic.py:432: FutureWarning: Default solver will be changed to 'lbfgs' in 0.22. Specify a solver to silence this warning.\n",
      "  FutureWarning)\n",
      "C:\\Users\\srira\\Anaconda3\\lib\\site-packages\\sklearn\\linear_model\\logistic.py:432: FutureWarning: Default solver will be changed to 'lbfgs' in 0.22. Specify a solver to silence this warning.\n",
      "  FutureWarning)\n",
      "C:\\Users\\srira\\Anaconda3\\lib\\site-packages\\sklearn\\linear_model\\logistic.py:432: FutureWarning: Default solver will be changed to 'lbfgs' in 0.22. Specify a solver to silence this warning.\n",
      "  FutureWarning)\n",
      "C:\\Users\\srira\\Anaconda3\\lib\\site-packages\\sklearn\\linear_model\\logistic.py:432: FutureWarning: Default solver will be changed to 'lbfgs' in 0.22. Specify a solver to silence this warning.\n",
      "  FutureWarning)\n",
      "C:\\Users\\srira\\Anaconda3\\lib\\site-packages\\sklearn\\linear_model\\logistic.py:432: FutureWarning: Default solver will be changed to 'lbfgs' in 0.22. Specify a solver to silence this warning.\n",
      "  FutureWarning)\n",
      "C:\\Users\\srira\\Anaconda3\\lib\\site-packages\\sklearn\\linear_model\\logistic.py:432: FutureWarning: Default solver will be changed to 'lbfgs' in 0.22. Specify a solver to silence this warning.\n",
      "  FutureWarning)\n",
      "C:\\Users\\srira\\Anaconda3\\lib\\site-packages\\sklearn\\linear_model\\logistic.py:432: FutureWarning: Default solver will be changed to 'lbfgs' in 0.22. Specify a solver to silence this warning.\n",
      "  FutureWarning)\n",
      "C:\\Users\\srira\\Anaconda3\\lib\\site-packages\\sklearn\\linear_model\\logistic.py:432: FutureWarning: Default solver will be changed to 'lbfgs' in 0.22. Specify a solver to silence this warning.\n",
      "  FutureWarning)\n",
      "C:\\Users\\srira\\Anaconda3\\lib\\site-packages\\sklearn\\linear_model\\logistic.py:432: FutureWarning: Default solver will be changed to 'lbfgs' in 0.22. Specify a solver to silence this warning.\n",
      "  FutureWarning)\n",
      "C:\\Users\\srira\\Anaconda3\\lib\\site-packages\\sklearn\\linear_model\\logistic.py:432: FutureWarning: Default solver will be changed to 'lbfgs' in 0.22. Specify a solver to silence this warning.\n",
      "  FutureWarning)\n",
      "C:\\Users\\srira\\Anaconda3\\lib\\site-packages\\sklearn\\linear_model\\logistic.py:432: FutureWarning: Default solver will be changed to 'lbfgs' in 0.22. Specify a solver to silence this warning.\n",
      "  FutureWarning)\n",
      "C:\\Users\\srira\\Anaconda3\\lib\\site-packages\\sklearn\\linear_model\\logistic.py:432: FutureWarning: Default solver will be changed to 'lbfgs' in 0.22. Specify a solver to silence this warning.\n",
      "  FutureWarning)\n",
      "C:\\Users\\srira\\Anaconda3\\lib\\site-packages\\sklearn\\linear_model\\logistic.py:432: FutureWarning: Default solver will be changed to 'lbfgs' in 0.22. Specify a solver to silence this warning.\n",
      "  FutureWarning)\n",
      "C:\\Users\\srira\\Anaconda3\\lib\\site-packages\\sklearn\\linear_model\\logistic.py:432: FutureWarning: Default solver will be changed to 'lbfgs' in 0.22. Specify a solver to silence this warning.\n",
      "  FutureWarning)\n",
      "C:\\Users\\srira\\Anaconda3\\lib\\site-packages\\sklearn\\linear_model\\logistic.py:432: FutureWarning: Default solver will be changed to 'lbfgs' in 0.22. Specify a solver to silence this warning.\n",
      "  FutureWarning)\n",
      "C:\\Users\\srira\\Anaconda3\\lib\\site-packages\\sklearn\\linear_model\\logistic.py:432: FutureWarning: Default solver will be changed to 'lbfgs' in 0.22. Specify a solver to silence this warning.\n",
      "  FutureWarning)\n",
      "C:\\Users\\srira\\Anaconda3\\lib\\site-packages\\sklearn\\linear_model\\logistic.py:432: FutureWarning: Default solver will be changed to 'lbfgs' in 0.22. Specify a solver to silence this warning.\n",
      "  FutureWarning)\n",
      "C:\\Users\\srira\\Anaconda3\\lib\\site-packages\\sklearn\\linear_model\\logistic.py:432: FutureWarning: Default solver will be changed to 'lbfgs' in 0.22. Specify a solver to silence this warning.\n",
      "  FutureWarning)\n",
      "C:\\Users\\srira\\Anaconda3\\lib\\site-packages\\sklearn\\linear_model\\logistic.py:432: FutureWarning: Default solver will be changed to 'lbfgs' in 0.22. Specify a solver to silence this warning.\n",
      "  FutureWarning)\n",
      "C:\\Users\\srira\\Anaconda3\\lib\\site-packages\\sklearn\\linear_model\\logistic.py:432: FutureWarning: Default solver will be changed to 'lbfgs' in 0.22. Specify a solver to silence this warning.\n",
      "  FutureWarning)\n",
      "C:\\Users\\srira\\Anaconda3\\lib\\site-packages\\sklearn\\linear_model\\logistic.py:432: FutureWarning: Default solver will be changed to 'lbfgs' in 0.22. Specify a solver to silence this warning.\n",
      "  FutureWarning)\n",
      "C:\\Users\\srira\\Anaconda3\\lib\\site-packages\\sklearn\\linear_model\\logistic.py:432: FutureWarning: Default solver will be changed to 'lbfgs' in 0.22. Specify a solver to silence this warning.\n",
      "  FutureWarning)\n",
      "C:\\Users\\srira\\Anaconda3\\lib\\site-packages\\sklearn\\linear_model\\logistic.py:432: FutureWarning: Default solver will be changed to 'lbfgs' in 0.22. Specify a solver to silence this warning.\n",
      "  FutureWarning)\n",
      "C:\\Users\\srira\\Anaconda3\\lib\\site-packages\\sklearn\\linear_model\\logistic.py:432: FutureWarning: Default solver will be changed to 'lbfgs' in 0.22. Specify a solver to silence this warning.\n",
      "  FutureWarning)\n",
      "C:\\Users\\srira\\Anaconda3\\lib\\site-packages\\sklearn\\linear_model\\logistic.py:432: FutureWarning: Default solver will be changed to 'lbfgs' in 0.22. Specify a solver to silence this warning.\n",
      "  FutureWarning)\n",
      "C:\\Users\\srira\\Anaconda3\\lib\\site-packages\\sklearn\\linear_model\\logistic.py:432: FutureWarning: Default solver will be changed to 'lbfgs' in 0.22. Specify a solver to silence this warning.\n",
      "  FutureWarning)\n",
      "C:\\Users\\srira\\Anaconda3\\lib\\site-packages\\sklearn\\linear_model\\logistic.py:432: FutureWarning: Default solver will be changed to 'lbfgs' in 0.22. Specify a solver to silence this warning.\n",
      "  FutureWarning)\n",
      "C:\\Users\\srira\\Anaconda3\\lib\\site-packages\\sklearn\\linear_model\\logistic.py:432: FutureWarning: Default solver will be changed to 'lbfgs' in 0.22. Specify a solver to silence this warning.\n",
      "  FutureWarning)\n",
      "C:\\Users\\srira\\Anaconda3\\lib\\site-packages\\sklearn\\linear_model\\logistic.py:432: FutureWarning: Default solver will be changed to 'lbfgs' in 0.22. Specify a solver to silence this warning.\n",
      "  FutureWarning)\n",
      "C:\\Users\\srira\\Anaconda3\\lib\\site-packages\\sklearn\\linear_model\\logistic.py:432: FutureWarning: Default solver will be changed to 'lbfgs' in 0.22. Specify a solver to silence this warning.\n",
      "  FutureWarning)\n",
      "C:\\Users\\srira\\Anaconda3\\lib\\site-packages\\sklearn\\linear_model\\logistic.py:432: FutureWarning: Default solver will be changed to 'lbfgs' in 0.22. Specify a solver to silence this warning.\n",
      "  FutureWarning)\n",
      "C:\\Users\\srira\\Anaconda3\\lib\\site-packages\\sklearn\\linear_model\\logistic.py:432: FutureWarning: Default solver will be changed to 'lbfgs' in 0.22. Specify a solver to silence this warning.\n",
      "  FutureWarning)\n",
      "C:\\Users\\srira\\Anaconda3\\lib\\site-packages\\sklearn\\linear_model\\logistic.py:432: FutureWarning: Default solver will be changed to 'lbfgs' in 0.22. Specify a solver to silence this warning.\n",
      "  FutureWarning)\n",
      "C:\\Users\\srira\\Anaconda3\\lib\\site-packages\\sklearn\\linear_model\\logistic.py:432: FutureWarning: Default solver will be changed to 'lbfgs' in 0.22. Specify a solver to silence this warning.\n",
      "  FutureWarning)\n",
      "C:\\Users\\srira\\Anaconda3\\lib\\site-packages\\sklearn\\linear_model\\logistic.py:432: FutureWarning: Default solver will be changed to 'lbfgs' in 0.22. Specify a solver to silence this warning.\n",
      "  FutureWarning)\n",
      "C:\\Users\\srira\\Anaconda3\\lib\\site-packages\\sklearn\\linear_model\\logistic.py:432: FutureWarning: Default solver will be changed to 'lbfgs' in 0.22. Specify a solver to silence this warning.\n",
      "  FutureWarning)\n",
      "C:\\Users\\srira\\Anaconda3\\lib\\site-packages\\sklearn\\linear_model\\logistic.py:432: FutureWarning: Default solver will be changed to 'lbfgs' in 0.22. Specify a solver to silence this warning.\n",
      "  FutureWarning)\n",
      "C:\\Users\\srira\\Anaconda3\\lib\\site-packages\\sklearn\\linear_model\\logistic.py:432: FutureWarning: Default solver will be changed to 'lbfgs' in 0.22. Specify a solver to silence this warning.\n",
      "  FutureWarning)\n",
      "C:\\Users\\srira\\Anaconda3\\lib\\site-packages\\sklearn\\linear_model\\logistic.py:432: FutureWarning: Default solver will be changed to 'lbfgs' in 0.22. Specify a solver to silence this warning.\n",
      "  FutureWarning)\n",
      "C:\\Users\\srira\\Anaconda3\\lib\\site-packages\\sklearn\\linear_model\\logistic.py:432: FutureWarning: Default solver will be changed to 'lbfgs' in 0.22. Specify a solver to silence this warning.\n",
      "  FutureWarning)\n",
      "C:\\Users\\srira\\Anaconda3\\lib\\site-packages\\sklearn\\linear_model\\logistic.py:432: FutureWarning: Default solver will be changed to 'lbfgs' in 0.22. Specify a solver to silence this warning.\n",
      "  FutureWarning)\n",
      "C:\\Users\\srira\\Anaconda3\\lib\\site-packages\\sklearn\\linear_model\\logistic.py:432: FutureWarning: Default solver will be changed to 'lbfgs' in 0.22. Specify a solver to silence this warning.\n",
      "  FutureWarning)\n",
      "C:\\Users\\srira\\Anaconda3\\lib\\site-packages\\sklearn\\linear_model\\logistic.py:432: FutureWarning: Default solver will be changed to 'lbfgs' in 0.22. Specify a solver to silence this warning.\n",
      "  FutureWarning)\n",
      "C:\\Users\\srira\\Anaconda3\\lib\\site-packages\\sklearn\\linear_model\\logistic.py:432: FutureWarning: Default solver will be changed to 'lbfgs' in 0.22. Specify a solver to silence this warning.\n",
      "  FutureWarning)\n",
      "C:\\Users\\srira\\Anaconda3\\lib\\site-packages\\sklearn\\linear_model\\logistic.py:432: FutureWarning: Default solver will be changed to 'lbfgs' in 0.22. Specify a solver to silence this warning.\n",
      "  FutureWarning)\n",
      "C:\\Users\\srira\\Anaconda3\\lib\\site-packages\\sklearn\\linear_model\\logistic.py:432: FutureWarning: Default solver will be changed to 'lbfgs' in 0.22. Specify a solver to silence this warning.\n",
      "  FutureWarning)\n",
      "C:\\Users\\srira\\Anaconda3\\lib\\site-packages\\sklearn\\linear_model\\logistic.py:432: FutureWarning: Default solver will be changed to 'lbfgs' in 0.22. Specify a solver to silence this warning.\n",
      "  FutureWarning)\n",
      "C:\\Users\\srira\\Anaconda3\\lib\\site-packages\\sklearn\\linear_model\\logistic.py:432: FutureWarning: Default solver will be changed to 'lbfgs' in 0.22. Specify a solver to silence this warning.\n",
      "  FutureWarning)\n",
      "C:\\Users\\srira\\Anaconda3\\lib\\site-packages\\sklearn\\linear_model\\logistic.py:432: FutureWarning: Default solver will be changed to 'lbfgs' in 0.22. Specify a solver to silence this warning.\n",
      "  FutureWarning)\n",
      "C:\\Users\\srira\\Anaconda3\\lib\\site-packages\\sklearn\\linear_model\\logistic.py:432: FutureWarning: Default solver will be changed to 'lbfgs' in 0.22. Specify a solver to silence this warning.\n",
      "  FutureWarning)\n",
      "C:\\Users\\srira\\Anaconda3\\lib\\site-packages\\sklearn\\linear_model\\logistic.py:432: FutureWarning: Default solver will be changed to 'lbfgs' in 0.22. Specify a solver to silence this warning.\n",
      "  FutureWarning)\n",
      "C:\\Users\\srira\\Anaconda3\\lib\\site-packages\\sklearn\\linear_model\\logistic.py:432: FutureWarning: Default solver will be changed to 'lbfgs' in 0.22. Specify a solver to silence this warning.\n",
      "  FutureWarning)\n",
      "C:\\Users\\srira\\Anaconda3\\lib\\site-packages\\sklearn\\linear_model\\logistic.py:432: FutureWarning: Default solver will be changed to 'lbfgs' in 0.22. Specify a solver to silence this warning.\n",
      "  FutureWarning)\n"
     ]
    },
    {
     "name": "stdout",
     "output_type": "stream",
     "text": [
      "Train score: 0.89\n",
      "Test score: 0.89\n"
     ]
    }
   ],
   "source": [
    "bag_log.fit(X_train, y_train)\n",
    "print('Train score: {:.2f}'.format(bag_log.score(X_train, y_train)))\n",
    "print('Test score: {:.2f}'.format(bag_log.score(X_test, y_test)))"
   ]
  },
  {
   "cell_type": "markdown",
   "metadata": {},
   "source": [
    "# Random forest model Bagging"
   ]
  },
  {
   "cell_type": "code",
   "execution_count": 94,
   "metadata": {},
   "outputs": [
    {
     "name": "stdout",
     "output_type": "stream",
     "text": [
      "Mean score: 0.8921662667531495\n"
     ]
    }
   ],
   "source": [
    "bag_rf = BaggingClassifier(base_estimator=rf_clf, n_estimators=500,bootstrap_features=True, max_samples=50, max_features=19)\n",
    "\n",
    "bag_rf_score = cross_val_score(estimator=bag_rf, X=X_train, y=y_train, scoring='accuracy', cv=kFold, n_jobs=-1)\n",
    "print('Mean score:', bag_rf_score.mean())"
   ]
  },
  {
   "cell_type": "code",
   "execution_count": 95,
   "metadata": {},
   "outputs": [
    {
     "name": "stdout",
     "output_type": "stream",
     "text": [
      "Train score: 0.89\n",
      "Test score: 0.90\n"
     ]
    }
   ],
   "source": [
    "bag_rf.fit(X_train, y_train)\n",
    "print('Train score: {:.2f}'.format(bag_rf.score(X_train, y_train)))\n",
    "print('Test score: {:.2f}'.format(bag_rf.score(X_test, y_test)))"
   ]
  },
  {
   "cell_type": "markdown",
   "metadata": {},
   "source": [
    "# Pasting"
   ]
  },
  {
   "cell_type": "markdown",
   "metadata": {},
   "source": [
    "## Kernelized_svm model pasting"
   ]
  },
  {
   "cell_type": "code",
   "execution_count": 96,
   "metadata": {},
   "outputs": [
    {
     "name": "stdout",
     "output_type": "stream",
     "text": [
      "Mean score: 0.8873548855133144\n"
     ]
    }
   ],
   "source": [
    "bag_ksvc = BaggingClassifier(base_estimator=svc_obj, n_estimators=100,bootstrap_features=False, max_samples=50, max_features=19)\n",
    "\n",
    "bag_ksvc_score = cross_val_score(estimator=bag_ksvc, X=X_train, y=y_train, scoring='accuracy', cv=kFold, n_jobs=-1)\n",
    "print('Mean score:', bag_ksvc_score.mean())"
   ]
  },
  {
   "cell_type": "code",
   "execution_count": 97,
   "metadata": {},
   "outputs": [
    {
     "name": "stderr",
     "output_type": "stream",
     "text": [
      "C:\\Users\\srira\\Anaconda3\\lib\\site-packages\\sklearn\\svm\\base.py:193: FutureWarning: The default value of gamma will change from 'auto' to 'scale' in version 0.22 to account better for unscaled features. Set gamma explicitly to 'auto' or 'scale' to avoid this warning.\n",
      "  \"avoid this warning.\", FutureWarning)\n",
      "C:\\Users\\srira\\Anaconda3\\lib\\site-packages\\sklearn\\svm\\base.py:193: FutureWarning: The default value of gamma will change from 'auto' to 'scale' in version 0.22 to account better for unscaled features. Set gamma explicitly to 'auto' or 'scale' to avoid this warning.\n",
      "  \"avoid this warning.\", FutureWarning)\n",
      "C:\\Users\\srira\\Anaconda3\\lib\\site-packages\\sklearn\\svm\\base.py:193: FutureWarning: The default value of gamma will change from 'auto' to 'scale' in version 0.22 to account better for unscaled features. Set gamma explicitly to 'auto' or 'scale' to avoid this warning.\n",
      "  \"avoid this warning.\", FutureWarning)\n",
      "C:\\Users\\srira\\Anaconda3\\lib\\site-packages\\sklearn\\svm\\base.py:193: FutureWarning: The default value of gamma will change from 'auto' to 'scale' in version 0.22 to account better for unscaled features. Set gamma explicitly to 'auto' or 'scale' to avoid this warning.\n",
      "  \"avoid this warning.\", FutureWarning)\n",
      "C:\\Users\\srira\\Anaconda3\\lib\\site-packages\\sklearn\\svm\\base.py:193: FutureWarning: The default value of gamma will change from 'auto' to 'scale' in version 0.22 to account better for unscaled features. Set gamma explicitly to 'auto' or 'scale' to avoid this warning.\n",
      "  \"avoid this warning.\", FutureWarning)\n",
      "C:\\Users\\srira\\Anaconda3\\lib\\site-packages\\sklearn\\svm\\base.py:193: FutureWarning: The default value of gamma will change from 'auto' to 'scale' in version 0.22 to account better for unscaled features. Set gamma explicitly to 'auto' or 'scale' to avoid this warning.\n",
      "  \"avoid this warning.\", FutureWarning)\n",
      "C:\\Users\\srira\\Anaconda3\\lib\\site-packages\\sklearn\\svm\\base.py:193: FutureWarning: The default value of gamma will change from 'auto' to 'scale' in version 0.22 to account better for unscaled features. Set gamma explicitly to 'auto' or 'scale' to avoid this warning.\n",
      "  \"avoid this warning.\", FutureWarning)\n",
      "C:\\Users\\srira\\Anaconda3\\lib\\site-packages\\sklearn\\svm\\base.py:193: FutureWarning: The default value of gamma will change from 'auto' to 'scale' in version 0.22 to account better for unscaled features. Set gamma explicitly to 'auto' or 'scale' to avoid this warning.\n",
      "  \"avoid this warning.\", FutureWarning)\n",
      "C:\\Users\\srira\\Anaconda3\\lib\\site-packages\\sklearn\\svm\\base.py:193: FutureWarning: The default value of gamma will change from 'auto' to 'scale' in version 0.22 to account better for unscaled features. Set gamma explicitly to 'auto' or 'scale' to avoid this warning.\n",
      "  \"avoid this warning.\", FutureWarning)\n",
      "C:\\Users\\srira\\Anaconda3\\lib\\site-packages\\sklearn\\svm\\base.py:193: FutureWarning: The default value of gamma will change from 'auto' to 'scale' in version 0.22 to account better for unscaled features. Set gamma explicitly to 'auto' or 'scale' to avoid this warning.\n",
      "  \"avoid this warning.\", FutureWarning)\n",
      "C:\\Users\\srira\\Anaconda3\\lib\\site-packages\\sklearn\\svm\\base.py:193: FutureWarning: The default value of gamma will change from 'auto' to 'scale' in version 0.22 to account better for unscaled features. Set gamma explicitly to 'auto' or 'scale' to avoid this warning.\n",
      "  \"avoid this warning.\", FutureWarning)\n",
      "C:\\Users\\srira\\Anaconda3\\lib\\site-packages\\sklearn\\svm\\base.py:193: FutureWarning: The default value of gamma will change from 'auto' to 'scale' in version 0.22 to account better for unscaled features. Set gamma explicitly to 'auto' or 'scale' to avoid this warning.\n",
      "  \"avoid this warning.\", FutureWarning)\n",
      "C:\\Users\\srira\\Anaconda3\\lib\\site-packages\\sklearn\\svm\\base.py:193: FutureWarning: The default value of gamma will change from 'auto' to 'scale' in version 0.22 to account better for unscaled features. Set gamma explicitly to 'auto' or 'scale' to avoid this warning.\n",
      "  \"avoid this warning.\", FutureWarning)\n",
      "C:\\Users\\srira\\Anaconda3\\lib\\site-packages\\sklearn\\svm\\base.py:193: FutureWarning: The default value of gamma will change from 'auto' to 'scale' in version 0.22 to account better for unscaled features. Set gamma explicitly to 'auto' or 'scale' to avoid this warning.\n",
      "  \"avoid this warning.\", FutureWarning)\n",
      "C:\\Users\\srira\\Anaconda3\\lib\\site-packages\\sklearn\\svm\\base.py:193: FutureWarning: The default value of gamma will change from 'auto' to 'scale' in version 0.22 to account better for unscaled features. Set gamma explicitly to 'auto' or 'scale' to avoid this warning.\n",
      "  \"avoid this warning.\", FutureWarning)\n",
      "C:\\Users\\srira\\Anaconda3\\lib\\site-packages\\sklearn\\svm\\base.py:193: FutureWarning: The default value of gamma will change from 'auto' to 'scale' in version 0.22 to account better for unscaled features. Set gamma explicitly to 'auto' or 'scale' to avoid this warning.\n",
      "  \"avoid this warning.\", FutureWarning)\n",
      "C:\\Users\\srira\\Anaconda3\\lib\\site-packages\\sklearn\\svm\\base.py:193: FutureWarning: The default value of gamma will change from 'auto' to 'scale' in version 0.22 to account better for unscaled features. Set gamma explicitly to 'auto' or 'scale' to avoid this warning.\n",
      "  \"avoid this warning.\", FutureWarning)\n",
      "C:\\Users\\srira\\Anaconda3\\lib\\site-packages\\sklearn\\svm\\base.py:193: FutureWarning: The default value of gamma will change from 'auto' to 'scale' in version 0.22 to account better for unscaled features. Set gamma explicitly to 'auto' or 'scale' to avoid this warning.\n",
      "  \"avoid this warning.\", FutureWarning)\n",
      "C:\\Users\\srira\\Anaconda3\\lib\\site-packages\\sklearn\\svm\\base.py:193: FutureWarning: The default value of gamma will change from 'auto' to 'scale' in version 0.22 to account better for unscaled features. Set gamma explicitly to 'auto' or 'scale' to avoid this warning.\n",
      "  \"avoid this warning.\", FutureWarning)\n",
      "C:\\Users\\srira\\Anaconda3\\lib\\site-packages\\sklearn\\svm\\base.py:193: FutureWarning: The default value of gamma will change from 'auto' to 'scale' in version 0.22 to account better for unscaled features. Set gamma explicitly to 'auto' or 'scale' to avoid this warning.\n",
      "  \"avoid this warning.\", FutureWarning)\n",
      "C:\\Users\\srira\\Anaconda3\\lib\\site-packages\\sklearn\\svm\\base.py:193: FutureWarning: The default value of gamma will change from 'auto' to 'scale' in version 0.22 to account better for unscaled features. Set gamma explicitly to 'auto' or 'scale' to avoid this warning.\n",
      "  \"avoid this warning.\", FutureWarning)\n",
      "C:\\Users\\srira\\Anaconda3\\lib\\site-packages\\sklearn\\svm\\base.py:193: FutureWarning: The default value of gamma will change from 'auto' to 'scale' in version 0.22 to account better for unscaled features. Set gamma explicitly to 'auto' or 'scale' to avoid this warning.\n",
      "  \"avoid this warning.\", FutureWarning)\n",
      "C:\\Users\\srira\\Anaconda3\\lib\\site-packages\\sklearn\\svm\\base.py:193: FutureWarning: The default value of gamma will change from 'auto' to 'scale' in version 0.22 to account better for unscaled features. Set gamma explicitly to 'auto' or 'scale' to avoid this warning.\n",
      "  \"avoid this warning.\", FutureWarning)\n",
      "C:\\Users\\srira\\Anaconda3\\lib\\site-packages\\sklearn\\svm\\base.py:193: FutureWarning: The default value of gamma will change from 'auto' to 'scale' in version 0.22 to account better for unscaled features. Set gamma explicitly to 'auto' or 'scale' to avoid this warning.\n",
      "  \"avoid this warning.\", FutureWarning)\n",
      "C:\\Users\\srira\\Anaconda3\\lib\\site-packages\\sklearn\\svm\\base.py:193: FutureWarning: The default value of gamma will change from 'auto' to 'scale' in version 0.22 to account better for unscaled features. Set gamma explicitly to 'auto' or 'scale' to avoid this warning.\n",
      "  \"avoid this warning.\", FutureWarning)\n",
      "C:\\Users\\srira\\Anaconda3\\lib\\site-packages\\sklearn\\svm\\base.py:193: FutureWarning: The default value of gamma will change from 'auto' to 'scale' in version 0.22 to account better for unscaled features. Set gamma explicitly to 'auto' or 'scale' to avoid this warning.\n",
      "  \"avoid this warning.\", FutureWarning)\n",
      "C:\\Users\\srira\\Anaconda3\\lib\\site-packages\\sklearn\\svm\\base.py:193: FutureWarning: The default value of gamma will change from 'auto' to 'scale' in version 0.22 to account better for unscaled features. Set gamma explicitly to 'auto' or 'scale' to avoid this warning.\n",
      "  \"avoid this warning.\", FutureWarning)\n",
      "C:\\Users\\srira\\Anaconda3\\lib\\site-packages\\sklearn\\svm\\base.py:193: FutureWarning: The default value of gamma will change from 'auto' to 'scale' in version 0.22 to account better for unscaled features. Set gamma explicitly to 'auto' or 'scale' to avoid this warning.\n",
      "  \"avoid this warning.\", FutureWarning)\n",
      "C:\\Users\\srira\\Anaconda3\\lib\\site-packages\\sklearn\\svm\\base.py:193: FutureWarning: The default value of gamma will change from 'auto' to 'scale' in version 0.22 to account better for unscaled features. Set gamma explicitly to 'auto' or 'scale' to avoid this warning.\n",
      "  \"avoid this warning.\", FutureWarning)\n",
      "C:\\Users\\srira\\Anaconda3\\lib\\site-packages\\sklearn\\svm\\base.py:193: FutureWarning: The default value of gamma will change from 'auto' to 'scale' in version 0.22 to account better for unscaled features. Set gamma explicitly to 'auto' or 'scale' to avoid this warning.\n",
      "  \"avoid this warning.\", FutureWarning)\n",
      "C:\\Users\\srira\\Anaconda3\\lib\\site-packages\\sklearn\\svm\\base.py:193: FutureWarning: The default value of gamma will change from 'auto' to 'scale' in version 0.22 to account better for unscaled features. Set gamma explicitly to 'auto' or 'scale' to avoid this warning.\n",
      "  \"avoid this warning.\", FutureWarning)\n",
      "C:\\Users\\srira\\Anaconda3\\lib\\site-packages\\sklearn\\svm\\base.py:193: FutureWarning: The default value of gamma will change from 'auto' to 'scale' in version 0.22 to account better for unscaled features. Set gamma explicitly to 'auto' or 'scale' to avoid this warning.\n",
      "  \"avoid this warning.\", FutureWarning)\n",
      "C:\\Users\\srira\\Anaconda3\\lib\\site-packages\\sklearn\\svm\\base.py:193: FutureWarning: The default value of gamma will change from 'auto' to 'scale' in version 0.22 to account better for unscaled features. Set gamma explicitly to 'auto' or 'scale' to avoid this warning.\n",
      "  \"avoid this warning.\", FutureWarning)\n",
      "C:\\Users\\srira\\Anaconda3\\lib\\site-packages\\sklearn\\svm\\base.py:193: FutureWarning: The default value of gamma will change from 'auto' to 'scale' in version 0.22 to account better for unscaled features. Set gamma explicitly to 'auto' or 'scale' to avoid this warning.\n",
      "  \"avoid this warning.\", FutureWarning)\n",
      "C:\\Users\\srira\\Anaconda3\\lib\\site-packages\\sklearn\\svm\\base.py:193: FutureWarning: The default value of gamma will change from 'auto' to 'scale' in version 0.22 to account better for unscaled features. Set gamma explicitly to 'auto' or 'scale' to avoid this warning.\n",
      "  \"avoid this warning.\", FutureWarning)\n",
      "C:\\Users\\srira\\Anaconda3\\lib\\site-packages\\sklearn\\svm\\base.py:193: FutureWarning: The default value of gamma will change from 'auto' to 'scale' in version 0.22 to account better for unscaled features. Set gamma explicitly to 'auto' or 'scale' to avoid this warning.\n",
      "  \"avoid this warning.\", FutureWarning)\n",
      "C:\\Users\\srira\\Anaconda3\\lib\\site-packages\\sklearn\\svm\\base.py:193: FutureWarning: The default value of gamma will change from 'auto' to 'scale' in version 0.22 to account better for unscaled features. Set gamma explicitly to 'auto' or 'scale' to avoid this warning.\n",
      "  \"avoid this warning.\", FutureWarning)\n",
      "C:\\Users\\srira\\Anaconda3\\lib\\site-packages\\sklearn\\svm\\base.py:193: FutureWarning: The default value of gamma will change from 'auto' to 'scale' in version 0.22 to account better for unscaled features. Set gamma explicitly to 'auto' or 'scale' to avoid this warning.\n",
      "  \"avoid this warning.\", FutureWarning)\n",
      "C:\\Users\\srira\\Anaconda3\\lib\\site-packages\\sklearn\\svm\\base.py:193: FutureWarning: The default value of gamma will change from 'auto' to 'scale' in version 0.22 to account better for unscaled features. Set gamma explicitly to 'auto' or 'scale' to avoid this warning.\n",
      "  \"avoid this warning.\", FutureWarning)\n",
      "C:\\Users\\srira\\Anaconda3\\lib\\site-packages\\sklearn\\svm\\base.py:193: FutureWarning: The default value of gamma will change from 'auto' to 'scale' in version 0.22 to account better for unscaled features. Set gamma explicitly to 'auto' or 'scale' to avoid this warning.\n",
      "  \"avoid this warning.\", FutureWarning)\n",
      "C:\\Users\\srira\\Anaconda3\\lib\\site-packages\\sklearn\\svm\\base.py:193: FutureWarning: The default value of gamma will change from 'auto' to 'scale' in version 0.22 to account better for unscaled features. Set gamma explicitly to 'auto' or 'scale' to avoid this warning.\n",
      "  \"avoid this warning.\", FutureWarning)\n",
      "C:\\Users\\srira\\Anaconda3\\lib\\site-packages\\sklearn\\svm\\base.py:193: FutureWarning: The default value of gamma will change from 'auto' to 'scale' in version 0.22 to account better for unscaled features. Set gamma explicitly to 'auto' or 'scale' to avoid this warning.\n",
      "  \"avoid this warning.\", FutureWarning)\n",
      "C:\\Users\\srira\\Anaconda3\\lib\\site-packages\\sklearn\\svm\\base.py:193: FutureWarning: The default value of gamma will change from 'auto' to 'scale' in version 0.22 to account better for unscaled features. Set gamma explicitly to 'auto' or 'scale' to avoid this warning.\n",
      "  \"avoid this warning.\", FutureWarning)\n",
      "C:\\Users\\srira\\Anaconda3\\lib\\site-packages\\sklearn\\svm\\base.py:193: FutureWarning: The default value of gamma will change from 'auto' to 'scale' in version 0.22 to account better for unscaled features. Set gamma explicitly to 'auto' or 'scale' to avoid this warning.\n",
      "  \"avoid this warning.\", FutureWarning)\n",
      "C:\\Users\\srira\\Anaconda3\\lib\\site-packages\\sklearn\\svm\\base.py:193: FutureWarning: The default value of gamma will change from 'auto' to 'scale' in version 0.22 to account better for unscaled features. Set gamma explicitly to 'auto' or 'scale' to avoid this warning.\n",
      "  \"avoid this warning.\", FutureWarning)\n",
      "C:\\Users\\srira\\Anaconda3\\lib\\site-packages\\sklearn\\svm\\base.py:193: FutureWarning: The default value of gamma will change from 'auto' to 'scale' in version 0.22 to account better for unscaled features. Set gamma explicitly to 'auto' or 'scale' to avoid this warning.\n",
      "  \"avoid this warning.\", FutureWarning)\n",
      "C:\\Users\\srira\\Anaconda3\\lib\\site-packages\\sklearn\\svm\\base.py:193: FutureWarning: The default value of gamma will change from 'auto' to 'scale' in version 0.22 to account better for unscaled features. Set gamma explicitly to 'auto' or 'scale' to avoid this warning.\n",
      "  \"avoid this warning.\", FutureWarning)\n",
      "C:\\Users\\srira\\Anaconda3\\lib\\site-packages\\sklearn\\svm\\base.py:193: FutureWarning: The default value of gamma will change from 'auto' to 'scale' in version 0.22 to account better for unscaled features. Set gamma explicitly to 'auto' or 'scale' to avoid this warning.\n",
      "  \"avoid this warning.\", FutureWarning)\n",
      "C:\\Users\\srira\\Anaconda3\\lib\\site-packages\\sklearn\\svm\\base.py:193: FutureWarning: The default value of gamma will change from 'auto' to 'scale' in version 0.22 to account better for unscaled features. Set gamma explicitly to 'auto' or 'scale' to avoid this warning.\n",
      "  \"avoid this warning.\", FutureWarning)\n",
      "C:\\Users\\srira\\Anaconda3\\lib\\site-packages\\sklearn\\svm\\base.py:193: FutureWarning: The default value of gamma will change from 'auto' to 'scale' in version 0.22 to account better for unscaled features. Set gamma explicitly to 'auto' or 'scale' to avoid this warning.\n",
      "  \"avoid this warning.\", FutureWarning)\n",
      "C:\\Users\\srira\\Anaconda3\\lib\\site-packages\\sklearn\\svm\\base.py:193: FutureWarning: The default value of gamma will change from 'auto' to 'scale' in version 0.22 to account better for unscaled features. Set gamma explicitly to 'auto' or 'scale' to avoid this warning.\n",
      "  \"avoid this warning.\", FutureWarning)\n",
      "C:\\Users\\srira\\Anaconda3\\lib\\site-packages\\sklearn\\svm\\base.py:193: FutureWarning: The default value of gamma will change from 'auto' to 'scale' in version 0.22 to account better for unscaled features. Set gamma explicitly to 'auto' or 'scale' to avoid this warning.\n",
      "  \"avoid this warning.\", FutureWarning)\n",
      "C:\\Users\\srira\\Anaconda3\\lib\\site-packages\\sklearn\\svm\\base.py:193: FutureWarning: The default value of gamma will change from 'auto' to 'scale' in version 0.22 to account better for unscaled features. Set gamma explicitly to 'auto' or 'scale' to avoid this warning.\n",
      "  \"avoid this warning.\", FutureWarning)\n",
      "C:\\Users\\srira\\Anaconda3\\lib\\site-packages\\sklearn\\svm\\base.py:193: FutureWarning: The default value of gamma will change from 'auto' to 'scale' in version 0.22 to account better for unscaled features. Set gamma explicitly to 'auto' or 'scale' to avoid this warning.\n",
      "  \"avoid this warning.\", FutureWarning)\n",
      "C:\\Users\\srira\\Anaconda3\\lib\\site-packages\\sklearn\\svm\\base.py:193: FutureWarning: The default value of gamma will change from 'auto' to 'scale' in version 0.22 to account better for unscaled features. Set gamma explicitly to 'auto' or 'scale' to avoid this warning.\n",
      "  \"avoid this warning.\", FutureWarning)\n",
      "C:\\Users\\srira\\Anaconda3\\lib\\site-packages\\sklearn\\svm\\base.py:193: FutureWarning: The default value of gamma will change from 'auto' to 'scale' in version 0.22 to account better for unscaled features. Set gamma explicitly to 'auto' or 'scale' to avoid this warning.\n",
      "  \"avoid this warning.\", FutureWarning)\n",
      "C:\\Users\\srira\\Anaconda3\\lib\\site-packages\\sklearn\\svm\\base.py:193: FutureWarning: The default value of gamma will change from 'auto' to 'scale' in version 0.22 to account better for unscaled features. Set gamma explicitly to 'auto' or 'scale' to avoid this warning.\n",
      "  \"avoid this warning.\", FutureWarning)\n",
      "C:\\Users\\srira\\Anaconda3\\lib\\site-packages\\sklearn\\svm\\base.py:193: FutureWarning: The default value of gamma will change from 'auto' to 'scale' in version 0.22 to account better for unscaled features. Set gamma explicitly to 'auto' or 'scale' to avoid this warning.\n",
      "  \"avoid this warning.\", FutureWarning)\n",
      "C:\\Users\\srira\\Anaconda3\\lib\\site-packages\\sklearn\\svm\\base.py:193: FutureWarning: The default value of gamma will change from 'auto' to 'scale' in version 0.22 to account better for unscaled features. Set gamma explicitly to 'auto' or 'scale' to avoid this warning.\n",
      "  \"avoid this warning.\", FutureWarning)\n",
      "C:\\Users\\srira\\Anaconda3\\lib\\site-packages\\sklearn\\svm\\base.py:193: FutureWarning: The default value of gamma will change from 'auto' to 'scale' in version 0.22 to account better for unscaled features. Set gamma explicitly to 'auto' or 'scale' to avoid this warning.\n",
      "  \"avoid this warning.\", FutureWarning)\n",
      "C:\\Users\\srira\\Anaconda3\\lib\\site-packages\\sklearn\\svm\\base.py:193: FutureWarning: The default value of gamma will change from 'auto' to 'scale' in version 0.22 to account better for unscaled features. Set gamma explicitly to 'auto' or 'scale' to avoid this warning.\n",
      "  \"avoid this warning.\", FutureWarning)\n",
      "C:\\Users\\srira\\Anaconda3\\lib\\site-packages\\sklearn\\svm\\base.py:193: FutureWarning: The default value of gamma will change from 'auto' to 'scale' in version 0.22 to account better for unscaled features. Set gamma explicitly to 'auto' or 'scale' to avoid this warning.\n",
      "  \"avoid this warning.\", FutureWarning)\n",
      "C:\\Users\\srira\\Anaconda3\\lib\\site-packages\\sklearn\\svm\\base.py:193: FutureWarning: The default value of gamma will change from 'auto' to 'scale' in version 0.22 to account better for unscaled features. Set gamma explicitly to 'auto' or 'scale' to avoid this warning.\n",
      "  \"avoid this warning.\", FutureWarning)\n",
      "C:\\Users\\srira\\Anaconda3\\lib\\site-packages\\sklearn\\svm\\base.py:193: FutureWarning: The default value of gamma will change from 'auto' to 'scale' in version 0.22 to account better for unscaled features. Set gamma explicitly to 'auto' or 'scale' to avoid this warning.\n",
      "  \"avoid this warning.\", FutureWarning)\n",
      "C:\\Users\\srira\\Anaconda3\\lib\\site-packages\\sklearn\\svm\\base.py:193: FutureWarning: The default value of gamma will change from 'auto' to 'scale' in version 0.22 to account better for unscaled features. Set gamma explicitly to 'auto' or 'scale' to avoid this warning.\n",
      "  \"avoid this warning.\", FutureWarning)\n",
      "C:\\Users\\srira\\Anaconda3\\lib\\site-packages\\sklearn\\svm\\base.py:193: FutureWarning: The default value of gamma will change from 'auto' to 'scale' in version 0.22 to account better for unscaled features. Set gamma explicitly to 'auto' or 'scale' to avoid this warning.\n",
      "  \"avoid this warning.\", FutureWarning)\n",
      "C:\\Users\\srira\\Anaconda3\\lib\\site-packages\\sklearn\\svm\\base.py:193: FutureWarning: The default value of gamma will change from 'auto' to 'scale' in version 0.22 to account better for unscaled features. Set gamma explicitly to 'auto' or 'scale' to avoid this warning.\n",
      "  \"avoid this warning.\", FutureWarning)\n",
      "C:\\Users\\srira\\Anaconda3\\lib\\site-packages\\sklearn\\svm\\base.py:193: FutureWarning: The default value of gamma will change from 'auto' to 'scale' in version 0.22 to account better for unscaled features. Set gamma explicitly to 'auto' or 'scale' to avoid this warning.\n",
      "  \"avoid this warning.\", FutureWarning)\n",
      "C:\\Users\\srira\\Anaconda3\\lib\\site-packages\\sklearn\\svm\\base.py:193: FutureWarning: The default value of gamma will change from 'auto' to 'scale' in version 0.22 to account better for unscaled features. Set gamma explicitly to 'auto' or 'scale' to avoid this warning.\n",
      "  \"avoid this warning.\", FutureWarning)\n",
      "C:\\Users\\srira\\Anaconda3\\lib\\site-packages\\sklearn\\svm\\base.py:193: FutureWarning: The default value of gamma will change from 'auto' to 'scale' in version 0.22 to account better for unscaled features. Set gamma explicitly to 'auto' or 'scale' to avoid this warning.\n",
      "  \"avoid this warning.\", FutureWarning)\n",
      "C:\\Users\\srira\\Anaconda3\\lib\\site-packages\\sklearn\\svm\\base.py:193: FutureWarning: The default value of gamma will change from 'auto' to 'scale' in version 0.22 to account better for unscaled features. Set gamma explicitly to 'auto' or 'scale' to avoid this warning.\n",
      "  \"avoid this warning.\", FutureWarning)\n",
      "C:\\Users\\srira\\Anaconda3\\lib\\site-packages\\sklearn\\svm\\base.py:193: FutureWarning: The default value of gamma will change from 'auto' to 'scale' in version 0.22 to account better for unscaled features. Set gamma explicitly to 'auto' or 'scale' to avoid this warning.\n",
      "  \"avoid this warning.\", FutureWarning)\n",
      "C:\\Users\\srira\\Anaconda3\\lib\\site-packages\\sklearn\\svm\\base.py:193: FutureWarning: The default value of gamma will change from 'auto' to 'scale' in version 0.22 to account better for unscaled features. Set gamma explicitly to 'auto' or 'scale' to avoid this warning.\n",
      "  \"avoid this warning.\", FutureWarning)\n",
      "C:\\Users\\srira\\Anaconda3\\lib\\site-packages\\sklearn\\svm\\base.py:193: FutureWarning: The default value of gamma will change from 'auto' to 'scale' in version 0.22 to account better for unscaled features. Set gamma explicitly to 'auto' or 'scale' to avoid this warning.\n",
      "  \"avoid this warning.\", FutureWarning)\n",
      "C:\\Users\\srira\\Anaconda3\\lib\\site-packages\\sklearn\\svm\\base.py:193: FutureWarning: The default value of gamma will change from 'auto' to 'scale' in version 0.22 to account better for unscaled features. Set gamma explicitly to 'auto' or 'scale' to avoid this warning.\n",
      "  \"avoid this warning.\", FutureWarning)\n",
      "C:\\Users\\srira\\Anaconda3\\lib\\site-packages\\sklearn\\svm\\base.py:193: FutureWarning: The default value of gamma will change from 'auto' to 'scale' in version 0.22 to account better for unscaled features. Set gamma explicitly to 'auto' or 'scale' to avoid this warning.\n",
      "  \"avoid this warning.\", FutureWarning)\n",
      "C:\\Users\\srira\\Anaconda3\\lib\\site-packages\\sklearn\\svm\\base.py:193: FutureWarning: The default value of gamma will change from 'auto' to 'scale' in version 0.22 to account better for unscaled features. Set gamma explicitly to 'auto' or 'scale' to avoid this warning.\n",
      "  \"avoid this warning.\", FutureWarning)\n",
      "C:\\Users\\srira\\Anaconda3\\lib\\site-packages\\sklearn\\svm\\base.py:193: FutureWarning: The default value of gamma will change from 'auto' to 'scale' in version 0.22 to account better for unscaled features. Set gamma explicitly to 'auto' or 'scale' to avoid this warning.\n",
      "  \"avoid this warning.\", FutureWarning)\n",
      "C:\\Users\\srira\\Anaconda3\\lib\\site-packages\\sklearn\\svm\\base.py:193: FutureWarning: The default value of gamma will change from 'auto' to 'scale' in version 0.22 to account better for unscaled features. Set gamma explicitly to 'auto' or 'scale' to avoid this warning.\n",
      "  \"avoid this warning.\", FutureWarning)\n",
      "C:\\Users\\srira\\Anaconda3\\lib\\site-packages\\sklearn\\svm\\base.py:193: FutureWarning: The default value of gamma will change from 'auto' to 'scale' in version 0.22 to account better for unscaled features. Set gamma explicitly to 'auto' or 'scale' to avoid this warning.\n",
      "  \"avoid this warning.\", FutureWarning)\n",
      "C:\\Users\\srira\\Anaconda3\\lib\\site-packages\\sklearn\\svm\\base.py:193: FutureWarning: The default value of gamma will change from 'auto' to 'scale' in version 0.22 to account better for unscaled features. Set gamma explicitly to 'auto' or 'scale' to avoid this warning.\n",
      "  \"avoid this warning.\", FutureWarning)\n",
      "C:\\Users\\srira\\Anaconda3\\lib\\site-packages\\sklearn\\svm\\base.py:193: FutureWarning: The default value of gamma will change from 'auto' to 'scale' in version 0.22 to account better for unscaled features. Set gamma explicitly to 'auto' or 'scale' to avoid this warning.\n",
      "  \"avoid this warning.\", FutureWarning)\n",
      "C:\\Users\\srira\\Anaconda3\\lib\\site-packages\\sklearn\\svm\\base.py:193: FutureWarning: The default value of gamma will change from 'auto' to 'scale' in version 0.22 to account better for unscaled features. Set gamma explicitly to 'auto' or 'scale' to avoid this warning.\n",
      "  \"avoid this warning.\", FutureWarning)\n",
      "C:\\Users\\srira\\Anaconda3\\lib\\site-packages\\sklearn\\svm\\base.py:193: FutureWarning: The default value of gamma will change from 'auto' to 'scale' in version 0.22 to account better for unscaled features. Set gamma explicitly to 'auto' or 'scale' to avoid this warning.\n",
      "  \"avoid this warning.\", FutureWarning)\n",
      "C:\\Users\\srira\\Anaconda3\\lib\\site-packages\\sklearn\\svm\\base.py:193: FutureWarning: The default value of gamma will change from 'auto' to 'scale' in version 0.22 to account better for unscaled features. Set gamma explicitly to 'auto' or 'scale' to avoid this warning.\n",
      "  \"avoid this warning.\", FutureWarning)\n",
      "C:\\Users\\srira\\Anaconda3\\lib\\site-packages\\sklearn\\svm\\base.py:193: FutureWarning: The default value of gamma will change from 'auto' to 'scale' in version 0.22 to account better for unscaled features. Set gamma explicitly to 'auto' or 'scale' to avoid this warning.\n",
      "  \"avoid this warning.\", FutureWarning)\n",
      "C:\\Users\\srira\\Anaconda3\\lib\\site-packages\\sklearn\\svm\\base.py:193: FutureWarning: The default value of gamma will change from 'auto' to 'scale' in version 0.22 to account better for unscaled features. Set gamma explicitly to 'auto' or 'scale' to avoid this warning.\n",
      "  \"avoid this warning.\", FutureWarning)\n",
      "C:\\Users\\srira\\Anaconda3\\lib\\site-packages\\sklearn\\svm\\base.py:193: FutureWarning: The default value of gamma will change from 'auto' to 'scale' in version 0.22 to account better for unscaled features. Set gamma explicitly to 'auto' or 'scale' to avoid this warning.\n",
      "  \"avoid this warning.\", FutureWarning)\n",
      "C:\\Users\\srira\\Anaconda3\\lib\\site-packages\\sklearn\\svm\\base.py:193: FutureWarning: The default value of gamma will change from 'auto' to 'scale' in version 0.22 to account better for unscaled features. Set gamma explicitly to 'auto' or 'scale' to avoid this warning.\n",
      "  \"avoid this warning.\", FutureWarning)\n",
      "C:\\Users\\srira\\Anaconda3\\lib\\site-packages\\sklearn\\svm\\base.py:193: FutureWarning: The default value of gamma will change from 'auto' to 'scale' in version 0.22 to account better for unscaled features. Set gamma explicitly to 'auto' or 'scale' to avoid this warning.\n",
      "  \"avoid this warning.\", FutureWarning)\n",
      "C:\\Users\\srira\\Anaconda3\\lib\\site-packages\\sklearn\\svm\\base.py:193: FutureWarning: The default value of gamma will change from 'auto' to 'scale' in version 0.22 to account better for unscaled features. Set gamma explicitly to 'auto' or 'scale' to avoid this warning.\n",
      "  \"avoid this warning.\", FutureWarning)\n",
      "C:\\Users\\srira\\Anaconda3\\lib\\site-packages\\sklearn\\svm\\base.py:193: FutureWarning: The default value of gamma will change from 'auto' to 'scale' in version 0.22 to account better for unscaled features. Set gamma explicitly to 'auto' or 'scale' to avoid this warning.\n",
      "  \"avoid this warning.\", FutureWarning)\n",
      "C:\\Users\\srira\\Anaconda3\\lib\\site-packages\\sklearn\\svm\\base.py:193: FutureWarning: The default value of gamma will change from 'auto' to 'scale' in version 0.22 to account better for unscaled features. Set gamma explicitly to 'auto' or 'scale' to avoid this warning.\n",
      "  \"avoid this warning.\", FutureWarning)\n",
      "C:\\Users\\srira\\Anaconda3\\lib\\site-packages\\sklearn\\svm\\base.py:193: FutureWarning: The default value of gamma will change from 'auto' to 'scale' in version 0.22 to account better for unscaled features. Set gamma explicitly to 'auto' or 'scale' to avoid this warning.\n",
      "  \"avoid this warning.\", FutureWarning)\n",
      "C:\\Users\\srira\\Anaconda3\\lib\\site-packages\\sklearn\\svm\\base.py:193: FutureWarning: The default value of gamma will change from 'auto' to 'scale' in version 0.22 to account better for unscaled features. Set gamma explicitly to 'auto' or 'scale' to avoid this warning.\n",
      "  \"avoid this warning.\", FutureWarning)\n",
      "C:\\Users\\srira\\Anaconda3\\lib\\site-packages\\sklearn\\svm\\base.py:193: FutureWarning: The default value of gamma will change from 'auto' to 'scale' in version 0.22 to account better for unscaled features. Set gamma explicitly to 'auto' or 'scale' to avoid this warning.\n",
      "  \"avoid this warning.\", FutureWarning)\n",
      "C:\\Users\\srira\\Anaconda3\\lib\\site-packages\\sklearn\\svm\\base.py:193: FutureWarning: The default value of gamma will change from 'auto' to 'scale' in version 0.22 to account better for unscaled features. Set gamma explicitly to 'auto' or 'scale' to avoid this warning.\n",
      "  \"avoid this warning.\", FutureWarning)\n",
      "C:\\Users\\srira\\Anaconda3\\lib\\site-packages\\sklearn\\svm\\base.py:193: FutureWarning: The default value of gamma will change from 'auto' to 'scale' in version 0.22 to account better for unscaled features. Set gamma explicitly to 'auto' or 'scale' to avoid this warning.\n",
      "  \"avoid this warning.\", FutureWarning)\n",
      "C:\\Users\\srira\\Anaconda3\\lib\\site-packages\\sklearn\\svm\\base.py:193: FutureWarning: The default value of gamma will change from 'auto' to 'scale' in version 0.22 to account better for unscaled features. Set gamma explicitly to 'auto' or 'scale' to avoid this warning.\n",
      "  \"avoid this warning.\", FutureWarning)\n",
      "C:\\Users\\srira\\Anaconda3\\lib\\site-packages\\sklearn\\svm\\base.py:193: FutureWarning: The default value of gamma will change from 'auto' to 'scale' in version 0.22 to account better for unscaled features. Set gamma explicitly to 'auto' or 'scale' to avoid this warning.\n",
      "  \"avoid this warning.\", FutureWarning)\n"
     ]
    },
    {
     "name": "stdout",
     "output_type": "stream",
     "text": [
      "kernelized_svm train score: 0.89\n",
      "kernelized_svm test score: 0.89\n"
     ]
    }
   ],
   "source": [
    "bag_ksvc.fit(X_train, y_train)\n",
    "print('kernelized_svm train score: {:.2f}'.format(bag_ksvc.score(X_train, y_train)))\n",
    "print('kernelized_svm test score: {:.2f}'.format(bag_ksvc.score(X_test, y_test)))"
   ]
  },
  {
   "cell_type": "markdown",
   "metadata": {},
   "source": [
    "##  Decision Tree pasting"
   ]
  },
  {
   "cell_type": "code",
   "execution_count": 98,
   "metadata": {},
   "outputs": [
    {
     "name": "stdout",
     "output_type": "stream",
     "text": [
      "Mean score: 0.9007081913320938\n"
     ]
    }
   ],
   "source": [
    "bag_dt = BaggingClassifier(base_estimator=dtree, n_estimators=100,bootstrap_features=False, max_samples=50, max_features=19)\n",
    "\n",
    "bag_dt_score = cross_val_score(estimator=bag_dt, X=X_train, y=y_train, scoring='accuracy', cv=kFold, n_jobs=-1)\n",
    "print('Mean score:', bag_dt_score.mean())"
   ]
  },
  {
   "cell_type": "code",
   "execution_count": 99,
   "metadata": {},
   "outputs": [
    {
     "name": "stdout",
     "output_type": "stream",
     "text": [
      "Decision Tree train score: 0.90\n",
      "Decision Tree test score: 0.91\n"
     ]
    }
   ],
   "source": [
    "bag_dt.fit(X_train, y_train)\n",
    "print('Decision Tree train score: {:.2f}'.format(bag_dt.score(X_train, y_train)))\n",
    "print('Decision Tree test score: {:.2f}'.format(bag_dt.score(X_test, y_test)))"
   ]
  },
  {
   "cell_type": "code",
   "execution_count": null,
   "metadata": {},
   "outputs": [],
   "source": []
  },
  {
   "cell_type": "markdown",
   "metadata": {},
   "source": [
    "# Adaboosting \n",
    "- performd on the best two models from bagging "
   ]
  },
  {
   "cell_type": "markdown",
   "metadata": {},
   "source": [
    "# Logistic Regression with adaboosting"
   ]
  },
  {
   "cell_type": "code",
   "execution_count": 148,
   "metadata": {},
   "outputs": [
    {
     "name": "stderr",
     "output_type": "stream",
     "text": [
      "C:\\Users\\srira\\Anaconda3\\lib\\site-packages\\sklearn\\linear_model\\logistic.py:432: FutureWarning: Default solver will be changed to 'lbfgs' in 0.22. Specify a solver to silence this warning.\n",
      "  FutureWarning)\n",
      "C:\\Users\\srira\\Anaconda3\\lib\\site-packages\\sklearn\\linear_model\\logistic.py:432: FutureWarning: Default solver will be changed to 'lbfgs' in 0.22. Specify a solver to silence this warning.\n",
      "  FutureWarning)\n",
      "C:\\Users\\srira\\Anaconda3\\lib\\site-packages\\sklearn\\linear_model\\logistic.py:432: FutureWarning: Default solver will be changed to 'lbfgs' in 0.22. Specify a solver to silence this warning.\n",
      "  FutureWarning)\n",
      "C:\\Users\\srira\\Anaconda3\\lib\\site-packages\\sklearn\\linear_model\\logistic.py:432: FutureWarning: Default solver will be changed to 'lbfgs' in 0.22. Specify a solver to silence this warning.\n",
      "  FutureWarning)\n",
      "C:\\Users\\srira\\Anaconda3\\lib\\site-packages\\sklearn\\linear_model\\logistic.py:432: FutureWarning: Default solver will be changed to 'lbfgs' in 0.22. Specify a solver to silence this warning.\n",
      "  FutureWarning)\n",
      "C:\\Users\\srira\\Anaconda3\\lib\\site-packages\\sklearn\\linear_model\\logistic.py:432: FutureWarning: Default solver will be changed to 'lbfgs' in 0.22. Specify a solver to silence this warning.\n",
      "  FutureWarning)\n",
      "C:\\Users\\srira\\Anaconda3\\lib\\site-packages\\sklearn\\linear_model\\logistic.py:432: FutureWarning: Default solver will be changed to 'lbfgs' in 0.22. Specify a solver to silence this warning.\n",
      "  FutureWarning)\n",
      "C:\\Users\\srira\\Anaconda3\\lib\\site-packages\\sklearn\\linear_model\\logistic.py:432: FutureWarning: Default solver will be changed to 'lbfgs' in 0.22. Specify a solver to silence this warning.\n",
      "  FutureWarning)\n",
      "C:\\Users\\srira\\Anaconda3\\lib\\site-packages\\sklearn\\linear_model\\logistic.py:432: FutureWarning: Default solver will be changed to 'lbfgs' in 0.22. Specify a solver to silence this warning.\n",
      "  FutureWarning)\n",
      "C:\\Users\\srira\\Anaconda3\\lib\\site-packages\\sklearn\\linear_model\\logistic.py:432: FutureWarning: Default solver will be changed to 'lbfgs' in 0.22. Specify a solver to silence this warning.\n",
      "  FutureWarning)\n",
      "C:\\Users\\srira\\Anaconda3\\lib\\site-packages\\sklearn\\linear_model\\logistic.py:432: FutureWarning: Default solver will be changed to 'lbfgs' in 0.22. Specify a solver to silence this warning.\n",
      "  FutureWarning)\n",
      "C:\\Users\\srira\\Anaconda3\\lib\\site-packages\\sklearn\\linear_model\\logistic.py:432: FutureWarning: Default solver will be changed to 'lbfgs' in 0.22. Specify a solver to silence this warning.\n",
      "  FutureWarning)\n",
      "C:\\Users\\srira\\Anaconda3\\lib\\site-packages\\sklearn\\linear_model\\logistic.py:432: FutureWarning: Default solver will be changed to 'lbfgs' in 0.22. Specify a solver to silence this warning.\n",
      "  FutureWarning)\n",
      "C:\\Users\\srira\\Anaconda3\\lib\\site-packages\\sklearn\\linear_model\\logistic.py:432: FutureWarning: Default solver will be changed to 'lbfgs' in 0.22. Specify a solver to silence this warning.\n",
      "  FutureWarning)\n",
      "C:\\Users\\srira\\Anaconda3\\lib\\site-packages\\sklearn\\linear_model\\logistic.py:432: FutureWarning: Default solver will be changed to 'lbfgs' in 0.22. Specify a solver to silence this warning.\n",
      "  FutureWarning)\n",
      "C:\\Users\\srira\\Anaconda3\\lib\\site-packages\\sklearn\\linear_model\\logistic.py:432: FutureWarning: Default solver will be changed to 'lbfgs' in 0.22. Specify a solver to silence this warning.\n",
      "  FutureWarning)\n",
      "C:\\Users\\srira\\Anaconda3\\lib\\site-packages\\sklearn\\linear_model\\logistic.py:432: FutureWarning: Default solver will be changed to 'lbfgs' in 0.22. Specify a solver to silence this warning.\n",
      "  FutureWarning)\n",
      "C:\\Users\\srira\\Anaconda3\\lib\\site-packages\\sklearn\\linear_model\\logistic.py:432: FutureWarning: Default solver will be changed to 'lbfgs' in 0.22. Specify a solver to silence this warning.\n",
      "  FutureWarning)\n",
      "C:\\Users\\srira\\Anaconda3\\lib\\site-packages\\sklearn\\linear_model\\logistic.py:432: FutureWarning: Default solver will be changed to 'lbfgs' in 0.22. Specify a solver to silence this warning.\n",
      "  FutureWarning)\n",
      "C:\\Users\\srira\\Anaconda3\\lib\\site-packages\\sklearn\\linear_model\\logistic.py:432: FutureWarning: Default solver will be changed to 'lbfgs' in 0.22. Specify a solver to silence this warning.\n",
      "  FutureWarning)\n",
      "C:\\Users\\srira\\Anaconda3\\lib\\site-packages\\sklearn\\linear_model\\logistic.py:432: FutureWarning: Default solver will be changed to 'lbfgs' in 0.22. Specify a solver to silence this warning.\n",
      "  FutureWarning)\n",
      "C:\\Users\\srira\\Anaconda3\\lib\\site-packages\\sklearn\\linear_model\\logistic.py:432: FutureWarning: Default solver will be changed to 'lbfgs' in 0.22. Specify a solver to silence this warning.\n",
      "  FutureWarning)\n",
      "C:\\Users\\srira\\Anaconda3\\lib\\site-packages\\sklearn\\linear_model\\logistic.py:432: FutureWarning: Default solver will be changed to 'lbfgs' in 0.22. Specify a solver to silence this warning.\n",
      "  FutureWarning)\n",
      "C:\\Users\\srira\\Anaconda3\\lib\\site-packages\\sklearn\\linear_model\\logistic.py:432: FutureWarning: Default solver will be changed to 'lbfgs' in 0.22. Specify a solver to silence this warning.\n",
      "  FutureWarning)\n",
      "C:\\Users\\srira\\Anaconda3\\lib\\site-packages\\sklearn\\linear_model\\logistic.py:432: FutureWarning: Default solver will be changed to 'lbfgs' in 0.22. Specify a solver to silence this warning.\n",
      "  FutureWarning)\n",
      "C:\\Users\\srira\\Anaconda3\\lib\\site-packages\\sklearn\\linear_model\\logistic.py:432: FutureWarning: Default solver will be changed to 'lbfgs' in 0.22. Specify a solver to silence this warning.\n",
      "  FutureWarning)\n",
      "C:\\Users\\srira\\Anaconda3\\lib\\site-packages\\sklearn\\linear_model\\logistic.py:432: FutureWarning: Default solver will be changed to 'lbfgs' in 0.22. Specify a solver to silence this warning.\n",
      "  FutureWarning)\n",
      "C:\\Users\\srira\\Anaconda3\\lib\\site-packages\\sklearn\\linear_model\\logistic.py:432: FutureWarning: Default solver will be changed to 'lbfgs' in 0.22. Specify a solver to silence this warning.\n",
      "  FutureWarning)\n",
      "C:\\Users\\srira\\Anaconda3\\lib\\site-packages\\sklearn\\linear_model\\logistic.py:432: FutureWarning: Default solver will be changed to 'lbfgs' in 0.22. Specify a solver to silence this warning.\n",
      "  FutureWarning)\n",
      "C:\\Users\\srira\\Anaconda3\\lib\\site-packages\\sklearn\\linear_model\\logistic.py:432: FutureWarning: Default solver will be changed to 'lbfgs' in 0.22. Specify a solver to silence this warning.\n",
      "  FutureWarning)\n",
      "C:\\Users\\srira\\Anaconda3\\lib\\site-packages\\sklearn\\linear_model\\logistic.py:432: FutureWarning: Default solver will be changed to 'lbfgs' in 0.22. Specify a solver to silence this warning.\n",
      "  FutureWarning)\n",
      "C:\\Users\\srira\\Anaconda3\\lib\\site-packages\\sklearn\\linear_model\\logistic.py:432: FutureWarning: Default solver will be changed to 'lbfgs' in 0.22. Specify a solver to silence this warning.\n",
      "  FutureWarning)\n",
      "C:\\Users\\srira\\Anaconda3\\lib\\site-packages\\sklearn\\linear_model\\logistic.py:432: FutureWarning: Default solver will be changed to 'lbfgs' in 0.22. Specify a solver to silence this warning.\n",
      "  FutureWarning)\n",
      "C:\\Users\\srira\\Anaconda3\\lib\\site-packages\\sklearn\\linear_model\\logistic.py:432: FutureWarning: Default solver will be changed to 'lbfgs' in 0.22. Specify a solver to silence this warning.\n",
      "  FutureWarning)\n",
      "C:\\Users\\srira\\Anaconda3\\lib\\site-packages\\sklearn\\linear_model\\logistic.py:432: FutureWarning: Default solver will be changed to 'lbfgs' in 0.22. Specify a solver to silence this warning.\n",
      "  FutureWarning)\n",
      "C:\\Users\\srira\\Anaconda3\\lib\\site-packages\\sklearn\\linear_model\\logistic.py:432: FutureWarning: Default solver will be changed to 'lbfgs' in 0.22. Specify a solver to silence this warning.\n",
      "  FutureWarning)\n",
      "C:\\Users\\srira\\Anaconda3\\lib\\site-packages\\sklearn\\linear_model\\logistic.py:432: FutureWarning: Default solver will be changed to 'lbfgs' in 0.22. Specify a solver to silence this warning.\n",
      "  FutureWarning)\n",
      "C:\\Users\\srira\\Anaconda3\\lib\\site-packages\\sklearn\\linear_model\\logistic.py:432: FutureWarning: Default solver will be changed to 'lbfgs' in 0.22. Specify a solver to silence this warning.\n",
      "  FutureWarning)\n",
      "C:\\Users\\srira\\Anaconda3\\lib\\site-packages\\sklearn\\linear_model\\logistic.py:432: FutureWarning: Default solver will be changed to 'lbfgs' in 0.22. Specify a solver to silence this warning.\n",
      "  FutureWarning)\n",
      "C:\\Users\\srira\\Anaconda3\\lib\\site-packages\\sklearn\\linear_model\\logistic.py:432: FutureWarning: Default solver will be changed to 'lbfgs' in 0.22. Specify a solver to silence this warning.\n",
      "  FutureWarning)\n",
      "C:\\Users\\srira\\Anaconda3\\lib\\site-packages\\sklearn\\linear_model\\logistic.py:432: FutureWarning: Default solver will be changed to 'lbfgs' in 0.22. Specify a solver to silence this warning.\n",
      "  FutureWarning)\n",
      "C:\\Users\\srira\\Anaconda3\\lib\\site-packages\\sklearn\\linear_model\\logistic.py:432: FutureWarning: Default solver will be changed to 'lbfgs' in 0.22. Specify a solver to silence this warning.\n",
      "  FutureWarning)\n",
      "C:\\Users\\srira\\Anaconda3\\lib\\site-packages\\sklearn\\linear_model\\logistic.py:432: FutureWarning: Default solver will be changed to 'lbfgs' in 0.22. Specify a solver to silence this warning.\n",
      "  FutureWarning)\n",
      "C:\\Users\\srira\\Anaconda3\\lib\\site-packages\\sklearn\\linear_model\\logistic.py:432: FutureWarning: Default solver will be changed to 'lbfgs' in 0.22. Specify a solver to silence this warning.\n",
      "  FutureWarning)\n",
      "C:\\Users\\srira\\Anaconda3\\lib\\site-packages\\sklearn\\linear_model\\logistic.py:432: FutureWarning: Default solver will be changed to 'lbfgs' in 0.22. Specify a solver to silence this warning.\n",
      "  FutureWarning)\n",
      "C:\\Users\\srira\\Anaconda3\\lib\\site-packages\\sklearn\\linear_model\\logistic.py:432: FutureWarning: Default solver will be changed to 'lbfgs' in 0.22. Specify a solver to silence this warning.\n",
      "  FutureWarning)\n",
      "C:\\Users\\srira\\Anaconda3\\lib\\site-packages\\sklearn\\linear_model\\logistic.py:432: FutureWarning: Default solver will be changed to 'lbfgs' in 0.22. Specify a solver to silence this warning.\n",
      "  FutureWarning)\n",
      "C:\\Users\\srira\\Anaconda3\\lib\\site-packages\\sklearn\\linear_model\\logistic.py:432: FutureWarning: Default solver will be changed to 'lbfgs' in 0.22. Specify a solver to silence this warning.\n",
      "  FutureWarning)\n"
     ]
    },
    {
     "name": "stdout",
     "output_type": "stream",
     "text": [
      "Train score: 0.89\n",
      "Test score: 0.89\n"
     ]
    },
    {
     "name": "stderr",
     "output_type": "stream",
     "text": [
      "C:\\Users\\srira\\Anaconda3\\lib\\site-packages\\sklearn\\linear_model\\logistic.py:432: FutureWarning: Default solver will be changed to 'lbfgs' in 0.22. Specify a solver to silence this warning.\n",
      "  FutureWarning)\n",
      "C:\\Users\\srira\\Anaconda3\\lib\\site-packages\\sklearn\\linear_model\\logistic.py:432: FutureWarning: Default solver will be changed to 'lbfgs' in 0.22. Specify a solver to silence this warning.\n",
      "  FutureWarning)\n"
     ]
    }
   ],
   "source": [
    "from sklearn.ensemble import AdaBoostClassifier\n",
    "\n",
    "adaboost_log_clf = AdaBoostClassifier(base_estimator = logreg, learning_rate = 0.5)\n",
    "adaboost_log_clf.fit(X_train, y_train)\n",
    "print('Train score: {0:0.2f}'.format(adaboost_log_clf.score(X_train, y_train)))\n",
    "print('Test score: {0:0.2f}'.format(adaboost_log_clf.score(X_test, y_test)))"
   ]
  },
  {
   "cell_type": "markdown",
   "metadata": {},
   "source": [
    "# Random forest with adabossting"
   ]
  },
  {
   "cell_type": "code",
   "execution_count": 224,
   "metadata": {},
   "outputs": [
    {
     "name": "stdout",
     "output_type": "stream",
     "text": [
      "Train score: 0.97\n",
      "Test score: 0.91\n"
     ]
    }
   ],
   "source": [
    "from sklearn.ensemble import AdaBoostClassifier\n",
    "adaboost_rf_clf = AdaBoostClassifier(base_estimator = rf_clf, learning_rate = 0.5)\n",
    "adaboost_rf_clf.fit(X_train, y_train)\n",
    "print('Train score: {0:0.2f}'.format(adaboost_rf_clf.score(X_train, y_train)))\n",
    "print('Test score: {0:0.2f}'.format(adaboost_rf_clf.score(X_test, y_test)))\n",
    "\n",
    "y_scores =adaboost_rf_clf.predict_proba(X_test)\n",
    "fpr_rf_ada, tpr_rf_ada, threshold_rf_ada = roc_curve(y_test, y_scores[:,1])\n",
    "roc_auc_rf_ada = auc(fpr_rf_ada, tpr_rf_ada)"
   ]
  },
  {
   "cell_type": "markdown",
   "metadata": {},
   "source": [
    "# Gradient boosting "
   ]
  },
  {
   "cell_type": "code",
   "execution_count": 163,
   "metadata": {},
   "outputs": [
    {
     "name": "stdout",
     "output_type": "stream",
     "text": [
      "Train score: 0.92\n",
      "Test score: 0.92\n"
     ]
    }
   ],
   "source": [
    "from sklearn.ensemble import GradientBoostingClassifier\n",
    "\n",
    "gb_clf1 = GradientBoostingClassifier(learning_rate = 0.05)\n",
    "gb_clf1.fit(X_train, y_train)\n",
    "print('Train score: {0:0.2f}'.format(gb_clf.score(X_train, y_train)))\n",
    "print('Test score: {0:0.2f}'.format(gb_clf.score(X_test, y_test)))"
   ]
  },
  {
   "cell_type": "code",
   "execution_count": 164,
   "metadata": {},
   "outputs": [
    {
     "name": "stdout",
     "output_type": "stream",
     "text": [
      "Train score: 0.92\n",
      "Test score: 0.92\n"
     ]
    }
   ],
   "source": [
    "gb_clf2 = GradientBoostingClassifier(learning_rate = 1)\n",
    "gb_clf2.fit(X_train, y_train)\n",
    "print('Train score: {0:0.2f}'.format(gb_clf.score(X_train, y_train)))\n",
    "print('Test score: {0:0.2f}'.format(gb_clf.score(X_test, y_test)))"
   ]
  },
  {
   "cell_type": "code",
   "execution_count": 165,
   "metadata": {},
   "outputs": [
    {
     "name": "stdout",
     "output_type": "stream",
     "text": [
      "Train score: 0.92\n",
      "Test score: 0.92\n",
      "Mean Accuracy: 0.9133286293533628\n"
     ]
    }
   ],
   "source": [
    "GB = GradientBoostingClassifier()\n",
    "score = cross_val_score(estimator=GB, X=X_train, y=y_train, cv=kFold, n_jobs=-1)\n",
    "gb_clf1.fit(X_train, y_train)\n",
    "print('Train score: {0:0.2f}'.format(gb_clf.score(X_train, y_train)))\n",
    "print('Test score: {0:0.2f}'.format(gb_clf.score(X_test, y_test)))\n",
    "print('Mean Accuracy:', score.mean())"
   ]
  },
  {
   "cell_type": "code",
   "execution_count": 228,
   "metadata": {},
   "outputs": [
    {
     "name": "stdout",
     "output_type": "stream",
     "text": [
      "Train score: 0.92\n",
      "Test score: 0.92\n",
      "Mean Accuracy: 0.9133286293533628\n"
     ]
    }
   ],
   "source": [
    "GB2 = GradientBoostingClassifier(min_samples_leaf=9, learning_rate=.05, n_estimators=100)\n",
    "score = cross_val_score(estimator=GB, X=X_train, y=y_train, cv=kFold, n_jobs=-1)\n",
    "gb_clf2.fit(X_train, y_train)\n",
    "print('Train score: {0:0.2f}'.format(gb_clf.score(X_train, y_train)))\n",
    "print('Test score: {0:0.2f}'.format(gb_clf.score(X_test, y_test)))\n",
    "print('Mean Accuracy:', score.mean())\n",
    "\n",
    "y_scores =gb_clf2.predict_proba(X_test)\n",
    "fpr_grad, tpr_grad, threshold_grad = roc_curve(y_test, y_scores[:,1])\n",
    "roc_auc_grad = auc(fpr_grad, tpr_grad)"
   ]
  },
  {
   "cell_type": "markdown",
   "metadata": {},
   "source": [
    "# Applying PCA to all the models"
   ]
  },
  {
   "cell_type": "code",
   "execution_count": 169,
   "metadata": {},
   "outputs": [],
   "source": [
    "from sklearn.preprocessing import StandardScaler,MinMaxScaler\n",
    "from sklearn.decomposition import PCA\n",
    "from sklearn.model_selection import train_test_split\n",
    "from sklearn.metrics import accuracy_score, precision_score"
   ]
  },
  {
   "cell_type": "code",
   "execution_count": 170,
   "metadata": {},
   "outputs": [],
   "source": [
    "pca = PCA(n_components=15, svd_solver='auto')\n",
    "\n",
    "X_train_pca = pca.fit_transform(X_train) #training\n",
    "X_test_pca = pca.transform(X_test) #test"
   ]
  },
  {
   "cell_type": "code",
   "execution_count": 171,
   "metadata": {},
   "outputs": [
    {
     "data": {
      "text/plain": [
       "(28683, 15)"
      ]
     },
     "execution_count": 171,
     "metadata": {},
     "output_type": "execute_result"
    }
   ],
   "source": [
    "X_train_pca.shape"
   ]
  },
  {
   "cell_type": "code",
   "execution_count": 172,
   "metadata": {},
   "outputs": [
    {
     "data": {
      "text/plain": [
       "array([0.22216831, 0.31202745, 0.39030544, 0.46127615, 0.5203336 ,\n",
       "       0.57847852, 0.6328608 , 0.68574759, 0.73748218, 0.78727607,\n",
       "       0.83489292, 0.87951982, 0.92030201, 0.95185865, 0.98153465])"
      ]
     },
     "execution_count": 172,
     "metadata": {},
     "output_type": "execute_result"
    }
   ],
   "source": [
    "cumsum = np.cumsum(pca.explained_variance_ratio_)\n",
    "cumsum"
   ]
  },
  {
   "cell_type": "code",
   "execution_count": 173,
   "metadata": {},
   "outputs": [
    {
     "data": {
      "image/png": "[encoded data removed]",
      "text/plain": [
       "<Figure size 1008x432 with 1 Axes>"
      ]
     },
     "metadata": {
      "needs_background": "light"
     },
     "output_type": "display_data"
    }
   ],
   "source": [
    "plt.figure(figsize=(14,6))\n",
    "plt.plot(np.cumsum(pca.explained_variance_ratio_))\n",
    "plt.xlabel('Number of Components')\n",
    "plt.ylabel('Cumulative Explained Variance');"
   ]
  },
  {
   "cell_type": "markdown",
   "metadata": {},
   "source": [
    "# KNN Classification with PCA"
   ]
  },
  {
   "cell_type": "code",
   "execution_count": 174,
   "metadata": {},
   "outputs": [
    {
     "data": {
      "text/plain": [
       "GridSearchCV(cv=StratifiedKFold(n_splits=5, random_state=None, shuffle=False),\n",
       "             error_score='raise-deprecating',\n",
       "             estimator=KNeighborsClassifier(algorithm='auto', leaf_size=30,\n",
       "                                            metric='minkowski',\n",
       "                                            metric_params=None, n_jobs=-1,\n",
       "                                            n_neighbors=5, p=2,\n",
       "                                            weights='uniform'),\n",
       "             iid='warn', n_jobs=None,\n",
       "             param_grid={'n_neighbors': [1, 2, 3, 4, 5, 7, 10]},\n",
       "             pre_dispatch='2*n_jobs', refit=True, return_train_score=True,\n",
       "             scoring='accuracy', verbose=0)"
      ]
     },
     "execution_count": 174,
     "metadata": {},
     "output_type": "execute_result"
    }
   ],
   "source": [
    "from sklearn.neighbors import KNeighborsClassifier\n",
    "\n",
    "knn_clf_pca = KNeighborsClassifier(n_jobs=-1)\n",
    "\n",
    "param_grid={'n_neighbors':[1,2,3,4,5,7,10]}\n",
    "\n",
    "grid_search = GridSearchCV(knn_clf_pca, param_grid, scoring = 'accuracy',cv=kFold, return_train_score=True)\n",
    "grid_search.fit(X_train,y_train)"
   ]
  },
  {
   "cell_type": "code",
   "execution_count": 115,
   "metadata": {
    "scrolled": true
   },
   "outputs": [
    {
     "data": {
      "text/plain": [
       "{'mean_fit_time': array([0.04952784, 0.04159846, 0.0487299 , 0.0551178 , 0.05205617,\n",
       "        0.05548372, 0.05175381, 0.05692902]),\n",
       " 'std_fit_time': array([0.00407713, 0.00235789, 0.0036829 , 0.00615875, 0.0038872 ,\n",
       "        0.00487976, 0.00314673, 0.00640227]),\n",
       " 'mean_score_time': array([0.00079885, 0.        , 0.00153327, 0.00159788, 0.00079885,\n",
       "        0.        , 0.00160298, 0.00079041]),\n",
       " 'std_score_time': array([0.00159769, 0.        , 0.00188066, 0.001957  , 0.00159769,\n",
       "        0.        , 0.00196326, 0.00158081]),\n",
       " 'param_C': masked_array(data=[1e-05, 0.0001, 0.001, 0.01, 0.1, 1, 10, 100],\n",
       "              mask=[False, False, False, False, False, False, False, False],\n",
       "        fill_value='?',\n",
       "             dtype=object),\n",
       " 'params': [{'C': 1e-05},\n",
       "  {'C': 0.0001},\n",
       "  {'C': 0.001},\n",
       "  {'C': 0.01},\n",
       "  {'C': 0.1},\n",
       "  {'C': 1},\n",
       "  {'C': 10},\n",
       "  {'C': 100}],\n",
       " 'split0_test_score': array([0.88724294, 0.89525967, 0.90083653, 0.90223074, 0.90188219,\n",
       "        0.90188219, 0.90188219, 0.90188219]),\n",
       " 'split1_test_score': array([0.88739759, 0.89750741, 0.8973331 , 0.90047063, 0.90134216,\n",
       "        0.90151647, 0.90151647, 0.90151647]),\n",
       " 'split2_test_score': array([0.88737796, 0.89661785, 0.90254533, 0.90481172, 0.90550907,\n",
       "        0.90550907, 0.90550907, 0.90550907]),\n",
       " 'split3_test_score': array([0.88737796, 0.89766388, 0.90027894, 0.90341702, 0.90271967,\n",
       "        0.90237099, 0.90271967, 0.90271967]),\n",
       " 'split4_test_score': array([0.88737796, 0.89993026, 0.90359135, 0.90411437, 0.90446304,\n",
       "        0.90463738, 0.90481172, 0.90481172]),\n",
       " 'mean_test_score': array([0.88735488, 0.89739567, 0.90091692, 0.90300875, 0.90318307,\n",
       "        0.90318307, 0.90328766, 0.90328766]),\n",
       " 'std_test_score': array([5.64912225e-05, 1.52816560e-03, 2.14762066e-03, 1.52886984e-03,\n",
       "        1.57126932e-03, 1.59086967e-03, 1.59325890e-03, 1.59325890e-03]),\n",
       " 'rank_test_score': array([8, 7, 6, 5, 3, 3, 1, 1]),\n",
       " 'split0_train_score': array([0.88738287, 0.8977555 , 0.90119852, 0.90320331, 0.90337764,\n",
       "        0.90329048, 0.90333406, 0.90333406]),\n",
       " 'split1_train_score': array([0.8873442 , 0.89828293, 0.90172579, 0.90355618, 0.90364334,\n",
       "        0.90364334, 0.90359976, 0.90359976]),\n",
       " 'split2_train_score': array([0.88734911, 0.8975901 , 0.90055345, 0.90260165, 0.90286312,\n",
       "        0.90295028, 0.90295028, 0.90295028]),\n",
       " 'split3_train_score': array([0.88734911, 0.89737221, 0.90151218, 0.90286312, 0.90325533,\n",
       "        0.90334248, 0.90334248, 0.90334248]),\n",
       " 'split4_train_score': array([0.88734911, 0.89715431, 0.90033556, 0.90264523, 0.90273238,\n",
       "        0.90264523, 0.90264523, 0.90264523]),\n",
       " 'mean_train_score': array([0.88735488, 0.89763101, 0.9010651 , 0.9029739 , 0.90317436,\n",
       "        0.90317436, 0.90317436, 0.90317436]),\n",
       " 'std_train_score': array([1.41248096e-05, 3.83767122e-04, 5.38184894e-04, 3.60706435e-04,\n",
       "        3.34673719e-04, 3.44059389e-04, 3.36133256e-04, 3.36133256e-04])}"
      ]
     },
     "execution_count": 115,
     "metadata": {},
     "output_type": "execute_result"
    }
   ],
   "source": [
    "grid_search.cv_results_"
   ]
  },
  {
   "cell_type": "code",
   "execution_count": 175,
   "metadata": {},
   "outputs": [
    {
     "name": "stdout",
     "output_type": "stream",
     "text": [
      "{'n_neighbors': 10}\n",
      "0.9003242338667503\n"
     ]
    }
   ],
   "source": [
    "print(grid_search.best_params_)\n",
    "print(grid_search.best_score_)"
   ]
  },
  {
   "cell_type": "code",
   "execution_count": 176,
   "metadata": {},
   "outputs": [
    {
     "data": {
      "text/plain": [
       "KNeighborsClassifier(algorithm='auto', leaf_size=30, metric='minkowski',\n",
       "                     metric_params=None, n_jobs=None, n_neighbors=10, p=2,\n",
       "                     weights='uniform')"
      ]
     },
     "execution_count": 176,
     "metadata": {},
     "output_type": "execute_result"
    }
   ],
   "source": [
    "knn_clf_pca=KNeighborsClassifier(n_neighbors=10)\n",
    "knn_clf_pca.fit(X_train_pca, y_train)"
   ]
  },
  {
   "cell_type": "code",
   "execution_count": 177,
   "metadata": {},
   "outputs": [
    {
     "name": "stdout",
     "output_type": "stream",
     "text": [
      "Train score: 0.9100163860126207\n",
      "Test score: 0.9080736247646936\n"
     ]
    },
    {
     "data": {
      "text/plain": [
       "array([[8424,  111],\n",
       "       [ 768,  259]], dtype=int64)"
      ]
     },
     "execution_count": 177,
     "metadata": {},
     "output_type": "execute_result"
    }
   ],
   "source": [
    "y_pred_train = knn_clf_pca.predict(X_train_pca)\n",
    "y_pred_test = knn_clf_pca.predict(X_test_pca)\n",
    "\n",
    "knn_pca_train_score = accuracy_score(y_train, y_pred_train)\n",
    "knn_pca_test_score = accuracy_score(y_test, y_pred_test)\n",
    "print('Train score: {}'\n",
    "      .format(knn_pca_train_score))\n",
    "print('Test score: {}'\n",
    "      .format(knn_pca_test_score))\n",
    "\n",
    "metrics.confusion_matrix(y_test, y_pred_test)"
   ]
  },
  {
   "cell_type": "markdown",
   "metadata": {},
   "source": [
    "# Logisitc Regression Classification with PCA"
   ]
  },
  {
   "cell_type": "code",
   "execution_count": 178,
   "metadata": {},
   "outputs": [
    {
     "data": {
      "text/plain": [
       "GridSearchCV(cv=StratifiedKFold(n_splits=5, random_state=None, shuffle=False),\n",
       "             error_score='raise-deprecating',\n",
       "             estimator=LogisticRegression(C=1.0, class_weight=None, dual=False,\n",
       "                                          fit_intercept=True,\n",
       "                                          intercept_scaling=1, l1_ratio=None,\n",
       "                                          max_iter=100,\n",
       "                                          multi_class='multinomial',\n",
       "                                          n_jobs=None, penalty='l2',\n",
       "                                          random_state=None, solver='lbfgs',\n",
       "                                          tol=0.0001, verbose=0,\n",
       "                                          warm_start=False),\n",
       "             iid='warn', n_jobs=None,\n",
       "             param_grid={'C': [1e-05, 0.0001, 0.001, 0.01, 0.1, 1, 10, 100]},\n",
       "             pre_dispatch='2*n_jobs', refit=True, return_train_score=True,\n",
       "             scoring='accuracy', verbose=0)"
      ]
     },
     "execution_count": 178,
     "metadata": {},
     "output_type": "execute_result"
    }
   ],
   "source": [
    "from sklearn.linear_model import LogisticRegression\n",
    "from sklearn.model_selection import GridSearchCV, KFold, StratifiedKFold, cross_val_score\n",
    "from sklearn.metrics import recall_score\n",
    "\n",
    "lreg_clf_pca = LogisticRegression(multi_class='multinomial', solver='lbfgs')\n",
    "\n",
    "param_grid = {'C': [0.00001,0.0001,0.001,0.01,0.1,1,10,100]}\n",
    "\n",
    "grid_search = GridSearchCV(lreg_clf_pca, param_grid, scoring = 'accuracy',cv=kFold, return_train_score=True)\n",
    "grid_search.fit(X_train_pca,y_train)"
   ]
  },
  {
   "cell_type": "code",
   "execution_count": 179,
   "metadata": {},
   "outputs": [
    {
     "data": {
      "text/plain": [
       "{'mean_fit_time': array([0.04627738, 0.03789878, 0.04129024, 0.05585299, 0.06263304,\n",
       "        0.05505314, 0.05924397, 0.05605054]),\n",
       " 'std_fit_time': array([0.00698303, 0.00282101, 0.00223898, 0.00945884, 0.00868045,\n",
       "        0.0046949 , 0.00448913, 0.00159645]),\n",
       " 'mean_score_time': array([0.00059857, 0.00079827, 0.000599  , 0.00079618, 0.00059905,\n",
       "        0.00099759, 0.00079532, 0.00039897]),\n",
       " 'std_score_time': array([4.88733375e-04, 3.99136696e-04, 4.89084009e-04, 3.98107417e-04,\n",
       "        4.89124942e-04, 4.62310777e-07, 3.97691607e-04, 4.88636039e-04]),\n",
       " 'param_C': masked_array(data=[1e-05, 0.0001, 0.001, 0.01, 0.1, 1, 10, 100],\n",
       "              mask=[False, False, False, False, False, False, False, False],\n",
       "        fill_value='?',\n",
       "             dtype=object),\n",
       " 'params': [{'C': 1e-05},\n",
       "  {'C': 0.0001},\n",
       "  {'C': 0.001},\n",
       "  {'C': 0.01},\n",
       "  {'C': 0.1},\n",
       "  {'C': 1},\n",
       "  {'C': 10},\n",
       "  {'C': 100}],\n",
       " 'split0_test_score': array([0.88724294, 0.89525967, 0.90240502, 0.9032764 , 0.90310213,\n",
       "        0.90310213, 0.90310213, 0.90310213]),\n",
       " 'split1_test_score': array([0.88739759, 0.89593864, 0.8997734 , 0.90604846, 0.90691999,\n",
       "        0.90691999, 0.90691999, 0.90691999]),\n",
       " 'split2_test_score': array([0.88737796, 0.89661785, 0.90603208, 0.9084728 , 0.9084728 ,\n",
       "        0.9084728 , 0.9084728 , 0.9084728 ]),\n",
       " 'split3_test_score': array([0.88737796, 0.89748954, 0.90341702, 0.90742678, 0.9070781 ,\n",
       "        0.9070781 , 0.9070781 , 0.9070781 ]),\n",
       " 'split4_test_score': array([0.88737796, 0.90027894, 0.90620642, 0.90533473, 0.90585774,\n",
       "        0.90585774, 0.90585774, 0.9056834 ]),\n",
       " 'mean_test_score': array([0.88735488, 0.89711676, 0.90356657, 0.90611163, 0.90628595,\n",
       "        0.90628595, 0.90628595, 0.90625109]),\n",
       " 'std_test_score': array([5.64912225e-05, 1.74492638e-03, 2.40029918e-03, 1.78616737e-03,\n",
       "        1.79632175e-03, 1.79632175e-03, 1.79632175e-03, 1.80596033e-03]),\n",
       " 'rank_test_score': array([8, 7, 6, 5, 1, 1, 1, 4]),\n",
       " 'split0_train_score': array([0.88738287, 0.89753759, 0.9037263 , 0.90686424, 0.9074744 ,\n",
       "        0.9074744 , 0.9074744 , 0.9074744 ]),\n",
       " 'split1_train_score': array([0.8873442 , 0.89815218, 0.9041663 , 0.90604027, 0.90599669,\n",
       "        0.90621459, 0.90621459, 0.90621459]),\n",
       " 'split2_train_score': array([0.88734911, 0.89719789, 0.90212228, 0.90573931, 0.90573931,\n",
       "        0.905565  , 0.90552142, 0.90552142]),\n",
       " 'split3_train_score': array([0.88734911, 0.89663137, 0.90399617, 0.90656731, 0.90665446,\n",
       "        0.90665446, 0.90665446, 0.90665446]),\n",
       " 'split4_train_score': array([0.88734911, 0.8963699 , 0.9029067 , 0.90682878, 0.90730814,\n",
       "        0.90735172, 0.90735172, 0.90735172]),\n",
       " 'mean_train_score': array([0.88735488, 0.89717779, 0.90338355, 0.90640798, 0.9066346 ,\n",
       "        0.90665203, 0.90664332, 0.90664332]),\n",
       " 'std_train_score': array([1.41248096e-05, 6.37271137e-04, 7.64678302e-04, 4.45636450e-04,\n",
       "        6.88154823e-04, 7.12580403e-04, 7.25963731e-04, 7.25963731e-04])}"
      ]
     },
     "execution_count": 179,
     "metadata": {},
     "output_type": "execute_result"
    }
   ],
   "source": [
    "grid_search.cv_results_"
   ]
  },
  {
   "cell_type": "code",
   "execution_count": 180,
   "metadata": {},
   "outputs": [
    {
     "data": {
      "text/plain": [
       "{'C': 0.1}"
      ]
     },
     "execution_count": 180,
     "metadata": {},
     "output_type": "execute_result"
    }
   ],
   "source": [
    "grid_search.best_params_"
   ]
  },
  {
   "cell_type": "code",
   "execution_count": 181,
   "metadata": {},
   "outputs": [
    {
     "data": {
      "text/plain": [
       "LogisticRegression(C=0.1, class_weight=None, dual=False, fit_intercept=True,\n",
       "                   intercept_scaling=1, l1_ratio=None, max_iter=100,\n",
       "                   multi_class='multinomial', n_jobs=None, penalty='l2',\n",
       "                   random_state=None, solver='lbfgs', tol=0.0001, verbose=0,\n",
       "                   warm_start=False)"
      ]
     },
     "execution_count": 181,
     "metadata": {},
     "output_type": "execute_result"
    }
   ],
   "source": [
    "lreg_clf_pca = LogisticRegression(multi_class='multinomial', solver='lbfgs',C=0.1)\n",
    "lreg_clf_pca.fit(X_train_pca, y_train)"
   ]
  },
  {
   "cell_type": "code",
   "execution_count": 182,
   "metadata": {},
   "outputs": [
    {
     "name": "stdout",
     "output_type": "stream",
     "text": [
      "Train score: 0.9064951364919988\n",
      "Test score: 0.9150805270863837\n"
     ]
    },
    {
     "data": {
      "text/plain": [
       "array([[8371,  164],\n",
       "       [ 648,  379]], dtype=int64)"
      ]
     },
     "execution_count": 182,
     "metadata": {},
     "output_type": "execute_result"
    }
   ],
   "source": [
    "y_pred_train = lreg_clf_pca.predict(X_train_pca)\n",
    "y_pred_test = lreg_clf_pca.predict(X_test_pca)\n",
    "\n",
    "logreg_pca_train_score = accuracy_score(y_train, y_pred_train)\n",
    "logreg_pca_test_score = accuracy_score(y_test, y_pred_test)\n",
    "\n",
    "print('Train score: {}'\n",
    "      .format(logreg_pca_train_score))\n",
    "print('Test score: {}'\n",
    "      .format(logreg_pca_test_score))\n",
    "\n",
    "metrics.confusion_matrix(y_test, y_pred_test)\n"
   ]
  },
  {
   "cell_type": "markdown",
   "metadata": {},
   "source": [
    "# Linear SVM with PCA"
   ]
  },
  {
   "cell_type": "code",
   "execution_count": 183,
   "metadata": {},
   "outputs": [
    {
     "name": "stderr",
     "output_type": "stream",
     "text": [
      "C:\\Users\\srira\\Anaconda3\\lib\\site-packages\\sklearn\\svm\\base.py:929: ConvergenceWarning: Liblinear failed to converge, increase the number of iterations.\n",
      "  \"the number of iterations.\", ConvergenceWarning)\n",
      "C:\\Users\\srira\\Anaconda3\\lib\\site-packages\\sklearn\\svm\\base.py:929: ConvergenceWarning: Liblinear failed to converge, increase the number of iterations.\n",
      "  \"the number of iterations.\", ConvergenceWarning)\n",
      "C:\\Users\\srira\\Anaconda3\\lib\\site-packages\\sklearn\\svm\\base.py:929: ConvergenceWarning: Liblinear failed to converge, increase the number of iterations.\n",
      "  \"the number of iterations.\", ConvergenceWarning)\n",
      "C:\\Users\\srira\\Anaconda3\\lib\\site-packages\\sklearn\\svm\\base.py:929: ConvergenceWarning: Liblinear failed to converge, increase the number of iterations.\n",
      "  \"the number of iterations.\", ConvergenceWarning)\n",
      "C:\\Users\\srira\\Anaconda3\\lib\\site-packages\\sklearn\\svm\\base.py:929: ConvergenceWarning: Liblinear failed to converge, increase the number of iterations.\n",
      "  \"the number of iterations.\", ConvergenceWarning)\n",
      "C:\\Users\\srira\\Anaconda3\\lib\\site-packages\\sklearn\\svm\\base.py:929: ConvergenceWarning: Liblinear failed to converge, increase the number of iterations.\n",
      "  \"the number of iterations.\", ConvergenceWarning)\n",
      "C:\\Users\\srira\\Anaconda3\\lib\\site-packages\\sklearn\\svm\\base.py:929: ConvergenceWarning: Liblinear failed to converge, increase the number of iterations.\n",
      "  \"the number of iterations.\", ConvergenceWarning)\n",
      "C:\\Users\\srira\\Anaconda3\\lib\\site-packages\\sklearn\\svm\\base.py:929: ConvergenceWarning: Liblinear failed to converge, increase the number of iterations.\n",
      "  \"the number of iterations.\", ConvergenceWarning)\n",
      "C:\\Users\\srira\\Anaconda3\\lib\\site-packages\\sklearn\\svm\\base.py:929: ConvergenceWarning: Liblinear failed to converge, increase the number of iterations.\n",
      "  \"the number of iterations.\", ConvergenceWarning)\n",
      "C:\\Users\\srira\\Anaconda3\\lib\\site-packages\\sklearn\\svm\\base.py:929: ConvergenceWarning: Liblinear failed to converge, increase the number of iterations.\n",
      "  \"the number of iterations.\", ConvergenceWarning)\n",
      "C:\\Users\\srira\\Anaconda3\\lib\\site-packages\\sklearn\\svm\\base.py:929: ConvergenceWarning: Liblinear failed to converge, increase the number of iterations.\n",
      "  \"the number of iterations.\", ConvergenceWarning)\n",
      "C:\\Users\\srira\\Anaconda3\\lib\\site-packages\\sklearn\\svm\\base.py:929: ConvergenceWarning: Liblinear failed to converge, increase the number of iterations.\n",
      "  \"the number of iterations.\", ConvergenceWarning)\n",
      "C:\\Users\\srira\\Anaconda3\\lib\\site-packages\\sklearn\\svm\\base.py:929: ConvergenceWarning: Liblinear failed to converge, increase the number of iterations.\n",
      "  \"the number of iterations.\", ConvergenceWarning)\n",
      "C:\\Users\\srira\\Anaconda3\\lib\\site-packages\\sklearn\\svm\\base.py:929: ConvergenceWarning: Liblinear failed to converge, increase the number of iterations.\n",
      "  \"the number of iterations.\", ConvergenceWarning)\n",
      "C:\\Users\\srira\\Anaconda3\\lib\\site-packages\\sklearn\\svm\\base.py:929: ConvergenceWarning: Liblinear failed to converge, increase the number of iterations.\n",
      "  \"the number of iterations.\", ConvergenceWarning)\n",
      "C:\\Users\\srira\\Anaconda3\\lib\\site-packages\\sklearn\\svm\\base.py:929: ConvergenceWarning: Liblinear failed to converge, increase the number of iterations.\n",
      "  \"the number of iterations.\", ConvergenceWarning)\n",
      "C:\\Users\\srira\\Anaconda3\\lib\\site-packages\\sklearn\\svm\\base.py:929: ConvergenceWarning: Liblinear failed to converge, increase the number of iterations.\n",
      "  \"the number of iterations.\", ConvergenceWarning)\n",
      "C:\\Users\\srira\\Anaconda3\\lib\\site-packages\\sklearn\\svm\\base.py:929: ConvergenceWarning: Liblinear failed to converge, increase the number of iterations.\n",
      "  \"the number of iterations.\", ConvergenceWarning)\n",
      "C:\\Users\\srira\\Anaconda3\\lib\\site-packages\\sklearn\\svm\\base.py:929: ConvergenceWarning: Liblinear failed to converge, increase the number of iterations.\n",
      "  \"the number of iterations.\", ConvergenceWarning)\n",
      "C:\\Users\\srira\\Anaconda3\\lib\\site-packages\\sklearn\\svm\\base.py:929: ConvergenceWarning: Liblinear failed to converge, increase the number of iterations.\n",
      "  \"the number of iterations.\", ConvergenceWarning)\n",
      "C:\\Users\\srira\\Anaconda3\\lib\\site-packages\\sklearn\\svm\\base.py:929: ConvergenceWarning: Liblinear failed to converge, increase the number of iterations.\n",
      "  \"the number of iterations.\", ConvergenceWarning)\n",
      "C:\\Users\\srira\\Anaconda3\\lib\\site-packages\\sklearn\\svm\\base.py:929: ConvergenceWarning: Liblinear failed to converge, increase the number of iterations.\n",
      "  \"the number of iterations.\", ConvergenceWarning)\n",
      "C:\\Users\\srira\\Anaconda3\\lib\\site-packages\\sklearn\\svm\\base.py:929: ConvergenceWarning: Liblinear failed to converge, increase the number of iterations.\n",
      "  \"the number of iterations.\", ConvergenceWarning)\n",
      "C:\\Users\\srira\\Anaconda3\\lib\\site-packages\\sklearn\\svm\\base.py:929: ConvergenceWarning: Liblinear failed to converge, increase the number of iterations.\n",
      "  \"the number of iterations.\", ConvergenceWarning)\n",
      "C:\\Users\\srira\\Anaconda3\\lib\\site-packages\\sklearn\\svm\\base.py:929: ConvergenceWarning: Liblinear failed to converge, increase the number of iterations.\n",
      "  \"the number of iterations.\", ConvergenceWarning)\n",
      "C:\\Users\\srira\\Anaconda3\\lib\\site-packages\\sklearn\\svm\\base.py:929: ConvergenceWarning: Liblinear failed to converge, increase the number of iterations.\n",
      "  \"the number of iterations.\", ConvergenceWarning)\n"
     ]
    },
    {
     "data": {
      "text/plain": [
       "GridSearchCV(cv=StratifiedKFold(n_splits=5, random_state=None, shuffle=False),\n",
       "             error_score='raise-deprecating',\n",
       "             estimator=LinearSVC(C=1.0, class_weight=None, dual=True,\n",
       "                                 fit_intercept=True, intercept_scaling=1,\n",
       "                                 loss='squared_hinge', max_iter=1000,\n",
       "                                 multi_class='crammer_singer', penalty='l2',\n",
       "                                 random_state=None, tol=0.0001, verbose=0),\n",
       "             iid='warn', n_jobs=None,\n",
       "             param_grid={'C': [1e-05, 0.0001, 0.001, 0.01, 0.1, 1, 10, 100]},\n",
       "             pre_dispatch='2*n_jobs', refit=True, return_train_score=True,\n",
       "             scoring='accuracy', verbose=0)"
      ]
     },
     "execution_count": 183,
     "metadata": {},
     "output_type": "execute_result"
    }
   ],
   "source": [
    "from sklearn.svm import LinearSVC\n",
    "\n",
    "LSVC_clf_pca = LinearSVC(multi_class='crammer_singer')\n",
    "\n",
    "param_grid = {'C': [0.00001,0.0001,0.001,0.01,0.1,1,10,100]}\n",
    "\n",
    "grid_search = GridSearchCV(LSVC_clf_pca, param_grid, scoring = 'accuracy',cv=kFold, return_train_score=True)\n",
    "grid_search.fit(X_train_pca,y_train)"
   ]
  },
  {
   "cell_type": "code",
   "execution_count": 184,
   "metadata": {
    "scrolled": true
   },
   "outputs": [
    {
     "data": {
      "text/plain": [
       "{'mean_fit_time': array([4.28923130e-02, 1.86308813e-01, 1.56182909e-01, 1.17290449e-01,\n",
       "        3.59850693e-01, 1.83911047e+00, 1.04172618e+01, 1.19117671e+02]),\n",
       " 'std_fit_time': array([7.70738028e-03, 1.92279144e-02, 1.97018219e-02, 2.65864506e-02,\n",
       "        4.38347840e-02, 1.01919771e-01, 8.13497329e-01, 5.75307389e+01]),\n",
       " 'mean_score_time': array([0.0009975 , 0.00079112, 0.00079818, 0.00099115, 0.00119448,\n",
       "        0.00138192, 0.00089245, 0.00157709]),\n",
       " 'std_score_time': array([3.50402318e-07, 3.95778616e-04, 3.99088956e-04, 1.24237815e-05,\n",
       "        3.84057980e-04, 4.85256009e-04, 1.44661848e-04, 8.11814336e-04]),\n",
       " 'param_C': masked_array(data=[1e-05, 0.0001, 0.001, 0.01, 0.1, 1, 10, 100],\n",
       "              mask=[False, False, False, False, False, False, False, False],\n",
       "        fill_value='?',\n",
       "             dtype=object),\n",
       " 'params': [{'C': 1e-05},\n",
       "  {'C': 0.0001},\n",
       "  {'C': 0.001},\n",
       "  {'C': 0.01},\n",
       "  {'C': 0.1},\n",
       "  {'C': 1},\n",
       "  {'C': 10},\n",
       "  {'C': 100}],\n",
       " 'split0_test_score': array([0.83687696, 0.8980481 , 0.8980481 , 0.8980481 , 0.8980481 ,\n",
       "        0.8980481 , 0.8980481 , 0.8980481 ]),\n",
       " 'split1_test_score': array([0.82813317, 0.89262681, 0.89262681, 0.89262681, 0.89262681,\n",
       "        0.89262681, 0.89262681, 0.89262681]),\n",
       " 'split2_test_score': array([0.84414226, 0.89714086, 0.89714086, 0.89714086, 0.89714086,\n",
       "        0.89714086, 0.89714086, 0.89714086]),\n",
       " 'split3_test_score': array([0.83141562, 0.89853556, 0.89853556, 0.8987099 , 0.8987099 ,\n",
       "        0.89888424, 0.89888424, 0.89853556]),\n",
       " 'split4_test_score': array([0.82845188, 0.89818689, 0.89818689, 0.89818689, 0.89836123,\n",
       "        0.89836123, 0.89836123, 0.89818689]),\n",
       " 'mean_test_score': array([0.833804  , 0.89690758, 0.89690758, 0.89694244, 0.8969773 ,\n",
       "        0.89701217, 0.89701217, 0.89690758]),\n",
       " 'std_test_score': array([0.00604682, 0.00218944, 0.00218944, 0.00221631, 0.00223689,\n",
       "        0.00226481, 0.00226481, 0.00218944]),\n",
       " 'rank_test_score': array([8, 5, 5, 4, 3, 1, 1, 5]),\n",
       " 'split0_train_score': array([0.83303552, 0.89662236, 0.89666594, 0.89675311, 0.89697102,\n",
       "        0.89692744, 0.89692744, 0.89675311]),\n",
       " 'split1_train_score': array([0.83587553, 0.89797786, 0.89802144, 0.89806502, 0.8981086 ,\n",
       "        0.8981086 , 0.8981086 , 0.89797786]),\n",
       " 'split2_train_score': array([0.83753868, 0.89684926, 0.89689284, 0.89693642, 0.89698   ,\n",
       "        0.89698   , 0.89698   , 0.89684926]),\n",
       " 'split3_train_score': array([0.83270144, 0.89650063, 0.89654421, 0.89658779, 0.89667495,\n",
       "        0.89671853, 0.89671853, 0.89654421]),\n",
       " 'split4_train_score': array([0.83152482, 0.89658779, 0.89658779, 0.89663137, 0.89663137,\n",
       "        0.89663137, 0.89663137, 0.89658779]),\n",
       " 'mean_train_score': array([0.8341352 , 0.89690758, 0.89694244, 0.89699474, 0.89707319,\n",
       "        0.89707319, 0.89707319, 0.89694245]),\n",
       " 'std_train_score': array([0.00222223, 0.00054738, 0.00055272, 0.00054862, 0.00053759,\n",
       "        0.00053348, 0.00053348, 0.00052934])}"
      ]
     },
     "execution_count": 184,
     "metadata": {},
     "output_type": "execute_result"
    }
   ],
   "source": [
    "grid_search.cv_results_"
   ]
  },
  {
   "cell_type": "code",
   "execution_count": 185,
   "metadata": {},
   "outputs": [
    {
     "name": "stdout",
     "output_type": "stream",
     "text": [
      "{'C': 1}\n",
      "0.8970121674859673\n"
     ]
    }
   ],
   "source": [
    "print(grid_search.best_params_)\n",
    "print(grid_search.best_score_)"
   ]
  },
  {
   "cell_type": "code",
   "execution_count": 186,
   "metadata": {},
   "outputs": [
    {
     "name": "stderr",
     "output_type": "stream",
     "text": [
      "C:\\Users\\srira\\Anaconda3\\lib\\site-packages\\sklearn\\svm\\base.py:929: ConvergenceWarning: Liblinear failed to converge, increase the number of iterations.\n",
      "  \"the number of iterations.\", ConvergenceWarning)\n"
     ]
    },
    {
     "data": {
      "text/plain": [
       "LinearSVC(C=1, class_weight=None, dual=True, fit_intercept=True,\n",
       "          intercept_scaling=1, loss='squared_hinge', max_iter=1000,\n",
       "          multi_class='crammer_singer', penalty='l2', random_state=None,\n",
       "          tol=0.0001, verbose=0)"
      ]
     },
     "execution_count": 186,
     "metadata": {},
     "output_type": "execute_result"
    }
   ],
   "source": [
    "LSVC_clf_pca = LinearSVC(multi_class='crammer_singer', C=1)\n",
    "LSVC_clf_pca.fit(X_train_pca, y_train)"
   ]
  },
  {
   "cell_type": "code",
   "execution_count": 187,
   "metadata": {},
   "outputs": [
    {
     "name": "stdout",
     "output_type": "stream",
     "text": [
      "Train score: 0.8970121674859673\n",
      "Test score: 0.9021125287596737\n"
     ]
    },
    {
     "data": {
      "text/plain": [
       "array([[8417,  118],\n",
       "       [ 818,  209]], dtype=int64)"
      ]
     },
     "execution_count": 187,
     "metadata": {},
     "output_type": "execute_result"
    }
   ],
   "source": [
    "y_pred_train = LSVC_clf_pca.predict(X_train_pca)\n",
    "y_pred_test = LSVC_clf_pca.predict(X_test_pca)\n",
    "\n",
    "LSVC_clf_pca_train_score = accuracy_score(y_train, y_pred_train)\n",
    "LSVC_clf_pca_test_score = accuracy_score(y_test, y_pred_test)\n",
    "\n",
    "print('Train score: {}'\n",
    "      .format(LSVC_clf_pca_train_score))\n",
    "print('Test score: {}'\n",
    "      .format(LSVC_clf_pca_test_score))\n",
    "\n",
    "metrics.confusion_matrix(y_test, y_pred_test)"
   ]
  },
  {
   "cell_type": "markdown",
   "metadata": {},
   "source": [
    "# Kernalised SVM with PCA"
   ]
  },
  {
   "cell_type": "code",
   "execution_count": 262,
   "metadata": {},
   "outputs": [
    {
     "data": {
      "text/plain": [
       "GridSearchCV(cv=StratifiedKFold(n_splits=5, random_state=None, shuffle=False),\n",
       "             error_score='raise-deprecating',\n",
       "             estimator=SVC(C=1.0, cache_size=200, class_weight=None, coef0=0.0,\n",
       "                           decision_function_shape='ovr', degree=3,\n",
       "                           gamma='auto_deprecated', kernel='rbf', max_iter=-1,\n",
       "                           probability=False, random_state=None, shrinking=True,\n",
       "                           tol=0.001, verbose=False),\n",
       "             iid='warn', n_jobs=None,\n",
       "             param_grid={'C': [0.01, 0.1, 1], 'gamma': [0.01, 0.1]},\n",
       "             pre_dispatch='2*n_jobs', refit=True, return_train_score=True,\n",
       "             scoring='accuracy', verbose=0)"
      ]
     },
     "execution_count": 262,
     "metadata": {},
     "output_type": "execute_result"
    }
   ],
   "source": [
    "from sklearn import svm\n",
    "\n",
    "KSVC_clf_pca = svm.SVC(kernel='rbf')\n",
    "\n",
    "param_grid = {'C': [0.01,0.1,1],\n",
    "          'gamma': [0.01,0.1]}\n",
    "\n",
    "grid_search = GridSearchCV(KSVC_clf_pca, param_grid, scoring = 'accuracy',cv=kFold, return_train_score=True)\n",
    "grid_search.fit(X_train_pca,y_train)"
   ]
  },
  {
   "cell_type": "code",
   "execution_count": 263,
   "metadata": {},
   "outputs": [
    {
     "data": {
      "text/plain": [
       "{'mean_fit_time': array([3.52497101, 3.77350979, 3.44038658, 4.03120971, 3.75474968,\n",
       "        4.07946825]),\n",
       " 'std_fit_time': array([0.09475404, 0.02335474, 0.07952559, 0.08463396, 0.0598479 ,\n",
       "        0.07240319]),\n",
       " 'mean_score_time': array([0.56170454, 0.61098094, 0.53778439, 0.62654729, 0.53039751,\n",
       "        0.58285995]),\n",
       " 'std_score_time': array([0.00622743, 0.0029208 , 0.00582126, 0.01721064, 0.0031065 ,\n",
       "        0.00572922]),\n",
       " 'param_C': masked_array(data=[0.01, 0.01, 0.1, 0.1, 1, 1],\n",
       "              mask=[False, False, False, False, False, False],\n",
       "        fill_value='?',\n",
       "             dtype=object),\n",
       " 'param_gamma': masked_array(data=[0.01, 0.1, 0.01, 0.1, 0.01, 0.1],\n",
       "              mask=[False, False, False, False, False, False],\n",
       "        fill_value='?',\n",
       "             dtype=object),\n",
       " 'params': [{'C': 0.01, 'gamma': 0.01},\n",
       "  {'C': 0.01, 'gamma': 0.1},\n",
       "  {'C': 0.1, 'gamma': 0.01},\n",
       "  {'C': 0.1, 'gamma': 0.1},\n",
       "  {'C': 1, 'gamma': 0.01},\n",
       "  {'C': 1, 'gamma': 0.1}],\n",
       " 'split0_test_score': array([0.89839665, 0.88724294, 0.89857093, 0.89944231, 0.9003137 ,\n",
       "        0.90310213]),\n",
       " 'split1_test_score': array([0.89454419, 0.88739759, 0.89384696, 0.89646157, 0.89663587,\n",
       "        0.90343385]),\n",
       " 'split2_test_score': array([0.89714086, 0.88737796, 0.89783821, 0.89696653, 0.89975593,\n",
       "        0.90324268]),\n",
       " 'split3_test_score': array([0.89923291, 0.88737796, 0.89801255, 0.9001046 , 0.90062762,\n",
       "        0.90725244]),\n",
       " 'split4_test_score': array([0.89923291, 0.88737796, 0.89888424, 0.9014993 , 0.90324268,\n",
       "        0.90638075]),\n",
       " 'mean_test_score': array([0.89770944, 0.88735488, 0.89743053, 0.89889482, 0.90011505,\n",
       "        0.90468222]),\n",
       " 'std_test_score': array([1.75821583e-03, 5.64912225e-05, 1.83093789e-03, 1.90708835e-03,\n",
       "        2.11270798e-03, 1.76736882e-03]),\n",
       " 'rank_test_score': array([4, 6, 5, 3, 2, 1]),\n",
       " 'split0_train_score': array([0.89836566, 0.88738287, 0.89723251, 0.90063195, 0.90163434,\n",
       "        0.92713009]),\n",
       " 'split1_train_score': array([0.89919812, 0.8873442 , 0.89837009, 0.90142073, 0.90150789,\n",
       "        0.92464918]),\n",
       " 'split2_train_score': array([0.89937682, 0.88734911, 0.89732863, 0.90138144, 0.90111997,\n",
       "        0.92552403]),\n",
       " 'split3_train_score': array([0.89767726, 0.88734911, 0.89719789, 0.90059703, 0.90120713,\n",
       "        0.92565477]),\n",
       " 'split4_train_score': array([0.89780799, 0.88734911, 0.89715431, 0.90042271, 0.90037913,\n",
       "        0.92548045]),\n",
       " 'mean_train_score': array([0.89848517, 0.88735488, 0.89745669, 0.90089077, 0.90116969,\n",
       "        0.92568771]),\n",
       " 'std_train_score': array([6.96982035e-04, 1.41248096e-05, 4.60295104e-04, 4.22839675e-04,\n",
       "        4.37979883e-04, 8.03722912e-04])}"
      ]
     },
     "execution_count": 263,
     "metadata": {},
     "output_type": "execute_result"
    }
   ],
   "source": [
    "grid_search.cv_results_"
   ]
  },
  {
   "cell_type": "code",
   "execution_count": 264,
   "metadata": {},
   "outputs": [
    {
     "name": "stdout",
     "output_type": "stream",
     "text": [
      "{'C': 1, 'gamma': 0.1}\n",
      "0.904682215946728\n"
     ]
    }
   ],
   "source": [
    "print(grid_search.best_params_)\n",
    "print(grid_search.best_score_)"
   ]
  },
  {
   "cell_type": "code",
   "execution_count": 265,
   "metadata": {},
   "outputs": [
    {
     "data": {
      "text/plain": [
       "SVC(C=1, cache_size=200, class_weight=None, coef0=0.0,\n",
       "    decision_function_shape='ovr', degree=3, gamma=0.1, kernel='rbf',\n",
       "    max_iter=-1, probability=False, random_state=None, shrinking=True,\n",
       "    tol=0.001, verbose=False)"
      ]
     },
     "execution_count": 265,
     "metadata": {},
     "output_type": "execute_result"
    }
   ],
   "source": [
    "from sklearn import svm\n",
    "KSVC_clf_pca = svm.SVC(kernel='rbf',C=1,gamma=0.1)\n",
    "KSVC_clf_pca.fit(X_train_pca, y_train)"
   ]
  },
  {
   "cell_type": "code",
   "execution_count": 266,
   "metadata": {},
   "outputs": [
    {
     "name": "stdout",
     "output_type": "stream",
     "text": [
      "Train score: 0.9253564829341422\n",
      "Test score: 0.911315624346371\n"
     ]
    },
    {
     "data": {
      "text/plain": [
       "array([[8346,  189],\n",
       "       [ 659,  368]], dtype=int64)"
      ]
     },
     "execution_count": 266,
     "metadata": {},
     "output_type": "execute_result"
    }
   ],
   "source": [
    "y_pred_train = KSVC_clf_pca.predict(X_train_pca)\n",
    "y_pred_test = KSVC_clf_pca.predict(X_test_pca)\n",
    "\n",
    "KSVC_clf_pca_train_score = accuracy_score(y_train, y_pred_train)\n",
    "KSVC_clf_pca_test_score = accuracy_score(y_test, y_pred_test)\n",
    "\n",
    "print('Train score: {}'\n",
    "      .format(KSVC_clf_pca_train_score))\n",
    "print('Test score: {}'\n",
    "      .format(KSVC_clf_pca_test_score))\n",
    "\n",
    "metrics.confusion_matrix(y_test, y_pred_test)"
   ]
  },
  {
   "cell_type": "markdown",
   "metadata": {},
   "source": [
    "# Decision Trees with PCA"
   ]
  },
  {
   "cell_type": "code",
   "execution_count": 248,
   "metadata": {},
   "outputs": [
    {
     "data": {
      "text/plain": [
       "GridSearchCV(cv=StratifiedKFold(n_splits=5, random_state=None, shuffle=False),\n",
       "             error_score='raise-deprecating',\n",
       "             estimator=DecisionTreeClassifier(class_weight=None,\n",
       "                                              criterion='gini', max_depth=None,\n",
       "                                              max_features=None,\n",
       "                                              max_leaf_nodes=None,\n",
       "                                              min_impurity_decrease=0.0,\n",
       "                                              min_impurity_split=None,\n",
       "                                              min_samples_leaf=1,\n",
       "                                              min_samples_split=2,\n",
       "                                              min_weight_fraction_leaf=0.0,\n",
       "                                              presort=False, random_state=None,\n",
       "                                              splitter='best'),\n",
       "             iid='warn', n_jobs=None,\n",
       "             param_grid={'max_depth': [2, 3, 4, 5, 6, 10, 20]},\n",
       "             pre_dispatch='2*n_jobs', refit=True, return_train_score=True,\n",
       "             scoring='accuracy', verbose=0)"
      ]
     },
     "execution_count": 248,
     "metadata": {},
     "output_type": "execute_result"
    }
   ],
   "source": [
    "from sklearn.tree import DecisionTreeClassifier\n",
    "\n",
    "dt_clf_pca = DecisionTreeClassifier()\n",
    "param_grid = {'max_depth': [2, 3, 4, 5,6, 10, 20]}\n",
    "\n",
    "grid_search = GridSearchCV(dt_clf_pca, param_grid, scoring = 'accuracy',cv=kFold, return_train_score=True)\n",
    "grid_search.fit(X_train_pca,y_train)"
   ]
  },
  {
   "cell_type": "code",
   "execution_count": 249,
   "metadata": {},
   "outputs": [
    {
     "data": {
      "text/plain": [
       "{'mean_fit_time': array([0.06918187, 0.09578013, 0.12604938, 0.14923244, 0.17896085,\n",
       "        0.28253489, 0.38576646]),\n",
       " 'std_fit_time': array([0.00775788, 0.00223727, 0.00802621, 0.00191192, 0.00853083,\n",
       "        0.00618708, 0.01965681]),\n",
       " 'mean_score_time': array([0.0031929 , 0.00160913, 0.00078616, 0.00159111, 0.00159793,\n",
       "        0.00079899, 0.0023767 ]),\n",
       " 'std_score_time': array([0.00159664, 0.00197114, 0.00157232, 0.00194874, 0.00195706,\n",
       "        0.00159798, 0.0019407 ]),\n",
       " 'param_max_depth': masked_array(data=[2, 3, 4, 5, 6, 10, 20],\n",
       "              mask=[False, False, False, False, False, False, False],\n",
       "        fill_value='?',\n",
       "             dtype=object),\n",
       " 'params': [{'max_depth': 2},\n",
       "  {'max_depth': 3},\n",
       "  {'max_depth': 4},\n",
       "  {'max_depth': 5},\n",
       "  {'max_depth': 6},\n",
       "  {'max_depth': 10},\n",
       "  {'max_depth': 20}],\n",
       " 'split0_test_score': array([0.89735099, 0.89996514, 0.89996514, 0.89944231, 0.89769955,\n",
       "        0.89212269, 0.86842105]),\n",
       " 'split1_test_score': array([0.89419557, 0.89611295, 0.89576434, 0.89593864, 0.89524142,\n",
       "        0.89524142, 0.87606763]),\n",
       " 'split2_test_score': array([0.89679219, 0.89748954, 0.89679219, 0.89940725, 0.90132497,\n",
       "        0.89801255, 0.88092748]),\n",
       " 'split3_test_score': array([0.8987099 , 0.9001046 , 0.89975593, 0.9014993 , 0.90394003,\n",
       "        0.89243375, 0.87900976]),\n",
       " 'split4_test_score': array([0.89679219, 0.90219665, 0.90045328, 0.89853556, 0.90341702,\n",
       "        0.89696653, 0.88127615]),\n",
       " 'mean_test_score': array([0.89676812, 0.89917373, 0.89854618, 0.89896454, 0.90032423,\n",
       "        0.8949552 , 0.87713977]),\n",
       " 'std_test_score': array([0.00146489, 0.00213707, 0.00189364, 0.00179941, 0.00335755,\n",
       "        0.00236032, 0.00473569]),\n",
       " 'rank_test_score': array([5, 2, 4, 3, 1, 6, 7]),\n",
       " 'split0_train_score': array([0.89871432, 0.89993463, 0.90054478, 0.90381347, 0.91096099,\n",
       "        0.9420353 , 0.99673131]),\n",
       " 'split1_train_score': array([0.89950318, 0.90085418, 0.90172579, 0.90651965, 0.90996252,\n",
       "        0.94264796, 0.99585984]),\n",
       " 'split2_train_score': array([0.89907177, 0.90007408, 0.90138144, 0.90512921, 0.90878982,\n",
       "        0.94169172, 0.99694949]),\n",
       " 'split3_train_score': array([0.8967621 , 0.90003051, 0.90059703, 0.90342964, 0.90974855,\n",
       "        0.94208393, 0.99721096]),\n",
       " 'split4_train_score': array([0.89693642, 0.89933325, 0.9008585 , 0.9049549 , 0.91083802,\n",
       "        0.94221467, 0.99507561]),\n",
       " 'mean_train_score': array([0.89819756, 0.90004533, 0.90102151, 0.90476937, 0.91005998,\n",
       "        0.94213472, 0.99636544]),\n",
       " 'std_train_score': array([0.00113022, 0.00048469, 0.00046035, 0.00108959, 0.00079208,\n",
       "        0.00030936, 0.00078857])}"
      ]
     },
     "execution_count": 249,
     "metadata": {},
     "output_type": "execute_result"
    }
   ],
   "source": [
    "grid_search.cv_results_"
   ]
  },
  {
   "cell_type": "code",
   "execution_count": 250,
   "metadata": {},
   "outputs": [
    {
     "name": "stdout",
     "output_type": "stream",
     "text": [
      "{'max_depth': 6}\n",
      "0.9003242338667503\n"
     ]
    }
   ],
   "source": [
    "print(grid_search.best_params_)\n",
    "print(grid_search.best_score_)"
   ]
  },
  {
   "cell_type": "code",
   "execution_count": 251,
   "metadata": {},
   "outputs": [
    {
     "data": {
      "text/plain": [
       "DecisionTreeClassifier(class_weight=None, criterion='gini', max_depth=6,\n",
       "                       max_features=None, max_leaf_nodes=None,\n",
       "                       min_impurity_decrease=0.0, min_impurity_split=None,\n",
       "                       min_samples_leaf=1, min_samples_split=2,\n",
       "                       min_weight_fraction_leaf=0.0, presort=False,\n",
       "                       random_state=None, splitter='best')"
      ]
     },
     "execution_count": 251,
     "metadata": {},
     "output_type": "execute_result"
    }
   ],
   "source": [
    "dt_clf_pca = DecisionTreeClassifier(max_depth=6)\n",
    "dt_clf_pca.fit(X_train_pca, y_train)"
   ]
  },
  {
   "cell_type": "code",
   "execution_count": 252,
   "metadata": {
    "scrolled": true
   },
   "outputs": [
    {
     "name": "stdout",
     "output_type": "stream",
     "text": [
      "Train score: 0.909563155876303\n",
      "Test score: 0.9035766576030119\n"
     ]
    }
   ],
   "source": [
    "y_pred_train = dt_clf_pca.predict(X_train_pca)\n",
    "y_pred_test = dt_clf_pca.predict(X_test_pca)\n",
    "\n",
    "dt_clf_pca_train_score = accuracy_score(y_train, y_pred_train)\n",
    "dt_clf_pca_test_score = accuracy_score(y_test, y_pred_test)\n",
    "\n",
    "print('Train score: {}'\n",
    "      .format(dt_clf_pca_train_score))\n",
    "print('Test score: {}'\n",
    "      .format(dt_clf_pca_test_score))\n",
    "\n",
    "metrics.confusion_matrix(y_test, y_pred_test)\n",
    "\n",
    "y_scores = dt_clf_pca.predict_proba(X_test_pca)\n",
    "fpr_dt_pca, tpr_dt_pca, threshold_dt_pca = roc_curve(y_test, y_scores[:,1])\n",
    "roc_auc_dt_pca = auc(fpr_dt_pca, tpr_dt_pca)"
   ]
  },
  {
   "cell_type": "markdown",
   "metadata": {},
   "source": [
    "# Random Forest with PCA"
   ]
  },
  {
   "cell_type": "code",
   "execution_count": 253,
   "metadata": {},
   "outputs": [],
   "source": [
    "from sklearn.metrics import roc_auc_score, roc_curve, auc"
   ]
  },
  {
   "cell_type": "code",
   "execution_count": 255,
   "metadata": {},
   "outputs": [
    {
     "data": {
      "text/plain": [
       "GridSearchCV(cv=StratifiedKFold(n_splits=5, random_state=None, shuffle=False),\n",
       "             error_score='raise-deprecating',\n",
       "             estimator=RandomForestClassifier(bootstrap=True, class_weight=None,\n",
       "                                              criterion='gini', max_depth=None,\n",
       "                                              max_features='auto',\n",
       "                                              max_leaf_nodes=None,\n",
       "                                              min_impurity_decrease=0.0,\n",
       "                                              min_impurity_split=None,\n",
       "                                              min_samples_leaf=1,\n",
       "                                              min_samples_split=2,\n",
       "                                              min_weight_fraction_leaf=0.0,\n",
       "                                              n_estimators=300, n_jobs=-1,\n",
       "                                              oob_score=False, random_state=10,\n",
       "                                              verbose=0, warm_start=False),\n",
       "             iid='warn', n_jobs=None,\n",
       "             param_grid={'max_depth': [6, 8, 10, 12, 14],\n",
       "                         'max_features': [5, 10, 15],\n",
       "                         'max_leaf_nodes': [20, 22, 30, 50]},\n",
       "             pre_dispatch='2*n_jobs', refit=True, return_train_score=True,\n",
       "             scoring='accuracy', verbose=0)"
      ]
     },
     "execution_count": 255,
     "metadata": {},
     "output_type": "execute_result"
    }
   ],
   "source": [
    "from sklearn.ensemble import RandomForestClassifier\n",
    "rf_clf_pca = RandomForestClassifier(n_estimators=300, criterion='gini',n_jobs= -1,random_state=10)\n",
    "\n",
    "param_grid = {'max_features': [5,10,15],\n",
    "          'max_depth': [6,8,10,12,14],\n",
    "           'max_leaf_nodes':[20,22,30,50]}\n",
    "\n",
    "grid_search = GridSearchCV(rf_clf_pca, param_grid, scoring = 'accuracy',cv=kFold, return_train_score=True)\n",
    "grid_search.fit(X_train_pca,y_train)"
   ]
  },
  {
   "cell_type": "code",
   "execution_count": 256,
   "metadata": {},
   "outputs": [
    {
     "data": {
      "text/plain": [
       "{'mean_fit_time': array([ 2.75580339,  2.46614819,  2.65014906,  2.93179493,  5.07318559,\n",
       "         5.13800745,  5.49685354,  5.9435926 ,  8.21705503,  8.61624308,\n",
       "         9.79580531, 10.7797451 ,  3.68133054,  3.70489392,  3.94176526,\n",
       "         4.21479249,  6.58657398,  6.64714909,  7.02573848,  7.48703036,\n",
       "         9.45621743,  9.70359588, 10.31396203, 11.20254931,  3.65192013,\n",
       "         3.69133115,  3.93788638,  4.26223369,  6.49627972,  7.31261487,\n",
       "         7.00372987,  7.51746173,  9.53432121,  9.76874833, 10.44025679,\n",
       "        11.44160409,  3.70245028,  3.74865031,  3.33359814,  3.22655406,\n",
       "         5.03626566,  5.20197048,  5.67392335,  6.15955787,  7.99586983,\n",
       "         8.47692757,  9.74772282, 11.10851789,  3.61734977,  3.78639021,\n",
       "         3.91000776,  4.28162107,  6.45916042,  6.5637291 ,  6.93578525,\n",
       "         7.49428573,  9.48685126,  9.7752562 ,  7.74069695,  8.6944119 ]),\n",
       " 'std_fit_time': array([0.70717465, 0.03232135, 0.07861671, 0.01429641, 0.09896336,\n",
       "        0.03642007, 0.07761386, 0.039224  , 0.46636833, 0.26533374,\n",
       "        0.21211423, 0.09635387, 0.02859774, 0.05560414, 0.02789958,\n",
       "        0.0358167 , 0.08295564, 0.06507563, 0.07362397, 0.06431791,\n",
       "        0.15474449, 0.25796804, 0.11423765, 0.11181246, 0.03212419,\n",
       "        0.05414281, 0.07389059, 0.08106079, 0.10925471, 0.46873511,\n",
       "        0.13779138, 0.03216868, 0.18689297, 0.14116777, 0.22351903,\n",
       "        0.28450658, 0.04788781, 0.10081777, 0.48635788, 0.0453189 ,\n",
       "        0.09884999, 0.03944434, 0.20463808, 0.05029326, 0.2334254 ,\n",
       "        0.19482726, 0.38009283, 0.21237222, 0.05442744, 0.06694291,\n",
       "        0.04724518, 0.0882805 , 0.09084767, 0.10000342, 0.08766042,\n",
       "        0.10355672, 0.14278717, 0.17700799, 0.14942812, 0.12918021]),\n",
       " 'mean_score_time': array([0.10465736, 0.10461421, 0.1042748 , 0.1043282 , 0.10517473,\n",
       "        0.10493345, 0.10501761, 0.10481668, 0.12550254, 0.1049684 ,\n",
       "        0.12558241, 0.10523872, 0.10517721, 0.10539074, 0.10547013,\n",
       "        0.10552258, 0.10570636, 0.10564957, 0.1051125 , 0.1054841 ,\n",
       "        0.10553579, 0.10511742, 0.10533442, 0.10558829, 0.10532885,\n",
       "        0.10573812, 0.10553036, 0.10538397, 0.10595417, 0.10505309,\n",
       "        0.10553708, 0.10563922, 0.12628245, 0.1252172 , 0.12542315,\n",
       "        0.16615415, 0.10544677, 0.1053915 , 0.10477319, 0.10457182,\n",
       "        0.10423875, 0.10476594, 0.10477209, 0.10498791, 0.10471349,\n",
       "        0.10502787, 0.10547237, 0.10488105, 0.10517583, 0.10521331,\n",
       "        0.10549698, 0.10543008, 0.10532036, 0.10528355, 0.10534506,\n",
       "        0.1050488 , 0.10551519, 0.12589002, 0.10456004, 0.10473213]),\n",
       " 'std_score_time': array([0.00093363, 0.00094097, 0.00037296, 0.00050158, 0.00061547,\n",
       "        0.0010832 , 0.00069034, 0.00054873, 0.04097239, 0.00060055,\n",
       "        0.0403284 , 0.00027761, 0.00038681, 0.000675  , 0.00072358,\n",
       "        0.00056837, 0.00057038, 0.00052501, 0.00027619, 0.00057526,\n",
       "        0.00022837, 0.00096299, 0.00064363, 0.0006671 , 0.000374  ,\n",
       "        0.0008619 , 0.00044124, 0.00058058, 0.00051608, 0.00031512,\n",
       "        0.00062535, 0.00038993, 0.04082803, 0.04080787, 0.04067789,\n",
       "        0.04975507, 0.00048752, 0.0005621 , 0.0004192 , 0.00039648,\n",
       "        0.00082431, 0.00050152, 0.00092895, 0.00051404, 0.00035644,\n",
       "        0.00048119, 0.00061517, 0.0006736 , 0.00072363, 0.00046936,\n",
       "        0.00098398, 0.00039771, 0.00118573, 0.00050927, 0.00052747,\n",
       "        0.00059518, 0.00075712, 0.04078234, 0.00063292, 0.00062693]),\n",
       " 'param_max_depth': masked_array(data=[6, 6, 6, 6, 6, 6, 6, 6, 6, 6, 6, 6, 8, 8, 8, 8, 8, 8,\n",
       "                    8, 8, 8, 8, 8, 8, 10, 10, 10, 10, 10, 10, 10, 10, 10,\n",
       "                    10, 10, 10, 12, 12, 12, 12, 12, 12, 12, 12, 12, 12, 12,\n",
       "                    12, 14, 14, 14, 14, 14, 14, 14, 14, 14, 14, 14, 14],\n",
       "              mask=[False, False, False, False, False, False, False, False,\n",
       "                    False, False, False, False, False, False, False, False,\n",
       "                    False, False, False, False, False, False, False, False,\n",
       "                    False, False, False, False, False, False, False, False,\n",
       "                    False, False, False, False, False, False, False, False,\n",
       "                    False, False, False, False, False, False, False, False,\n",
       "                    False, False, False, False, False, False, False, False,\n",
       "                    False, False, False, False],\n",
       "        fill_value='?',\n",
       "             dtype=object),\n",
       " 'param_max_features': masked_array(data=[5, 5, 5, 5, 10, 10, 10, 10, 15, 15, 15, 15, 5, 5, 5, 5,\n",
       "                    10, 10, 10, 10, 15, 15, 15, 15, 5, 5, 5, 5, 10, 10, 10,\n",
       "                    10, 15, 15, 15, 15, 5, 5, 5, 5, 10, 10, 10, 10, 15, 15,\n",
       "                    15, 15, 5, 5, 5, 5, 10, 10, 10, 10, 15, 15, 15, 15],\n",
       "              mask=[False, False, False, False, False, False, False, False,\n",
       "                    False, False, False, False, False, False, False, False,\n",
       "                    False, False, False, False, False, False, False, False,\n",
       "                    False, False, False, False, False, False, False, False,\n",
       "                    False, False, False, False, False, False, False, False,\n",
       "                    False, False, False, False, False, False, False, False,\n",
       "                    False, False, False, False, False, False, False, False,\n",
       "                    False, False, False, False],\n",
       "        fill_value='?',\n",
       "             dtype=object),\n",
       " 'param_max_leaf_nodes': masked_array(data=[20, 22, 30, 50, 20, 22, 30, 50, 20, 22, 30, 50, 20, 22,\n",
       "                    30, 50, 20, 22, 30, 50, 20, 22, 30, 50, 20, 22, 30, 50,\n",
       "                    20, 22, 30, 50, 20, 22, 30, 50, 20, 22, 30, 50, 20, 22,\n",
       "                    30, 50, 20, 22, 30, 50, 20, 22, 30, 50, 20, 22, 30, 50,\n",
       "                    20, 22, 30, 50],\n",
       "              mask=[False, False, False, False, False, False, False, False,\n",
       "                    False, False, False, False, False, False, False, False,\n",
       "                    False, False, False, False, False, False, False, False,\n",
       "                    False, False, False, False, False, False, False, False,\n",
       "                    False, False, False, False, False, False, False, False,\n",
       "                    False, False, False, False, False, False, False, False,\n",
       "                    False, False, False, False, False, False, False, False,\n",
       "                    False, False, False, False],\n",
       "        fill_value='?',\n",
       "             dtype=object),\n",
       " 'params': [{'max_depth': 6, 'max_features': 5, 'max_leaf_nodes': 20},\n",
       "  {'max_depth': 6, 'max_features': 5, 'max_leaf_nodes': 22},\n",
       "  {'max_depth': 6, 'max_features': 5, 'max_leaf_nodes': 30},\n",
       "  {'max_depth': 6, 'max_features': 5, 'max_leaf_nodes': 50},\n",
       "  {'max_depth': 6, 'max_features': 10, 'max_leaf_nodes': 20},\n",
       "  {'max_depth': 6, 'max_features': 10, 'max_leaf_nodes': 22},\n",
       "  {'max_depth': 6, 'max_features': 10, 'max_leaf_nodes': 30},\n",
       "  {'max_depth': 6, 'max_features': 10, 'max_leaf_nodes': 50},\n",
       "  {'max_depth': 6, 'max_features': 15, 'max_leaf_nodes': 20},\n",
       "  {'max_depth': 6, 'max_features': 15, 'max_leaf_nodes': 22},\n",
       "  {'max_depth': 6, 'max_features': 15, 'max_leaf_nodes': 30},\n",
       "  {'max_depth': 6, 'max_features': 15, 'max_leaf_nodes': 50},\n",
       "  {'max_depth': 8, 'max_features': 5, 'max_leaf_nodes': 20},\n",
       "  {'max_depth': 8, 'max_features': 5, 'max_leaf_nodes': 22},\n",
       "  {'max_depth': 8, 'max_features': 5, 'max_leaf_nodes': 30},\n",
       "  {'max_depth': 8, 'max_features': 5, 'max_leaf_nodes': 50},\n",
       "  {'max_depth': 8, 'max_features': 10, 'max_leaf_nodes': 20},\n",
       "  {'max_depth': 8, 'max_features': 10, 'max_leaf_nodes': 22},\n",
       "  {'max_depth': 8, 'max_features': 10, 'max_leaf_nodes': 30},\n",
       "  {'max_depth': 8, 'max_features': 10, 'max_leaf_nodes': 50},\n",
       "  {'max_depth': 8, 'max_features': 15, 'max_leaf_nodes': 20},\n",
       "  {'max_depth': 8, 'max_features': 15, 'max_leaf_nodes': 22},\n",
       "  {'max_depth': 8, 'max_features': 15, 'max_leaf_nodes': 30},\n",
       "  {'max_depth': 8, 'max_features': 15, 'max_leaf_nodes': 50},\n",
       "  {'max_depth': 10, 'max_features': 5, 'max_leaf_nodes': 20},\n",
       "  {'max_depth': 10, 'max_features': 5, 'max_leaf_nodes': 22},\n",
       "  {'max_depth': 10, 'max_features': 5, 'max_leaf_nodes': 30},\n",
       "  {'max_depth': 10, 'max_features': 5, 'max_leaf_nodes': 50},\n",
       "  {'max_depth': 10, 'max_features': 10, 'max_leaf_nodes': 20},\n",
       "  {'max_depth': 10, 'max_features': 10, 'max_leaf_nodes': 22},\n",
       "  {'max_depth': 10, 'max_features': 10, 'max_leaf_nodes': 30},\n",
       "  {'max_depth': 10, 'max_features': 10, 'max_leaf_nodes': 50},\n",
       "  {'max_depth': 10, 'max_features': 15, 'max_leaf_nodes': 20},\n",
       "  {'max_depth': 10, 'max_features': 15, 'max_leaf_nodes': 22},\n",
       "  {'max_depth': 10, 'max_features': 15, 'max_leaf_nodes': 30},\n",
       "  {'max_depth': 10, 'max_features': 15, 'max_leaf_nodes': 50},\n",
       "  {'max_depth': 12, 'max_features': 5, 'max_leaf_nodes': 20},\n",
       "  {'max_depth': 12, 'max_features': 5, 'max_leaf_nodes': 22},\n",
       "  {'max_depth': 12, 'max_features': 5, 'max_leaf_nodes': 30},\n",
       "  {'max_depth': 12, 'max_features': 5, 'max_leaf_nodes': 50},\n",
       "  {'max_depth': 12, 'max_features': 10, 'max_leaf_nodes': 20},\n",
       "  {'max_depth': 12, 'max_features': 10, 'max_leaf_nodes': 22},\n",
       "  {'max_depth': 12, 'max_features': 10, 'max_leaf_nodes': 30},\n",
       "  {'max_depth': 12, 'max_features': 10, 'max_leaf_nodes': 50},\n",
       "  {'max_depth': 12, 'max_features': 15, 'max_leaf_nodes': 20},\n",
       "  {'max_depth': 12, 'max_features': 15, 'max_leaf_nodes': 22},\n",
       "  {'max_depth': 12, 'max_features': 15, 'max_leaf_nodes': 30},\n",
       "  {'max_depth': 12, 'max_features': 15, 'max_leaf_nodes': 50},\n",
       "  {'max_depth': 14, 'max_features': 5, 'max_leaf_nodes': 20},\n",
       "  {'max_depth': 14, 'max_features': 5, 'max_leaf_nodes': 22},\n",
       "  {'max_depth': 14, 'max_features': 5, 'max_leaf_nodes': 30},\n",
       "  {'max_depth': 14, 'max_features': 5, 'max_leaf_nodes': 50},\n",
       "  {'max_depth': 14, 'max_features': 10, 'max_leaf_nodes': 20},\n",
       "  {'max_depth': 14, 'max_features': 10, 'max_leaf_nodes': 22},\n",
       "  {'max_depth': 14, 'max_features': 10, 'max_leaf_nodes': 30},\n",
       "  {'max_depth': 14, 'max_features': 10, 'max_leaf_nodes': 50},\n",
       "  {'max_depth': 14, 'max_features': 15, 'max_leaf_nodes': 20},\n",
       "  {'max_depth': 14, 'max_features': 15, 'max_leaf_nodes': 22},\n",
       "  {'max_depth': 14, 'max_features': 15, 'max_leaf_nodes': 30},\n",
       "  {'max_depth': 14, 'max_features': 15, 'max_leaf_nodes': 50}],\n",
       " 'split0_test_score': array([0.89996514, 0.89996514, 0.90135936, 0.90170791, 0.9032764 ,\n",
       "        0.90362496, 0.90432206, 0.90397351, 0.90292785, 0.90379923,\n",
       "        0.90449634, 0.90536772, 0.89996514, 0.9003137 , 0.90205647,\n",
       "        0.90379923, 0.9032764 , 0.90397351, 0.90501917, 0.90536772,\n",
       "        0.90310213, 0.90345068, 0.90484489, 0.905542  , 0.9003137 ,\n",
       "        0.9003137 , 0.90223074, 0.90536772, 0.90362496, 0.9032764 ,\n",
       "        0.90519345, 0.90589055, 0.90345068, 0.90345068, 0.90467062,\n",
       "        0.90536772, 0.9003137 , 0.9003137 , 0.90223074, 0.90449634,\n",
       "        0.90362496, 0.9032764 , 0.90501917, 0.90589055, 0.90345068,\n",
       "        0.90345068, 0.90467062, 0.90571628, 0.9003137 , 0.9003137 ,\n",
       "        0.90223074, 0.90432206, 0.90362496, 0.9032764 , 0.90501917,\n",
       "        0.90606483, 0.90345068, 0.90345068, 0.90467062, 0.90571628]),\n",
       " 'split1_test_score': array([0.89768172, 0.89803033, 0.89872756, 0.89959909, 0.89820464,\n",
       "        0.89820464, 0.89907617, 0.89959909, 0.89837894, 0.89855325,\n",
       "        0.89959909, 0.90029632, 0.89628726, 0.89785602, 0.89890187,\n",
       "        0.90047063, 0.89785602, 0.89820464, 0.89907617, 0.90047063,\n",
       "        0.89872756, 0.89959909, 0.89872756, 0.90099355, 0.89663587,\n",
       "        0.89785602, 0.89855325, 0.90047063, 0.89785602, 0.89820464,\n",
       "        0.89907617, 0.90099355, 0.89872756, 0.89959909, 0.89855325,\n",
       "        0.90186509, 0.89663587, 0.89785602, 0.89837894, 0.90047063,\n",
       "        0.89785602, 0.89820464, 0.89925048, 0.90099355, 0.89872756,\n",
       "        0.89959909, 0.89855325, 0.90116786, 0.89663587, 0.89785602,\n",
       "        0.89837894, 0.89994771, 0.89785602, 0.89820464, 0.89925048,\n",
       "        0.90134216, 0.89872756, 0.89959909, 0.89855325, 0.90134216]),\n",
       " 'split2_test_score': array([0.89783821, 0.89748954, 0.89853556, 0.89923291, 0.89853556,\n",
       "        0.89958159, 0.90045328, 0.90045328, 0.89993026, 0.90027894,\n",
       "        0.90115063, 0.9014993 , 0.8973152 , 0.89748954, 0.89923291,\n",
       "        0.90219665, 0.89940725, 0.89923291, 0.902894  , 0.90341702,\n",
       "        0.90062762, 0.90097629, 0.90271967, 0.90481172, 0.89748954,\n",
       "        0.89748954, 0.89905858, 0.9014993 , 0.89923291, 0.89940725,\n",
       "        0.90306834, 0.90341702, 0.90062762, 0.90080195, 0.90324268,\n",
       "        0.90463738, 0.89748954, 0.89748954, 0.89888424, 0.90237099,\n",
       "        0.89923291, 0.89940725, 0.902894  , 0.90306834, 0.90062762,\n",
       "        0.90080195, 0.90324268, 0.90446304, 0.89748954, 0.89748954,\n",
       "        0.89888424, 0.90254533, 0.89923291, 0.89940725, 0.902894  ,\n",
       "        0.902894  , 0.90062762, 0.90080195, 0.90324268, 0.90446304]),\n",
       " 'split3_test_score': array([0.90115063, 0.90115063, 0.90167364, 0.90271967, 0.90394003,\n",
       "        0.90411437, 0.90550907, 0.9056834 , 0.90463738, 0.90516039,\n",
       "        0.90603208, 0.90638075, 0.90062762, 0.9014993 , 0.90219665,\n",
       "        0.90463738, 0.9042887 , 0.90498605, 0.90672943, 0.90777545,\n",
       "        0.90463738, 0.90481172, 0.90620642, 0.90725244, 0.90062762,\n",
       "        0.90115063, 0.90237099, 0.90446304, 0.90394003, 0.90481172,\n",
       "        0.90638075, 0.90672943, 0.90463738, 0.90481172, 0.90585774,\n",
       "        0.90585774, 0.90062762, 0.90115063, 0.90184798, 0.90463738,\n",
       "        0.90394003, 0.90481172, 0.90638075, 0.90655509, 0.90463738,\n",
       "        0.90481172, 0.90585774, 0.90603208, 0.90062762, 0.90115063,\n",
       "        0.90184798, 0.90481172, 0.90394003, 0.90481172, 0.90638075,\n",
       "        0.90655509, 0.90463738, 0.90481172, 0.90585774, 0.90585774]),\n",
       " 'split4_test_score': array([0.90132497, 0.90184798, 0.90306834, 0.90394003, 0.90376569,\n",
       "        0.90411437, 0.9042887 , 0.90498605, 0.90237099, 0.902894  ,\n",
       "        0.90394003, 0.90533473, 0.9014993 , 0.90202232, 0.90271967,\n",
       "        0.90394003, 0.90394003, 0.902894  , 0.90376569, 0.90603208,\n",
       "        0.90219665, 0.90184798, 0.90394003, 0.90585774, 0.9014993 ,\n",
       "        0.90219665, 0.902894  , 0.90463738, 0.9042887 , 0.90306834,\n",
       "        0.90341702, 0.90585774, 0.90219665, 0.90184798, 0.90394003,\n",
       "        0.90725244, 0.9014993 , 0.90219665, 0.90254533, 0.90481172,\n",
       "        0.9042887 , 0.90306834, 0.90359135, 0.90638075, 0.90219665,\n",
       "        0.90184798, 0.90394003, 0.90725244, 0.9014993 , 0.90219665,\n",
       "        0.90254533, 0.90463738, 0.9042887 , 0.90306834, 0.90359135,\n",
       "        0.90638075, 0.90219665, 0.90184798, 0.90394003, 0.90725244]),\n",
       " 'mean_test_score': array([0.89959209, 0.89969668, 0.90067287, 0.90143988, 0.90154447,\n",
       "        0.90192797, 0.90272984, 0.90293902, 0.90164906, 0.90213715,\n",
       "        0.90304361, 0.90377576, 0.89913886, 0.89983614, 0.90102151,\n",
       "        0.90300875, 0.90175365, 0.90185824, 0.90349684, 0.90461249,\n",
       "        0.90185824, 0.90213715, 0.90328766, 0.9048914 , 0.89931318,\n",
       "        0.89980128, 0.90102151, 0.90328766, 0.90178852, 0.90175365,\n",
       "        0.90342712, 0.90457762, 0.90192797, 0.90210229, 0.9032528 ,\n",
       "        0.90499599, 0.89931318, 0.89980128, 0.90077746, 0.90335739,\n",
       "        0.90178852, 0.90175365, 0.90342712, 0.90457762, 0.90192797,\n",
       "        0.90210229, 0.9032528 , 0.90492626, 0.89931318, 0.89980128,\n",
       "        0.90077746, 0.9032528 , 0.90178852, 0.90175365, 0.90342712,\n",
       "        0.90464735, 0.90192797, 0.90210229, 0.9032528 , 0.90492626]),\n",
       " 'std_test_score': array([0.00156819, 0.00170067, 0.00176423, 0.00180103, 0.00260306,\n",
       "        0.00252227, 0.00249885, 0.0024546 , 0.00222415, 0.00239887,\n",
       "        0.00233636, 0.00240996, 0.00199638, 0.00185472, 0.00161416,\n",
       "        0.00149975, 0.0026162 , 0.00266727, 0.00255914, 0.00249696,\n",
       "        0.00203475, 0.00183039, 0.00254904, 0.00210389, 0.00189743,\n",
       "        0.0018411 , 0.00182947, 0.00193208, 0.00269251, 0.00250997,\n",
       "        0.00248615, 0.00210646, 0.00208162, 0.00185368, 0.00250421,\n",
       "        0.00178346, 0.00189743, 0.0018411 , 0.00177317, 0.00169455,\n",
       "        0.00269251, 0.00250997, 0.00240894, 0.00219131, 0.00208162,\n",
       "        0.00185368, 0.00250421, 0.0020784 , 0.00189743, 0.0018411 ,\n",
       "        0.00177317, 0.00183931, 0.00269251, 0.00250997, 0.00240894,\n",
       "        0.00212848, 0.00208162, 0.00185368, 0.00250421, 0.00199818]),\n",
       " 'rank_test_score': array([56, 55, 50, 45, 44, 30, 24, 23, 43, 25, 21,  9, 60, 51, 46, 22, 39,\n",
       "        34, 10,  6, 34, 25, 15,  4, 57, 52, 46, 15, 36, 39, 11,  7, 30, 27,\n",
       "        17,  1, 57, 52, 48, 14, 36, 39, 11,  7, 30, 27, 17,  2, 57, 52, 48,\n",
       "        17, 36, 39, 11,  5, 30, 27, 17,  2]),\n",
       " 'split0_train_score': array([0.90132927, 0.90215733, 0.90429287, 0.90777947, 0.90599259,\n",
       "        0.90668991, 0.90825888, 0.91200697, 0.90725648, 0.90769231,\n",
       "        0.9096971 , 0.91409893, 0.9012421 , 0.90207017, 0.90468512,\n",
       "        0.9117019 , 0.90616692, 0.90703857, 0.91091741, 0.9164088 ,\n",
       "        0.90751798, 0.90891262, 0.91205056, 0.91710612, 0.9012421 ,\n",
       "        0.90202659, 0.9047287 , 0.91209414, 0.90616692, 0.90690782,\n",
       "        0.91109174, 0.91697538, 0.90738723, 0.90917411, 0.91174548,\n",
       "        0.9174112 , 0.9012421 , 0.90202659, 0.90485945, 0.91239922,\n",
       "        0.90616692, 0.90695141, 0.91100458, 0.91719329, 0.90738723,\n",
       "        0.90917411, 0.91183264, 0.91775986, 0.9012421 , 0.90202659,\n",
       "        0.90485945, 0.91257355, 0.90616692, 0.90695141, 0.91100458,\n",
       "        0.91714971, 0.90738723, 0.90917411, 0.91183264, 0.91775986]),\n",
       " 'split1_train_score': array([0.90251024, 0.90325111, 0.90516866, 0.9082193 , 0.9050815 ,\n",
       "        0.90525582, 0.90734769, 0.9111392 , 0.90643249, 0.90691188,\n",
       "        0.90913449, 0.91192365, 0.90290247, 0.90346901, 0.90556088,\n",
       "        0.91035475, 0.90521224, 0.90604027, 0.90909091, 0.91501787,\n",
       "        0.90760917, 0.90782707, 0.91057265, 0.91623812, 0.90272814,\n",
       "        0.90359976, 0.9055173 , 0.91092129, 0.90525582, 0.90599669,\n",
       "        0.90913449, 0.91567158, 0.90765275, 0.90787065, 0.91057265,\n",
       "        0.91702257, 0.90272814, 0.90359976, 0.90543014, 0.91061623,\n",
       "        0.90525582, 0.90599669, 0.90909091, 0.91593306, 0.90765275,\n",
       "        0.90787065, 0.91057265, 0.91697899, 0.90272814, 0.90359976,\n",
       "        0.90543014, 0.91074697, 0.90525582, 0.90599669, 0.90909091,\n",
       "        0.91597664, 0.90765275, 0.90787065, 0.91057265, 0.91689183]),\n",
       " 'split2_train_score': array([0.90103281, 0.90111997, 0.90308101, 0.90639299, 0.90347322,\n",
       "        0.90421406, 0.90634941, 0.90992287, 0.90399617, 0.90504205,\n",
       "        0.90774393, 0.91057655, 0.90138144, 0.90155576, 0.90373469,\n",
       "        0.91057655, 0.90386543, 0.90456269, 0.90774393, 0.91523946,\n",
       "        0.90530353, 0.90595721, 0.90948708, 0.9165904 , 0.90138144,\n",
       "        0.90159934, 0.90377827, 0.9112738 , 0.90382185, 0.90478058,\n",
       "        0.90813614, 0.91645967, 0.90530353, 0.90582647, 0.90979213,\n",
       "        0.91750556, 0.90125071, 0.90159934, 0.90369111, 0.91118665,\n",
       "        0.90382185, 0.90478058, 0.90817972, 0.91628535, 0.90530353,\n",
       "        0.90582647, 0.90970497, 0.91754913, 0.90125071, 0.90159934,\n",
       "        0.90369111, 0.91140454, 0.90382185, 0.90478058, 0.90817972,\n",
       "        0.91637251, 0.90530353, 0.90582647, 0.90970497, 0.91759271]),\n",
       " 'split3_train_score': array([0.90064061, 0.90129429, 0.9041269 , 0.90752604, 0.90342964,\n",
       "        0.90460627, 0.9080054 , 0.91136096, 0.90600078, 0.90661089,\n",
       "        0.90804898, 0.9112738 , 0.90055345, 0.90138144, 0.90408332,\n",
       "        0.91175317, 0.90491132, 0.90565215, 0.91031507, 0.91641609,\n",
       "        0.90626226, 0.90709025, 0.91079444, 0.91794134, 0.90042271,\n",
       "        0.90120713, 0.90460627, 0.91258117, 0.90491132, 0.905565  ,\n",
       "        0.91048939, 0.91728766, 0.90621868, 0.90687236, 0.91096875,\n",
       "        0.91964091, 0.90050987, 0.90120713, 0.90447553, 0.9127119 ,\n",
       "        0.90491132, 0.905565  , 0.91048939, 0.91728766, 0.90621868,\n",
       "        0.90687236, 0.91114307, 0.91990238, 0.90050987, 0.90120713,\n",
       "        0.90447553, 0.9127119 , 0.90491132, 0.905565  , 0.91048939,\n",
       "        0.91728766, 0.90621868, 0.90687236, 0.91114307, 0.91990238]),\n",
       " 'split4_train_score': array([0.90125071, 0.90181723, 0.90390901, 0.90652373, 0.904737  ,\n",
       "        0.90547784, 0.90839761, 0.91188391, 0.90726457, 0.90774393,\n",
       "        0.90979213, 0.91327842, 0.90120713, 0.90225302, 0.90478058,\n",
       "        0.91075086, 0.9053471 , 0.90630584, 0.90900771, 0.91480368,\n",
       "        0.90756962, 0.90835403, 0.91014076, 0.91593672, 0.90111997,\n",
       "        0.9022966 , 0.90478058, 0.91109949, 0.9053471 , 0.90634941,\n",
       "        0.90913845, 0.91563167, 0.90756962, 0.90826688, 0.91035865,\n",
       "        0.9168083 , 0.90103281, 0.90238375, 0.90486774, 0.91144812,\n",
       "        0.9053471 , 0.90634941, 0.90918203, 0.91550094, 0.90756962,\n",
       "        0.90826688, 0.91031507, 0.91663398, 0.90103281, 0.90238375,\n",
       "        0.90482416, 0.91136096, 0.9053471 , 0.90634941, 0.90918203,\n",
       "        0.91545736, 0.90756962, 0.90826688, 0.91031507, 0.91667756]),\n",
       " 'mean_train_score': array([0.90135273, 0.90192799, 0.90411569, 0.90728831, 0.90454279,\n",
       "        0.90524878, 0.9076718 , 0.91126278, 0.9061901 , 0.90680021,\n",
       "        0.90888333, 0.91223027, 0.90145732, 0.90214588, 0.90456892,\n",
       "        0.91102744, 0.9051006 , 0.9059199 , 0.90941501, 0.91557718,\n",
       "        0.90685251, 0.90762824, 0.9106091 , 0.91676254, 0.90137887,\n",
       "        0.90214588, 0.90468222, 0.91159398, 0.9051006 , 0.9059199 ,\n",
       "        0.90959804, 0.91640519, 0.90682636, 0.90760209, 0.91068753,\n",
       "        0.91767771, 0.90135273, 0.90216331, 0.90466479, 0.91167242,\n",
       "        0.9051006 , 0.90592862, 0.90958932, 0.91644006, 0.90682636,\n",
       "        0.90760209, 0.91071368, 0.91776487, 0.90135273, 0.90216331,\n",
       "        0.90465608, 0.91175958, 0.9051006 , 0.90592862, 0.90958932,\n",
       "        0.91644878, 0.90682636, 0.90760209, 0.91071368, 0.91776487]),\n",
       " 'std_train_score': array([0.00062614, 0.00075763, 0.00067135, 0.00071424, 0.00098111,\n",
       "        0.00085004, 0.00075319, 0.00074295, 0.00119997, 0.00098243,\n",
       "        0.00084209, 0.00129106, 0.00077719, 0.00073491, 0.00062834,\n",
       "        0.00058547, 0.00074455, 0.00081591, 0.00110732, 0.00069578,\n",
       "        0.00092492, 0.00102934, 0.00084756, 0.00070629, 0.00075107,\n",
       "        0.00081617, 0.00055355, 0.00063628, 0.00076065, 0.00071977,\n",
       "        0.00105725, 0.00066983, 0.00092068, 0.00115505, 0.00065137,\n",
       "        0.00101389, 0.00073853, 0.00082012, 0.00057423, 0.00077596,\n",
       "        0.00076065, 0.00073185, 0.00102121, 0.00069982, 0.00092068,\n",
       "        0.00115505, 0.00072563, 0.00114123, 0.00073853, 0.00082012,\n",
       "        0.00057141, 0.00075892, 0.00076065, 0.00073185, 0.00102121,\n",
       "        0.00069378, 0.00092068, 0.00115505, 0.00072563, 0.00114395])}"
      ]
     },
     "execution_count": 256,
     "metadata": {},
     "output_type": "execute_result"
    }
   ],
   "source": [
    "grid_search.cv_results_"
   ]
  },
  {
   "cell_type": "code",
   "execution_count": 257,
   "metadata": {},
   "outputs": [
    {
     "name": "stdout",
     "output_type": "stream",
     "text": [
      "{'max_depth': 10, 'max_features': 15, 'max_leaf_nodes': 50}\n",
      "0.9049959906564864\n"
     ]
    }
   ],
   "source": [
    "print(grid_search.best_params_)\n",
    "print(grid_search.best_score_)"
   ]
  },
  {
   "cell_type": "code",
   "execution_count": 259,
   "metadata": {},
   "outputs": [
    {
     "data": {
      "text/plain": [
       "RandomForestClassifier(bootstrap=True, class_weight=None, criterion='gini',\n",
       "                       max_depth=12, max_features=15, max_leaf_nodes=50,\n",
       "                       min_impurity_decrease=0.0, min_impurity_split=None,\n",
       "                       min_samples_leaf=1, min_samples_split=2,\n",
       "                       min_weight_fraction_leaf=0.0, n_estimators=300,\n",
       "                       n_jobs=None, oob_score=False, random_state=None,\n",
       "                       verbose=0, warm_start=False)"
      ]
     },
     "execution_count": 259,
     "metadata": {},
     "output_type": "execute_result"
    }
   ],
   "source": [
    "rf_clf_pca = RandomForestClassifier(n_estimators=300, criterion='gini',max_features=15,max_depth=12,max_leaf_nodes=50)\n",
    "rf_clf_pca.fit(X_train_pca, y_train)"
   ]
  },
  {
   "cell_type": "code",
   "execution_count": 260,
   "metadata": {},
   "outputs": [
    {
     "name": "stdout",
     "output_type": "stream",
     "text": [
      "Train score: 0.9149321897988355\n",
      "Test score: 0.9117339468730391\n"
     ]
    }
   ],
   "source": [
    "y_pred_train = rf_clf_pca.predict(X_train_pca)\n",
    "y_pred_test = rf_clf_pca.predict(X_test_pca)\n",
    "\n",
    "rf_clf_pca_train_score = accuracy_score(y_train, y_pred_train)\n",
    "rf_clf_pca_test_score = accuracy_score(y_test, y_pred_test)\n",
    "\n",
    "print('Train score: {}'\n",
    "      .format(rf_clf_pca_train_score))\n",
    "print('Test score: {}'\n",
    "      .format(rf_clf_pca_test_score))\n",
    "\n",
    "metrics.confusion_matrix(y_test, y_pred_test)\n",
    "\n",
    "y_scores = rf_clf_pca.predict_proba(X_test_pca)\n"
   ]
  },
  {
   "cell_type": "markdown",
   "metadata": {},
   "source": [
    "## Comparing Normal models and PCA Models "
   ]
  },
  {
   "cell_type": "code",
   "execution_count": 275,
   "metadata": {},
   "outputs": [],
   "source": [
    "train_scores= [knn.score(X_train, y_train), logreg.score(X_train, y_train), lsvm.score(X_train, y_train), svc_obj.score(X_train, y_train), \n",
    "                      dtree.score(X_train, y_train), rf_train_score, knn_pca_train_score,\n",
    "                      logreg_pca_train_score, LSVC_clf_pca_train_score, KSVC_clf_pca_train_score, \n",
    "                      dt_clf_pca_train_score, rf_clf_pca_train_score] \n",
    "\n",
    "test_scores= [knn.score(X_test, y_test),logreg.score(X_test, y_test), lsvm.score(X_train, y_train), svc_obj.score(X_test, y_test),\n",
    "                     dtree.score(X_train, y_train), rf_test_score, knn_pca_train_score,\n",
    "                     logreg_pca_test_score, LSVC_clf_pca_test_score,KSVC_clf_pca_test_score, \n",
    "                     dt_clf_pca_test_score, rf_clf_pca_test_score]\n",
    "\n",
    "classifiers = ['KNN Clasification', 'Logistic Regression', 'Linear SVM', 'Kernelized SVM', 'Decision Tree',\n",
    "               'Random Forest', 'KNN Classification with PCA', 'Logistic Regression with PCA', 'Linear SVM with PCA',\n",
    "               'Kernalised SVM with PCA', 'Decision Trees with PCA', 'Random Forest with PCA']"
   ]
  },
  {
   "cell_type": "code",
   "execution_count": 276,
   "metadata": {},
   "outputs": [],
   "source": [
    "tab = pd.DataFrame ([train_scores, test_scores], columns=classifiers, index=['Train Score', 'Test Score'])\n",
    "tab =tab.T"
   ]
  },
  {
   "cell_type": "code",
   "execution_count": 277,
   "metadata": {},
   "outputs": [
    {
     "data": {
      "text/html": [
       "<div>\n",
       "<style scoped>\n",
       "    .dataframe tbody tr th:only-of-type {\n",
       "        vertical-align: middle;\n",
       "    }\n",
       "\n",
       "    .dataframe tbody tr th {\n",
       "        vertical-align: top;\n",
       "    }\n",
       "\n",
       "    .dataframe thead th {\n",
       "        text-align: right;\n",
       "    }\n",
       "</style>\n",
       "<table border=\"1\" class=\"dataframe\">\n",
       "  <thead>\n",
       "    <tr style=\"text-align: right;\">\n",
       "      <th></th>\n",
       "      <th>Train Score</th>\n",
       "      <th>Test Score</th>\n",
       "    </tr>\n",
       "  </thead>\n",
       "  <tbody>\n",
       "    <tr>\n",
       "      <td>KNN Clasification</td>\n",
       "      <td>0.909145</td>\n",
       "      <td>0.908597</td>\n",
       "    </tr>\n",
       "    <tr>\n",
       "      <td>Logistic Regression</td>\n",
       "      <td>0.907436</td>\n",
       "      <td>0.912989</td>\n",
       "    </tr>\n",
       "    <tr>\n",
       "      <td>Linear SVM</td>\n",
       "      <td>0.905833</td>\n",
       "      <td>0.905833</td>\n",
       "    </tr>\n",
       "    <tr>\n",
       "      <td>Kernelized SVM</td>\n",
       "      <td>0.914688</td>\n",
       "      <td>0.910897</td>\n",
       "    </tr>\n",
       "    <tr>\n",
       "      <td>Decision Tree</td>\n",
       "      <td>0.910679</td>\n",
       "      <td>0.910679</td>\n",
       "    </tr>\n",
       "    <tr>\n",
       "      <td>Random Forest</td>\n",
       "      <td>0.921417</td>\n",
       "      <td>0.915394</td>\n",
       "    </tr>\n",
       "    <tr>\n",
       "      <td>KNN Classification with PCA</td>\n",
       "      <td>0.910016</td>\n",
       "      <td>0.910016</td>\n",
       "    </tr>\n",
       "    <tr>\n",
       "      <td>Logistic Regression with PCA</td>\n",
       "      <td>0.906495</td>\n",
       "      <td>0.915081</td>\n",
       "    </tr>\n",
       "    <tr>\n",
       "      <td>Linear SVM with PCA</td>\n",
       "      <td>0.897012</td>\n",
       "      <td>0.902113</td>\n",
       "    </tr>\n",
       "    <tr>\n",
       "      <td>Kernalised SVM with PCA</td>\n",
       "      <td>0.925356</td>\n",
       "      <td>0.911316</td>\n",
       "    </tr>\n",
       "    <tr>\n",
       "      <td>Decision Trees with PCA</td>\n",
       "      <td>0.909563</td>\n",
       "      <td>0.903577</td>\n",
       "    </tr>\n",
       "    <tr>\n",
       "      <td>Random Forest with PCA</td>\n",
       "      <td>0.914932</td>\n",
       "      <td>0.911734</td>\n",
       "    </tr>\n",
       "  </tbody>\n",
       "</table>\n",
       "</div>"
      ],
      "text/plain": [
       "                              Train Score  Test Score\n",
       "KNN Clasification                0.909145    0.908597\n",
       "Logistic Regression              0.907436    0.912989\n",
       "Linear SVM                       0.905833    0.905833\n",
       "Kernelized SVM                   0.914688    0.910897\n",
       "Decision Tree                    0.910679    0.910679\n",
       "Random Forest                    0.921417    0.915394\n",
       "KNN Classification with PCA      0.910016    0.910016\n",
       "Logistic Regression with PCA     0.906495    0.915081\n",
       "Linear SVM with PCA              0.897012    0.902113\n",
       "Kernalised SVM with PCA          0.925356    0.911316\n",
       "Decision Trees with PCA          0.909563    0.903577\n",
       "Random Forest with PCA           0.914932    0.911734"
      ]
     },
     "execution_count": 277,
     "metadata": {},
     "output_type": "execute_result"
    }
   ],
   "source": [
    "tab"
   ]
  },
  {
   "cell_type": "markdown",
   "metadata": {},
   "source": [
    "From the below table, we could observe that almost every algorithm is performing similarly. \n",
    "This can be due to the reason that data may be clearly separated or can be classified using simple rules.\n",
    "For example, decision tree with depth of 4 is giving accuracy of 91% with both train and validation. \n",
    "\n",
    "So for this problem, we look at other metrics such as AUC/ROC for model comparision."
   ]
  },
  {
   "cell_type": "code",
   "execution_count": 278,
   "metadata": {},
   "outputs": [
    {
     "data": {
      "image/png": "[encoded data removed]",
      "text/plain": [
       "<Figure size 1008x216 with 1 Axes>"
      ]
     },
     "metadata": {
      "needs_background": "light"
     },
     "output_type": "display_data"
    }
   ],
   "source": [
    "\n",
    "tab.plot(kind='bar', figsize=(14,3), color='gbmykc',  edgecolor='k')\n",
    "\n",
    "plt.title('Train & Test Scores of Classifiers')\n",
    "plt.xlabel('Models')\n",
    "plt.ylabel('Scores')\n",
    "plt.legend(loc=4 , bbox_to_anchor=(1.2, 0))\n",
    "plt.show();"
   ]
  },
  {
   "cell_type": "markdown",
   "metadata": {},
   "source": [
    "# Deep learning"
   ]
  },
  {
   "cell_type": "code",
   "execution_count": 190,
   "metadata": {},
   "outputs": [
    {
     "name": "stdout",
     "output_type": "stream",
     "text": [
      "Requirement already satisfied: keras in c:\\users\\srira\\anaconda3\\lib\\site-packages (2.3.1)\n",
      "Requirement already satisfied: numpy>=1.9.1 in c:\\users\\srira\\anaconda3\\lib\\site-packages (from keras) (1.16.5)\n",
      "Requirement already satisfied: keras-applications>=1.0.6 in c:\\users\\srira\\anaconda3\\lib\\site-packages (from keras) (1.0.8)\n",
      "Requirement already satisfied: scipy>=0.14 in c:\\users\\srira\\appdata\\roaming\\python\\python37\\site-packages (from keras) (1.4.1)\n",
      "Requirement already satisfied: h5py in c:\\users\\srira\\anaconda3\\lib\\site-packages (from keras) (2.10.0)\n",
      "Requirement already satisfied: keras-preprocessing>=1.0.5 in c:\\users\\srira\\anaconda3\\lib\\site-packages (from keras) (1.1.2)\n",
      "Requirement already satisfied: six>=1.9.0 in c:\\users\\srira\\anaconda3\\lib\\site-packages (from keras) (1.12.0)\n",
      "Requirement already satisfied: pyyaml in c:\\users\\srira\\anaconda3\\lib\\site-packages (from keras) (5.1.2)\n",
      "Note: you may need to restart the kernel to use updated packages.\n"
     ]
    }
   ],
   "source": [
    "pip install keras"
   ]
  },
  {
   "cell_type": "code",
   "execution_count": 191,
   "metadata": {},
   "outputs": [],
   "source": [
    "from keras.models import Sequential\n",
    "from keras.layers import Dense\n",
    "import tensorflow as tf\n",
    "import numpy\n",
    "from keras.wrappers.scikit_learn import KerasRegressor\n",
    "from sklearn.model_selection import GridSearchCV\n",
    "\n",
    "# fix random seed for reproducibility\n",
    "numpy.random.seed(10)"
   ]
  },
  {
   "cell_type": "code",
   "execution_count": 211,
   "metadata": {},
   "outputs": [],
   "source": [
    "from keras.models import Sequential\n",
    "from keras.layers import Dense\n",
    "from keras.wrappers.scikit_learn import KerasClassifier"
   ]
  },
  {
   "cell_type": "code",
   "execution_count": 282,
   "metadata": {},
   "outputs": [],
   "source": [
    "model = Sequential()\n",
    "model.add(Dense(12, input_dim=X_train.shape[1], activation='relu'))\n",
    "model.add(Dense(8, activation='relu'))\n",
    "model.add(Dense(1, activation='sigmoid'))"
   ]
  },
  {
   "cell_type": "code",
   "execution_count": 283,
   "metadata": {},
   "outputs": [],
   "source": [
    "#compile model\n",
    "model.compile(loss='binary_crossentropy', optimizer='adam', metrics=['accuracy'])"
   ]
  },
  {
   "cell_type": "code",
   "execution_count": 286,
   "metadata": {},
   "outputs": [
    {
     "name": "stdout",
     "output_type": "stream",
     "text": [
      "Epoch 1/50\n",
      "28683/28683 [==============================] - 2s 70us/step - loss: 0.1929 - accuracy: 0.9100\n",
      "Epoch 2/50\n",
      "28683/28683 [==============================] - 2s 67us/step - loss: 0.1918 - accuracy: 0.9103\n",
      "Epoch 3/50\n",
      "28683/28683 [==============================] - 2s 67us/step - loss: 0.1909 - accuracy: 0.9096\n",
      "Epoch 4/50\n",
      "28683/28683 [==============================] - 2s 68us/step - loss: 0.1898 - accuracy: 0.9105\n",
      "Epoch 5/50\n",
      "28683/28683 [==============================] - 2s 72us/step - loss: 0.1887 - accuracy: 0.9108\n",
      "Epoch 6/50\n",
      "28683/28683 [==============================] - 2s 69us/step - loss: 0.1880 - accuracy: 0.9117\n",
      "Epoch 7/50\n",
      "28683/28683 [==============================] - 2s 69us/step - loss: 0.1876 - accuracy: 0.9114\n",
      "Epoch 8/50\n",
      "28683/28683 [==============================] - 2s 70us/step - loss: 0.1870 - accuracy: 0.9112\n",
      "Epoch 9/50\n",
      "28683/28683 [==============================] - 2s 72us/step - loss: 0.1865 - accuracy: 0.9107\n",
      "Epoch 10/50\n",
      "28683/28683 [==============================] - 2s 72us/step - loss: 0.1861 - accuracy: 0.9118\n",
      "Epoch 11/50\n",
      "28683/28683 [==============================] - 2s 72us/step - loss: 0.1864 - accuracy: 0.9109\n",
      "Epoch 12/50\n",
      "28683/28683 [==============================] - 2s 73us/step - loss: 0.1855 - accuracy: 0.9121\n",
      "Epoch 13/50\n",
      "28683/28683 [==============================] - 2s 72us/step - loss: 0.1853 - accuracy: 0.9130\n",
      "Epoch 14/50\n",
      "28683/28683 [==============================] - 2s 73us/step - loss: 0.1854 - accuracy: 0.9132\n",
      "Epoch 15/50\n",
      "28683/28683 [==============================] - 2s 72us/step - loss: 0.1852 - accuracy: 0.9124\n",
      "Epoch 16/50\n",
      "28683/28683 [==============================] - 2s 70us/step - loss: 0.1848 - accuracy: 0.9128\n",
      "Epoch 17/50\n",
      "28683/28683 [==============================] - 2s 69us/step - loss: 0.1850 - accuracy: 0.9134\n",
      "Epoch 18/50\n",
      "28683/28683 [==============================] - 2s 72us/step - loss: 0.1848 - accuracy: 0.9114\n",
      "Epoch 19/50\n",
      "28683/28683 [==============================] - 2s 72us/step - loss: 0.1842 - accuracy: 0.9138\n",
      "Epoch 20/50\n",
      "28683/28683 [==============================] - 2s 73us/step - loss: 0.1840 - accuracy: 0.9135\n",
      "Epoch 21/50\n",
      "28683/28683 [==============================] - 2s 81us/step - loss: 0.1841 - accuracy: 0.9125\n",
      "Epoch 22/50\n",
      "28683/28683 [==============================] - 2s 77us/step - loss: 0.1837 - accuracy: 0.9113\n",
      "Epoch 23/50\n",
      "28683/28683 [==============================] - 2s 72us/step - loss: 0.1836 - accuracy: 0.9121\n",
      "Epoch 24/50\n",
      "28683/28683 [==============================] - 2s 73us/step - loss: 0.1830 - accuracy: 0.9137\n",
      "Epoch 25/50\n",
      "28683/28683 [==============================] - 2s 74us/step - loss: 0.1833 - accuracy: 0.9132\n",
      "Epoch 26/50\n",
      "28683/28683 [==============================] - 2s 71us/step - loss: 0.1831 - accuracy: 0.9122\n",
      "Epoch 27/50\n",
      "28683/28683 [==============================] - 2s 69us/step - loss: 0.1828 - accuracy: 0.9127\n",
      "Epoch 28/50\n",
      "28683/28683 [==============================] - 2s 69us/step - loss: 0.1828 - accuracy: 0.9142\n",
      "Epoch 29/50\n",
      "28683/28683 [==============================] - ETA: 0s - loss: 0.1820 - accuracy: 0.91 - 2s 69us/step - loss: 0.1823 - accuracy: 0.9142\n",
      "Epoch 30/50\n",
      "28683/28683 [==============================] - 2s 70us/step - loss: 0.1821 - accuracy: 0.9141\n",
      "Epoch 31/50\n",
      "28683/28683 [==============================] - 2s 70us/step - loss: 0.1824 - accuracy: 0.9137\n",
      "Epoch 32/50\n",
      "28683/28683 [==============================] - 2s 69us/step - loss: 0.1817 - accuracy: 0.9139\n",
      "Epoch 33/50\n",
      "28683/28683 [==============================] - 2s 69us/step - loss: 0.1818 - accuracy: 0.9132\n",
      "Epoch 34/50\n",
      "28683/28683 [==============================] - 2s 69us/step - loss: 0.1815 - accuracy: 0.9148\n",
      "Epoch 35/50\n",
      "28683/28683 [==============================] - 2s 69us/step - loss: 0.1820 - accuracy: 0.9128 0s - loss: 0.1818 - ac\n",
      "Epoch 36/50\n",
      "28683/28683 [==============================] - 2s 70us/step - loss: 0.1815 - accuracy: 0.9154\n",
      "Epoch 37/50\n",
      "28683/28683 [==============================] - 2s 70us/step - loss: 0.1816 - accuracy: 0.9140\n",
      "Epoch 38/50\n",
      "28683/28683 [==============================] - 2s 71us/step - loss: 0.1811 - accuracy: 0.9142\n",
      "Epoch 39/50\n",
      "28683/28683 [==============================] - 2s 70us/step - loss: 0.1815 - accuracy: 0.9140\n",
      "Epoch 40/50\n",
      "28683/28683 [==============================] - 2s 71us/step - loss: 0.1816 - accuracy: 0.9136\n",
      "Epoch 41/50\n",
      "28683/28683 [==============================] - ETA: 0s - loss: 0.1816 - accuracy: 0.91 - 2s 71us/step - loss: 0.1814 - accuracy: 0.9128\n",
      "Epoch 42/50\n",
      "28683/28683 [==============================] - 2s 71us/step - loss: 0.1811 - accuracy: 0.9136\n",
      "Epoch 43/50\n",
      "28683/28683 [==============================] - 2s 70us/step - loss: 0.1806 - accuracy: 0.9147\n",
      "Epoch 44/50\n",
      "28683/28683 [==============================] - 2s 70us/step - loss: 0.1813 - accuracy: 0.9140\n",
      "Epoch 45/50\n",
      "28683/28683 [==============================] - 2s 70us/step - loss: 0.1810 - accuracy: 0.9139\n",
      "Epoch 46/50\n",
      "28683/28683 [==============================] - 2s 70us/step - loss: 0.1808 - accuracy: 0.9151\n",
      "Epoch 47/50\n",
      "28683/28683 [==============================] - 2s 72us/step - loss: 0.1808 - accuracy: 0.9140\n",
      "Epoch 48/50\n",
      "28683/28683 [==============================] - 2s 75us/step - loss: 0.1808 - accuracy: 0.9148\n",
      "Epoch 49/50\n",
      "28683/28683 [==============================] - 2s 75us/step - loss: 0.1807 - accuracy: 0.9144\n",
      "Epoch 50/50\n",
      "28683/28683 [==============================] - 2s 71us/step - loss: 0.1808 - accuracy: 0.9150\n"
     ]
    },
    {
     "data": {
      "text/plain": [
       "<keras.callbacks.callbacks.History at 0x1ebb7dc3c48>"
      ]
     },
     "execution_count": 286,
     "metadata": {},
     "output_type": "execute_result"
    }
   ],
   "source": [
    "model.fit(X_train, y_train, epochs=50, batch_size=10)"
   ]
  },
  {
   "cell_type": "code",
   "execution_count": 287,
   "metadata": {},
   "outputs": [
    {
     "name": "stdout",
     "output_type": "stream",
     "text": [
      "9562/9562 [==============================] - 0s 10us/step\n",
      "\n",
      "accuracy: 91.62%\n"
     ]
    }
   ],
   "source": [
    "scores = model.evaluate(X_test, y_test)\n",
    "print(\"\\n%s: %.2f%%\" % (model.metrics_names[1], scores[1]*100))"
   ]
  },
  {
   "cell_type": "code",
   "execution_count": 291,
   "metadata": {},
   "outputs": [
    {
     "data": {
      "text/plain": [
       "array([[1.9047856e-03],\n",
       "       [3.1274296e-05],\n",
       "       [7.1966648e-03],\n",
       "       ...,\n",
       "       [6.0202289e-01],\n",
       "       [3.8690205e-06],\n",
       "       [3.5674362e-03]], dtype=float32)"
      ]
     },
     "execution_count": 291,
     "metadata": {},
     "output_type": "execute_result"
    }
   ],
   "source": [
    "y_train_predict"
   ]
  },
  {
   "cell_type": "code",
   "execution_count": 302,
   "metadata": {},
   "outputs": [
    {
     "name": "stdout",
     "output_type": "stream",
     "text": [
      "28683/28683 [==============================] - 0s 11us/step\n",
      "9562/9562 [==============================] - 0s 10us/step\n",
      "Train Score : 0.9157\n",
      "Test Score : 0.9162\n"
     ]
    }
   ],
   "source": [
    "train_accuracy = model.evaluate(X_train, y_train)\n",
    "test_accuracy = model.evaluate(X_test, y_test)\n",
    "\n",
    "print('Train Score :',round(train_accuracy[1],4))\n",
    "print('Test Score :', round(test_accuracy[1],4))"
   ]
  },
  {
   "cell_type": "markdown",
   "metadata": {},
   "source": [
    "# Model Comparision using AUC-ROC"
   ]
  },
  {
   "cell_type": "code",
   "execution_count": 247,
   "metadata": {},
   "outputs": [
    {
     "data": {
      "image/png": "[encoded data removed]",
      "text/plain": [
       "<Figure size 432x288 with 1 Axes>"
      ]
     },
     "metadata": {
      "needs_background": "light"
     },
     "output_type": "display_data"
    }
   ],
   "source": [
    "plt.title('Receiver Operating Characteristics')\n",
    "plt.plot(fpr_dt_pca, tpr_dt_pca, 'b', label='DT PCA = %0.2f' % roc_auc_dt_pca)\n",
    "plt.plot(fpr_rf_ada, tpr_rf_ada, 'g', label='RF ADA = %0.2f' % roc_auc_rf_ada)\n",
    "plt.plot(fpr_grad, tpr_grad, 'r', label='Gradi = %0.2f' % roc_auc_grad)\n",
    "plt.plot(fpr_rf_clf, tpr_rf_clf, 'k', label='RF = %0.2f' % roc_auc_rf_clf)\n",
    "plt.plot(fpr_dt_clf, tpr_dt_clf, 'y', label='DTree = %0.2f' % roc_auc_dt_clf)\n",
    "\n",
    "plt.legend(loc = 'lower right')\n",
    "plt.plot([0,1], [0,1], 'r--')\n",
    "plt.xlim([0,1])\n",
    "plt.ylim([0,1])\n",
    "plt.ylabel('True Positive Rate')\n",
    "plt.xlabel('False Positive Rate')\n",
    "plt.show()"
   ]
  },
  {
   "cell_type": "markdown",
   "metadata": {},
   "source": [
    "Since all the algorithms are performing similarly, we observe AUC for better model.\n",
    "From the above ROC Curve, we see that random forest with adaptive boosting and random forest are the best.\n",
    "Ensemble methods are difficult to interpret. Therefore for the sake of interpretability I'm choosing random forest as the top performing model. "
   ]
  }
 ],
 "metadata": {
  "kernelspec": {
   "display_name": "Python 3",
   "language": "python",
   "name": "python3"
  },
  "language_info": {
   "codemirror_mode": {
    "name": "ipython",
    "version": 3
   },
   "file_extension": ".py",
   "mimetype": "text/x-python",
   "name": "python",
   "nbconvert_exporter": "python",
   "pygments_lexer": "ipython3",
   "version": "3.7.4"
  }
 },
 "nbformat": 4,
 "nbformat_minor": 2
}
